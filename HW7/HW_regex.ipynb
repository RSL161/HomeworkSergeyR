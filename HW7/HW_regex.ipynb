{
 "cells": [
  {
   "cell_type": "markdown",
   "metadata": {},
   "source": [
    "## Задание 1\n",
    "Напишите функцию, которая принимает на вход строку и проверяет является ли она валидным транспортным номером (1 буква, 3 цифры, 2 буквы, 2-3 цифры). Обратите внимание, что не все буквы кириллического алфавита используются в транспортных номерах."
   ]
  },
  {
   "cell_type": "code",
   "execution_count": 75,
   "metadata": {
    "scrolled": true
   },
   "outputs": [
    {
     "name": "stdout",
     "output_type": "stream",
     "text": [
      "Номер А222СF валиден.  Регион:  96\n"
     ]
    }
   ],
   "source": [
    "import re\n",
    "car_id = 'А222СF96'\n",
    "\n",
    "number = re.findall(r'\\w{1}\\d{3}\\w{2}',car_id)\n",
    "area = re.findall(r'\\d{2,3}\\Z',car_id)\n",
    "if re.findall(r'\\w{1}\\d{3}\\w{2}\\d{2}',car_id):\n",
    "    print(\"Номер\", ''.join(number), \"валиден.  Регион: \", ''.join(area))\n",
    "    \n",
    "else:\n",
    "    print('Результат : Номер не валиден')\n",
    "\n"
   ]
  },
  {
   "cell_type": "code",
   "execution_count": 74,
   "metadata": {},
   "outputs": [
    {
     "name": "stdout",
     "output_type": "stream",
     "text": [
      "Результат : Номер не валиден\n"
     ]
    }
   ],
   "source": [
    "import re\n",
    "car_id = 'АБ22ВВ193'\n",
    "\n",
    "number = re.findall(r'\\w{1}\\d{3}\\w{2}',car_id)\n",
    "area = re.findall(r'\\d{2,3}\\Z',car_id)\n",
    "if re.findall(r'\\w{1}\\d{3}\\w{2}\\d{2}',car_id):\n",
    "    print(\"Номер\", ''.join(number), \"валиден.  Регион: \", ''.join(area))\n",
    "    \n",
    "else:\n",
    "    print('Результат : Номер не валиден')\n"
   ]
  },
  {
   "cell_type": "markdown",
   "metadata": {},
   "source": [
    "## Задание 2\n",
    "Напишите функцию, которая будет удалять все последовательные повторы слов из заданной строки при помощи регулярных выражений."
   ]
  },
  {
   "cell_type": "code",
   "execution_count": 126,
   "metadata": {},
   "outputs": [
    {
     "name": "stdout",
     "output_type": "stream",
     "text": [
      "Напишите функцию которая будет удалять все последовательные повторы слов из заданной строки при помощи регулярных выражений\n"
     ]
    }
   ],
   "source": [
    "import re\n",
    "some_string = 'Напишите функцию функцию, которая будет будет будет будет удалять все все все все последовательные повторы слов из из из из заданной строки строки при помощи регулярных выражений'\n",
    "print( re.sub(r'\\b([^\\W\\d_]+)(\\s+\\1)+\\b', r'\\1', re.sub(r'\\W+', ' ', some_string).strip(), flags=re.I) )\n"
   ]
  },
  {
   "cell_type": "markdown",
   "metadata": {},
   "source": [
    "## Задание 3\n",
    "Напишите функцию, которая будет возвращать акроним по переданной в нее строке со словами."
   ]
  },
  {
   "cell_type": "code",
   "execution_count": 67,
   "metadata": {},
   "outputs": [
    {
     "name": "stdout",
     "output_type": "stream",
     "text": [
      "ИТ\n",
      "NFC\n"
     ]
    }
   ],
   "source": [
    "import re\n",
    "some_words = 'Информационные Технологии'\n",
    "some_words_1 = 'Near Field Communication'\n",
    "reg = re.findall(r'^[a-zA-Zа-яА-ЯёЁ]|(?<=[^\\w])[a-zA-Zа-яА-ЯёЁ]|(?<![a-zA-Zа-яА-ЯёЁ])[a-zA-Zа-яА-ЯёЁ] ',some_words)\n",
    "reg_1 = re.findall(r'^[a-zA-Zа-яА-ЯёЁ]|(?<=[^\\w])[a-zA-Zа-яА-ЯёЁ]|(?<![a-zA-Zа-яА-ЯёЁ])[a-zA-Zа-яА-ЯёЁ] ',some_words_1)\n",
    "\n",
    "print (''.join(reg))\n",
    "print (''.join(reg_1))\n"
   ]
  },
  {
   "cell_type": "markdown",
   "metadata": {},
   "source": [
    "## Задание 4\n",
    "Напишите функцию, которая будет принимать на вход список email-адресов и выводить их распределение по доменным зонам."
   ]
  },
  {
   "cell_type": "code",
   "execution_count": 145,
   "metadata": {},
   "outputs": [
    {
     "name": "stdout",
     "output_type": "stream",
     "text": [
      "gmail.com 2\n",
      "test.in 1\n",
      "ya.ru 2\n",
      "mail.ru 1\n"
     ]
    }
   ],
   "source": [
    "import re\n",
    "emails = 'test@gmail.com, xyz@test.in, test@ya.ru, xyz@mail.ru, xyz@ya.ru, xyz@gmail.com'\n",
    "rez = re.findall(r'(?<=@)\\w+.\\w+',emails)\n",
    "\n",
    "#print(*rez, sep= '\\n' )\n",
    "\n",
    "rez_d = rez_d.fromkeys(rez, 0)\n",
    "for a in rez:\n",
    "    rez_d[a] += 1\n",
    "\n",
    "for key, value in rez_d.items():\n",
    "        print(key, value)\n",
    "\n"
   ]
  }
 ],
 "metadata": {
  "kernelspec": {
   "display_name": "Python 3",
   "language": "python",
   "name": "python3"
  },
  "language_info": {
   "codemirror_mode": {
    "name": "ipython",
    "version": 3
   },
   "file_extension": ".py",
   "mimetype": "text/x-python",
   "name": "python",
   "nbconvert_exporter": "python",
   "pygments_lexer": "ipython3",
   "version": "3.8.3"
  }
 },
 "nbformat": 4,
 "nbformat_minor": 4
}
