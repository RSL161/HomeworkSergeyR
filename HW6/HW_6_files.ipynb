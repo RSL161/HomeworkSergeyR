{
 "cells": [
  {
   "cell_type": "markdown",
   "metadata": {},
   "source": [
    "1. Переведите содержимое файла purchase_log.txt в словарь purchases вида:\n",
    "{‘1840e0b9d4’: ‘Продукты’, …}\n",
    "\n",
    "2. Для каждого user_id в файле visit_log.csv определите третий столбец с категорией покупки (если покупка была, сам файл visit_log.csv изменять не надо). Запишите в файл funnel.csv визиты из файла visit_log.csv, в которых были покупки с указанием категории.\n",
    "Учтите условия на данные:\n",
    "содержимое purchase_log.txt помещается в оперативную память компьютера\n",
    "содержимое visit_log.csv - нет; используйте только построчную обработку этого файла"
   ]
  },
  {
   "cell_type": "code",
   "execution_count": 3,
   "metadata": {},
   "outputs": [
    {
     "name": "stdout",
     "output_type": "stream",
     "text": [
      "{'1840e0b9d4': 'Продукты', '4e4f90fcfb': 'Электроника', 'afea8d72fc': 'Электроника'}\n",
      "1840e0b9d4,other,Продукты\n",
      "4e4f90fcfb,context,Электроника\n",
      "afea8d72fc,other,Электроника\n"
     ]
    }
   ],
   "source": [
    "import json\n",
    "\n",
    "f = open('purchase_log.txt', 'r', encoding='utf-8')\n",
    "lines = f.readlines()\n",
    "f.close()\n",
    "purchases = {} \n",
    "for line in lines[1:4]:\n",
    "    line = line.strip()\n",
    "    info_dict = json.loads(line)\n",
    "    purchases[info_dict['user_id']] = info_dict['category']\n",
    "print(purchases)\n",
    "\n",
    "csv_lines = open('visit_log.csv', 'r')\n",
    "with open('funnel.csv', 'w') as f:\n",
    "    next(csv_lines)\n",
    "    for line in csv_lines:\n",
    "        line = line.strip()\n",
    "        lst = line.split(',')\n",
    "        id_visit = lst[0]\n",
    "        if id_visit in purchases.keys():\n",
    "            print(line + ',' + purchases[id_visit])\n",
    "            f.write(lst[0] + ',' + lst[1] + ',' + purchases[id_visit]+'\\n')\n",
    "        \n",
    "csv_lines.close()"
   ]
  }
 ],
 "metadata": {
  "kernelspec": {
   "display_name": "Python 3",
   "language": "python",
   "name": "python3"
  },
  "language_info": {
   "codemirror_mode": {
    "name": "ipython",
    "version": 3
   },
   "file_extension": ".py",
   "mimetype": "text/x-python",
   "name": "python",
   "nbconvert_exporter": "python",
   "pygments_lexer": "ipython3",
   "version": "3.8.3"
  }
 },
 "nbformat": 4,
 "nbformat_minor": 4
}
