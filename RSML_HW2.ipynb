{
 "cells": [
  {
   "cell_type": "markdown",
   "id": "b8c665b1",
   "metadata": {},
   "source": [
    "### Домашнее задание  \n",
    "#### Пакет surprise  \n",
    "* используйте данные MovieLens 1M\n",
    "* можно использовать любые модели из пакета\n",
    "* получите RMSE на тестовом сете 0,87 и ниже\n",
    "\n",
    "Комментарий преподавателя :\n",
    "В ДЗ на датасет 1М может не хватить RAM. Можно сделать на 100K. Качество RMSE предлагаю считать на основе CrossValidation (5 фолдов), а не отложенном датасете."
   ]
  },
  {
   "cell_type": "code",
   "execution_count": 65,
   "id": "13efe90e",
   "metadata": {},
   "outputs": [],
   "source": [
    "from surprise import KNNWithMeans, KNNBasic\n",
    "from surprise import Dataset\n",
    "from surprise import accuracy\n",
    "from surprise import Reader\n",
    "from surprise import SVD\n",
    "from surprise import SVDpp\n",
    "from surprise.model_selection import train_test_split\n",
    "from surprise.model_selection import GridSearchCV\n",
    "from surprise.model_selection import cross_validate"
   ]
  },
  {
   "cell_type": "code",
   "execution_count": null,
   "id": "b86735c7",
   "metadata": {},
   "outputs": [],
   "source": []
  },
  {
   "cell_type": "code",
   "execution_count": 12,
   "id": "8d470dae",
   "metadata": {},
   "outputs": [],
   "source": [
    "import pandas as pd"
   ]
  },
  {
   "cell_type": "code",
   "execution_count": 18,
   "id": "1012fee6",
   "metadata": {},
   "outputs": [],
   "source": [
    "from surprise.dataset import Dataset"
   ]
  },
  {
   "cell_type": "code",
   "execution_count": 19,
   "id": "c0e48da9",
   "metadata": {},
   "outputs": [
    {
     "name": "stdout",
     "output_type": "stream",
     "text": [
      "Dataset ml-1m could not be found. Do you want to download it? [Y/n] Y\n",
      "Trying to download dataset from http://files.grouplens.org/datasets/movielens/ml-1m.zip...\n",
      "Done! Dataset ml-1m has been saved to C:\\Users\\Sergey/.surprise_data/ml-1m\n"
     ]
    }
   ],
   "source": [
    "data = Dataset.load_builtin(name = \"ml-1m\")"
   ]
  },
  {
   "cell_type": "code",
   "execution_count": 25,
   "id": "5dd0ac63",
   "metadata": {},
   "outputs": [],
   "source": [
    "# разбиваю на обучающую и тестовую выборки\n",
    "trainset, testset = train_test_split(data, test_size = 0.2, random_state = 42)"
   ]
  },
  {
   "cell_type": "code",
   "execution_count": 44,
   "id": "dfd740ee",
   "metadata": {},
   "outputs": [],
   "source": [
    "# data.raw_ratings"
   ]
  },
  {
   "cell_type": "code",
   "execution_count": 41,
   "id": "1e5c6c94",
   "metadata": {},
   "outputs": [],
   "source": [
    "from tqdm import tqdm_notebook"
   ]
  },
  {
   "cell_type": "code",
   "execution_count": 48,
   "id": "dca8e22c",
   "metadata": {},
   "outputs": [
    {
     "name": "stdout",
     "output_type": "stream",
     "text": [
      "Computing the msd similarity matrix...\n",
      "Done computing similarity matrix.\n"
     ]
    },
    {
     "data": {
      "text/plain": [
       "<surprise.prediction_algorithms.knns.KNNBasic at 0x1a6d8acbb50>"
      ]
     },
     "execution_count": 48,
     "metadata": {},
     "output_type": "execute_result"
    }
   ],
   "source": [
    "# обучаю модель KNNBasic\n",
    "\n",
    "algo_KNNBasic = KNNBasic()\n",
    "algo_KNNBasic.fit(trainset)"
   ]
  },
  {
   "cell_type": "code",
   "execution_count": 49,
   "id": "51dcce15",
   "metadata": {},
   "outputs": [],
   "source": [
    "test_pred_KNNBasic = algo_KNNBasic.test(testset)"
   ]
  },
  {
   "cell_type": "code",
   "execution_count": 50,
   "id": "8192e85a",
   "metadata": {},
   "outputs": [
    {
     "name": "stdout",
     "output_type": "stream",
     "text": [
      "RMSE: 0.9231\n"
     ]
    },
    {
     "data": {
      "text/plain": [
       "0.9231258721322069"
      ]
     },
     "execution_count": 50,
     "metadata": {},
     "output_type": "execute_result"
    }
   ],
   "source": [
    "accuracy.rmse(test_pred_KNNBasic, verbose = True)"
   ]
  },
  {
   "cell_type": "code",
   "execution_count": 51,
   "id": "6d3e9114",
   "metadata": {},
   "outputs": [
    {
     "name": "stdout",
     "output_type": "stream",
     "text": [
      "Computing the msd similarity matrix...\n",
      "Done computing similarity matrix.\n"
     ]
    },
    {
     "data": {
      "text/plain": [
       "<surprise.prediction_algorithms.knns.KNNWithMeans at 0x1a6d8acdf10>"
      ]
     },
     "execution_count": 51,
     "metadata": {},
     "output_type": "execute_result"
    }
   ],
   "source": [
    "# обучаю модель KNNWithMeans\n",
    "\n",
    "algo_KNNWithMeans = KNNWithMeans()\n",
    "algo_KNNWithMeans.fit(trainset)"
   ]
  },
  {
   "cell_type": "code",
   "execution_count": 52,
   "id": "14134e54",
   "metadata": {},
   "outputs": [],
   "source": [
    "test_pred_KNNWithMeans = algo_KNNWithMeans.test(testset)"
   ]
  },
  {
   "cell_type": "code",
   "execution_count": 53,
   "id": "a188da3a",
   "metadata": {},
   "outputs": [
    {
     "name": "stdout",
     "output_type": "stream",
     "text": [
      "RMSE: 0.9293\n"
     ]
    },
    {
     "data": {
      "text/plain": [
       "0.9293372954000773"
      ]
     },
     "execution_count": 53,
     "metadata": {},
     "output_type": "execute_result"
    }
   ],
   "source": [
    "accuracy.rmse(test_pred_KNNWithMeans, verbose = True)"
   ]
  },
  {
   "cell_type": "code",
   "execution_count": 56,
   "id": "1eb20c3e",
   "metadata": {},
   "outputs": [
    {
     "data": {
      "text/plain": [
       "<surprise.prediction_algorithms.matrix_factorization.SVD at 0x1a6d8acd610>"
      ]
     },
     "execution_count": 56,
     "metadata": {},
     "output_type": "execute_result"
    }
   ],
   "source": [
    "# обучаю модель SVD\n",
    "\n",
    "algo_SVD = SVD()\n",
    "algo_SVD.fit(trainset)"
   ]
  },
  {
   "cell_type": "code",
   "execution_count": 57,
   "id": "4008960f",
   "metadata": {},
   "outputs": [],
   "source": [
    "test_pred_SVD = algo_SVD.test(testset)"
   ]
  },
  {
   "cell_type": "code",
   "execution_count": 58,
   "id": "31d4bf87",
   "metadata": {},
   "outputs": [
    {
     "name": "stdout",
     "output_type": "stream",
     "text": [
      "RMSE: 0.8744\n"
     ]
    },
    {
     "data": {
      "text/plain": [
       "0.8744021935701417"
      ]
     },
     "execution_count": 58,
     "metadata": {},
     "output_type": "execute_result"
    }
   ],
   "source": [
    "accuracy.rmse(test_pred_SVD, verbose = True)"
   ]
  },
  {
   "cell_type": "code",
   "execution_count": 66,
   "id": "14c2ad9a",
   "metadata": {},
   "outputs": [
    {
     "data": {
      "text/plain": [
       "<surprise.prediction_algorithms.matrix_factorization.SVDpp at 0x1a6d8acd640>"
      ]
     },
     "execution_count": 66,
     "metadata": {},
     "output_type": "execute_result"
    }
   ],
   "source": [
    "# обучаю модель SVDpp\n",
    "\n",
    "algo_SVDpp = SVDpp()\n",
    "algo_SVDpp.fit(trainset)"
   ]
  },
  {
   "cell_type": "code",
   "execution_count": 69,
   "id": "868950cd",
   "metadata": {},
   "outputs": [],
   "source": [
    "# модель SVDpp не получилось реализовать - виснет все"
   ]
  },
  {
   "cell_type": "code",
   "execution_count": 68,
   "id": "c2d5f184",
   "metadata": {},
   "outputs": [
    {
     "data": {
      "text/plain": [
       "<surprise.prediction_algorithms.matrix_factorization.SVD at 0x1a6d9fcd6a0>"
      ]
     },
     "execution_count": 68,
     "metadata": {},
     "output_type": "execute_result"
    }
   ],
   "source": [
    "# обучаю модель SVD c доппарметрами\n",
    "\n",
    "algo_SVD_with_params = SVD(n_factors = 160, n_epochs = 100, lr_all = 0.005, reg_all = 0.1)\n",
    "algo_SVD_with_params.fit(trainset)"
   ]
  },
  {
   "cell_type": "code",
   "execution_count": null,
   "id": "4533654b",
   "metadata": {},
   "outputs": [],
   "source": []
  },
  {
   "cell_type": "code",
   "execution_count": 63,
   "id": "bde9cf1c",
   "metadata": {},
   "outputs": [],
   "source": [
    "# Проверка качества RMSE и MAE на основе CrossValidation (5 фолдов)"
   ]
  },
  {
   "cell_type": "code",
   "execution_count": 70,
   "id": "c0f607c3",
   "metadata": {},
   "outputs": [
    {
     "name": "stdout",
     "output_type": "stream",
     "text": [
      "Evaluating RMSE, MAE of algorithm SVD on 5 split(s).\n",
      "\n",
      "                  Fold 1  Fold 2  Fold 3  Fold 4  Fold 5  Mean    Std     \n",
      "RMSE (testset)    0.8655  0.8622  0.8640  0.8617  0.8649  0.8637  0.0015  \n",
      "MAE (testset)     0.6861  0.6828  0.6835  0.6827  0.6855  0.6841  0.0014  \n",
      "Fit time          317.93  320.64  321.02  323.64  321.96  321.04  1.87    \n",
      "Test time         1.45    1.42    2.42    2.43    1.41    1.83    0.49    \n"
     ]
    },
    {
     "data": {
      "text/plain": [
       "{'test_rmse': array([0.86547789, 0.86224874, 0.86403793, 0.86166147, 0.86493974]),\n",
       " 'test_mae': array([0.68612206, 0.68282006, 0.68352451, 0.68272325, 0.68549971]),\n",
       " 'fit_time': (317.93190836906433,\n",
       "  320.6428325176239,\n",
       "  321.0240752696991,\n",
       "  323.6447985172272,\n",
       "  321.9619243144989),\n",
       " 'test_time': (1.453632116317749,\n",
       "  1.4222421646118164,\n",
       "  2.422346830368042,\n",
       "  2.4283852577209473,\n",
       "  1.4121050834655762)}"
      ]
     },
     "execution_count": 70,
     "metadata": {},
     "output_type": "execute_result"
    }
   ],
   "source": [
    "cross_validate(algo_SVD_with_params, data, measures = ['RMSE', 'MAE'], cv = 5, verbose = True)"
   ]
  },
  {
   "cell_type": "code",
   "execution_count": 61,
   "id": "a41939a8",
   "metadata": {},
   "outputs": [
    {
     "name": "stdout",
     "output_type": "stream",
     "text": [
      "Evaluating RMSE, MAE of algorithm SVD on 5 split(s).\n",
      "\n",
      "                  Fold 1  Fold 2  Fold 3  Fold 4  Fold 5  Mean    Std     \n",
      "RMSE (testset)    0.8722  0.8733  0.8723  0.8736  0.8746  0.8732  0.0009  \n",
      "MAE (testset)     0.6842  0.6849  0.6846  0.6860  0.6868  0.6853  0.0010  \n",
      "Fit time          43.75   43.78   43.96   44.14   43.98   43.92   0.14    \n",
      "Test time         2.06    1.39    1.98    1.45    1.98    1.77    0.29    \n"
     ]
    },
    {
     "data": {
      "text/plain": [
       "{'test_rmse': array([0.87217513, 0.87328839, 0.87228881, 0.8735598 , 0.87460636]),\n",
       " 'test_mae': array([0.6841949 , 0.68492369, 0.68460407, 0.68595372, 0.68683836]),\n",
       " 'fit_time': (43.75017428398132,\n",
       "  43.77637052536011,\n",
       "  43.964741468429565,\n",
       "  44.140002489089966,\n",
       "  43.97825360298157),\n",
       " 'test_time': (2.05666184425354,\n",
       "  1.390129804611206,\n",
       "  1.983494520187378,\n",
       "  1.4496760368347168,\n",
       "  1.9773385524749756)}"
      ]
     },
     "execution_count": 61,
     "metadata": {},
     "output_type": "execute_result"
    }
   ],
   "source": [
    "cross_validate(algo_SVD, data, measures = ['RMSE', 'MAE'], cv = 5, verbose = True)"
   ]
  },
  {
   "cell_type": "code",
   "execution_count": 62,
   "id": "9392c752",
   "metadata": {},
   "outputs": [
    {
     "name": "stdout",
     "output_type": "stream",
     "text": [
      "Computing the msd similarity matrix...\n",
      "Done computing similarity matrix.\n",
      "Computing the msd similarity matrix...\n",
      "Done computing similarity matrix.\n",
      "Computing the msd similarity matrix...\n",
      "Done computing similarity matrix.\n",
      "Computing the msd similarity matrix...\n",
      "Done computing similarity matrix.\n",
      "Computing the msd similarity matrix...\n",
      "Done computing similarity matrix.\n",
      "Evaluating RMSE, MAE of algorithm KNNBasic on 5 split(s).\n",
      "\n",
      "                  Fold 1  Fold 2  Fold 3  Fold 4  Fold 5  Mean    Std     \n",
      "RMSE (testset)    0.9216  0.9220  0.9253  0.9252  0.9203  0.9229  0.0020  \n",
      "MAE (testset)     0.7259  0.7271  0.7289  0.7300  0.7257  0.7275  0.0017  \n",
      "Fit time          35.60   36.13   36.58   36.04   36.31   36.13   0.33    \n",
      "Test time         121.97  121.48  122.59  121.02  120.99  121.61  0.60    \n"
     ]
    },
    {
     "data": {
      "text/plain": [
       "{'test_rmse': array([0.92158048, 0.92201458, 0.92530143, 0.92516428, 0.92031562]),\n",
       " 'test_mae': array([0.72586601, 0.72712201, 0.72887693, 0.72998045, 0.7257102 ]),\n",
       " 'fit_time': (35.59791827201843,\n",
       "  36.128008127212524,\n",
       "  36.58498668670654,\n",
       "  36.037445068359375,\n",
       "  36.31187558174133),\n",
       " 'test_time': (121.96505451202393,\n",
       "  121.47767472267151,\n",
       "  122.58534812927246,\n",
       "  121.02132773399353,\n",
       "  120.9898054599762)}"
      ]
     },
     "execution_count": 62,
     "metadata": {},
     "output_type": "execute_result"
    }
   ],
   "source": [
    "cross_validate(algo_KNNBasic, data, measures = ['RMSE', 'MAE'], cv = 5, verbose = True)"
   ]
  },
  {
   "cell_type": "code",
   "execution_count": 64,
   "id": "e8779519",
   "metadata": {},
   "outputs": [
    {
     "name": "stdout",
     "output_type": "stream",
     "text": [
      "Computing the msd similarity matrix...\n",
      "Done computing similarity matrix.\n",
      "Computing the msd similarity matrix...\n",
      "Done computing similarity matrix.\n",
      "Computing the msd similarity matrix...\n",
      "Done computing similarity matrix.\n",
      "Computing the msd similarity matrix...\n",
      "Done computing similarity matrix.\n",
      "Computing the msd similarity matrix...\n",
      "Done computing similarity matrix.\n",
      "Evaluating RMSE, MAE of algorithm KNNWithMeans on 5 split(s).\n",
      "\n",
      "                  Fold 1  Fold 2  Fold 3  Fold 4  Fold 5  Mean    Std     \n",
      "RMSE (testset)    0.9301  0.9279  0.9311  0.9294  0.9280  0.9293  0.0012  \n",
      "MAE (testset)     0.7389  0.7372  0.7405  0.7388  0.7381  0.7387  0.0011  \n",
      "Fit time          36.27   36.47   36.96   36.57   37.39   36.73   0.40    \n",
      "Test time         123.09  122.87  123.33  122.10  124.24  123.12  0.69    \n"
     ]
    },
    {
     "data": {
      "text/plain": [
       "{'test_rmse': array([0.93005033, 0.92785822, 0.93109479, 0.92941828, 0.92799204]),\n",
       " 'test_mae': array([0.73890537, 0.73724003, 0.74053798, 0.73875706, 0.738093  ]),\n",
       " 'fit_time': (36.27483916282654,\n",
       "  36.468361139297485,\n",
       "  36.963040828704834,\n",
       "  36.57016706466675,\n",
       "  37.3865921497345),\n",
       " 'test_time': (123.09268546104431,\n",
       "  122.86710906028748,\n",
       "  123.32542371749878,\n",
       "  122.09886121749878,\n",
       "  124.237548828125)}"
      ]
     },
     "execution_count": 64,
     "metadata": {},
     "output_type": "execute_result"
    }
   ],
   "source": [
    "cross_validate(algo_KNNWithMeans, data, measures = ['RMSE', 'MAE'], cv = 5, verbose = True)"
   ]
  }
 ],
 "metadata": {
  "kernelspec": {
   "display_name": "Python 3",
   "language": "python",
   "name": "python3"
  },
  "language_info": {
   "codemirror_mode": {
    "name": "ipython",
    "version": 3
   },
   "file_extension": ".py",
   "mimetype": "text/x-python",
   "name": "python",
   "nbconvert_exporter": "python",
   "pygments_lexer": "ipython3",
   "version": "3.8.8"
  }
 },
 "nbformat": 4,
 "nbformat_minor": 5
}
