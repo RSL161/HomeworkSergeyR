{
 "cells": [
  {
   "cell_type": "markdown",
   "metadata": {},
   "source": [
    "## Домашнее задание \"Теория вероятности. Дискретные Случайные Величины\".\n",
    "### Уровень 0:\n",
    "* Задание 1:\n",
    "Монетку подбрасывают 15 раз, найдите вероятность выпадения простого числа орлов.\n",
    "\n",
    "* Задание 2:\n",
    "Создайте свою дискретную случайную величину с не менее, чем 10 значениями. Просемплируйте 1000 случайных значений, постройте гистограмму плотности распределения по выборке, посчитайте среднее, дисперсию и медиану.\n",
    "\n",
    "## Уровень 1:\n",
    "* Задание 3:\n",
    "Пусть брошены 3 уравновешенные монеты.\n",
    "\n",
    "Рассмотрим 3 события:\n",
    "\n",
    "A1 - монеты 1 и 2 упали одной и той же стороной;\n",
    "\n",
    "A2 - монеты 2 и 3 упали одной и той же стороной;\n",
    "\n",
    "A3 - монеты 1 и 3 упали одной и той же стороной.\n",
    "\n",
    "Покажите, почему эти 3 события (A1, A2, A3) являются попарно независимыми, но не являются независимыми в совокупности.\n",
    "\n",
    "* Задание 4 (формула полной вероятности):\n",
    "В магазин привезли устройства с 3-х разных предприятий.\n",
    "\n",
    "Соотношение устройств следующее: 20% - продукция первого предприятия, 30% - продукция второго предприятия, 50% - продукция третьего предприятия; далее, 10% продукции первого предприятия высшего сорта, на втором предприятии - 5% и на третьем - 20% продукции высшего сорта.\n",
    "\n",
    "Найти вероятность того, что случайно купленная новая продукция окажется высшего сорта."
   ]
  },
  {
   "cell_type": "code",
   "execution_count": 42,
   "metadata": {},
   "outputs": [],
   "source": [
    "%matplotlib inline\n",
    "import numpy as np\n",
    "import pandas as pd\n",
    "import matplotlib.pyplot as plt\n",
    "import seaborn as sns\n",
    "from scipy import stats\n",
    "from math import factorial\n",
    "import matplotlib.pyplot as plt\n",
    "from scipy.stats import *\n",
    "import scipy.stats as sps"
   ]
  },
  {
   "cell_type": "markdown",
   "metadata": {},
   "source": [
    "* Монетку подбрасывают 15 раз, найдите вероятность выпадения простого числа орлов."
   ]
  },
  {
   "cell_type": "code",
   "execution_count": 20,
   "metadata": {},
   "outputs": [
    {
     "name": "stdout",
     "output_type": "stream",
     "text": [
      "[2, 3, 5, 7, 11, 13]\n"
     ]
    }
   ],
   "source": [
    "# нахожу простые числа от 2 до 15\n",
    "x = 15\n",
    "lst=[]\n",
    "for i in range(2, x):\n",
    "    for j in lst:\n",
    "        if i % j == 0:\n",
    "            break\n",
    "    else:\n",
    "        lst.append(i)\n",
    "print (lst)"
   ]
  },
  {
   "cell_type": "code",
   "execution_count": 12,
   "metadata": {},
   "outputs": [],
   "source": [
    "def num_of_successes(n, k):\n",
    "    return factorial(n)/(factorial(k) * factorial(n - k))\n",
    "def probability_of_success(p, n, k):\n",
    "    C_kn = num_of_successes(n, k)\n",
    "    return C_kn * (p**k) * (1 - p)**(n - k)"
   ]
  },
  {
   "cell_type": "markdown",
   "metadata": {},
   "source": [
    "вероятность орла 50%,то есть р = 0,5"
   ]
  },
  {
   "cell_type": "code",
   "execution_count": 27,
   "metadata": {},
   "outputs": [
    {
     "data": {
      "text/plain": [
       "0.003204345703125"
      ]
     },
     "execution_count": 27,
     "metadata": {},
     "output_type": "execute_result"
    }
   ],
   "source": [
    "# для 2\n",
    "probability_of_success(0.5, 15, 2)"
   ]
  },
  {
   "cell_type": "code",
   "execution_count": 28,
   "metadata": {},
   "outputs": [
    {
     "data": {
      "text/plain": [
       "0.013885498046875"
      ]
     },
     "execution_count": 28,
     "metadata": {},
     "output_type": "execute_result"
    }
   ],
   "source": [
    "# для 3\n",
    "probability_of_success(0.5, 15, 3)"
   ]
  },
  {
   "cell_type": "code",
   "execution_count": 29,
   "metadata": {},
   "outputs": [
    {
     "data": {
      "text/plain": [
       "0.091644287109375"
      ]
     },
     "execution_count": 29,
     "metadata": {},
     "output_type": "execute_result"
    }
   ],
   "source": [
    "# для 5\n",
    "probability_of_success(0.5, 15, 5)"
   ]
  },
  {
   "cell_type": "code",
   "execution_count": 30,
   "metadata": {},
   "outputs": [
    {
     "data": {
      "text/plain": [
       "0.196380615234375"
      ]
     },
     "execution_count": 30,
     "metadata": {},
     "output_type": "execute_result"
    }
   ],
   "source": [
    "# для 7\n",
    "probability_of_success(0.5, 15, 7)"
   ]
  },
  {
   "cell_type": "code",
   "execution_count": 31,
   "metadata": {},
   "outputs": [
    {
     "data": {
      "text/plain": [
       "0.041656494140625"
      ]
     },
     "execution_count": 31,
     "metadata": {},
     "output_type": "execute_result"
    }
   ],
   "source": [
    "# для 11\n",
    "probability_of_success(0.5, 15,11)"
   ]
  },
  {
   "cell_type": "code",
   "execution_count": 32,
   "metadata": {
    "scrolled": true
   },
   "outputs": [
    {
     "data": {
      "text/plain": [
       "0.003204345703125"
      ]
     },
     "execution_count": 32,
     "metadata": {},
     "output_type": "execute_result"
    }
   ],
   "source": [
    "# для 13\n",
    "probability_of_success(0.5, 15, 13)"
   ]
  },
  {
   "cell_type": "markdown",
   "metadata": {},
   "source": [
    "* Создайте свою дискретную случайную величину с не менее, чем 10 значениями. Просемплируйте 1000 случайных значений, постройте гистограмму плотности распределения по выборке, посчитайте среднее, дисперсию и медиану."
   ]
  },
  {
   "cell_type": "code",
   "execution_count": 53,
   "metadata": {},
   "outputs": [
    {
     "data": {
      "text/plain": [
       "array([0.4989533 , 0.81180908, 0.89322479, 0.633828  , 0.70798217,\n",
       "       0.76948633, 0.81966115, 0.3810949 , 0.92345734, 0.6090072 ])"
      ]
     },
     "execution_count": 53,
     "metadata": {},
     "output_type": "execute_result"
    }
   ],
   "source": [
    "np.random.sample(10)"
   ]
  },
  {
   "cell_type": "code",
   "execution_count": 138,
   "metadata": {},
   "outputs": [
    {
     "name": "stdout",
     "output_type": "stream",
     "text": [
      "Медиана: -0.059\n",
      "Среденее: -0.079\n",
      "Дисперсия: 0.962\n"
     ]
    }
   ],
   "source": [
    "sample = sps.norm.rvs(size=1000)\n",
    "print('Медиана: %.3f' % ndimage.median(sample))\n",
    "print('Среденее: %.3f' % sample.mean())\n",
    "print('Дисперсия: %.3f' % sample.var())"
   ]
  },
  {
   "cell_type": "code",
   "execution_count": 140,
   "metadata": {
    "scrolled": false
   },
   "outputs": [
    {
     "data": {
      "image/png": "[encoded data removed]",
      "text/plain": [
       "<Figure size 1152x576 with 1 Axes>"
      ]
     },
     "metadata": {
      "needs_background": "light"
     },
     "output_type": "display_data"
    }
   ],
   "source": [
    "plt.figure(figsize = (16, 8))\n",
    "sample = sps.norm.rvs(size = 1000)\n",
    "plt.hist(sample, bins = 20, density = True,\n",
    " alpha = 0.6, label = 'Гистограмма ')\n",
    "grid = np.linspace(-4, 4, 1000)\n",
    "plt.plot(grid, sps.norm.pdf(grid), color='red',\n",
    " lw=5, label='Плотность ')\n",
    "plt.title(r'Распределение $\\xi$', fontsize=20)\n",
    "plt.legend( loc = 'best' )\n",
    "plt.vlines(df.mean(), 0, 0.5, linestyles =\"dotted\", colors =\"k\")\n",
    "plt.text(0.1,0.5, 'mean' )\n",
    "plt.vlines(ndimage.median(sample), 0, 0.5, linestyles =\"dotted\", colors =\"k\")\n",
    "plt.text(- 0.5,0.5, 'median' )\n",
    "plt.vlines(sample.var(), 0, 0.5, linestyles =\"dotted\", colors =\"k\")\n",
    "plt.text(1.1,0.5, 'var' )\n",
    "plt.show()"
   ]
  },
  {
   "cell_type": "code",
   "execution_count": 87,
   "metadata": {},
   "outputs": [],
   "source": [
    "from scipy import ndimage"
   ]
  },
  {
   "cell_type": "code",
   "execution_count": 141,
   "metadata": {},
   "outputs": [
    {
     "data": {
      "text/plain": [
       "0.009057181870679195"
      ]
     },
     "execution_count": 141,
     "metadata": {},
     "output_type": "execute_result"
    }
   ],
   "source": [
    "sample.mean()"
   ]
  },
  {
   "cell_type": "code",
   "execution_count": 142,
   "metadata": {},
   "outputs": [
    {
     "data": {
      "text/plain": [
       "-0.04120182530800568"
      ]
     },
     "execution_count": 142,
     "metadata": {},
     "output_type": "execute_result"
    }
   ],
   "source": [
    "ndimage.median(sample)"
   ]
  },
  {
   "cell_type": "code",
   "execution_count": 143,
   "metadata": {},
   "outputs": [
    {
     "data": {
      "text/plain": [
       "1.0187894698516862"
      ]
     },
     "execution_count": 143,
     "metadata": {},
     "output_type": "execute_result"
    }
   ],
   "source": [
    "sample.var()"
   ]
  },
  {
   "cell_type": "code",
   "execution_count": 144,
   "metadata": {},
   "outputs": [
    {
     "data": {
      "text/plain": [
       "0    0.009057\n",
       "dtype: float64"
      ]
     },
     "execution_count": 144,
     "metadata": {},
     "output_type": "execute_result"
    }
   ],
   "source": [
    "arr = np.array(sample)\n",
    "df = pd.DataFrame(arr)\n",
    "df.mean()"
   ]
  },
  {
   "cell_type": "code",
   "execution_count": 145,
   "metadata": {},
   "outputs": [
    {
     "data": {
      "text/html": [
       "<div>\n",
       "<style scoped>\n",
       "    .dataframe tbody tr th:only-of-type {\n",
       "        vertical-align: middle;\n",
       "    }\n",
       "\n",
       "    .dataframe tbody tr th {\n",
       "        vertical-align: top;\n",
       "    }\n",
       "\n",
       "    .dataframe thead th {\n",
       "        text-align: right;\n",
       "    }\n",
       "</style>\n",
       "<table border=\"1\" class=\"dataframe\">\n",
       "  <thead>\n",
       "    <tr style=\"text-align: right;\">\n",
       "      <th></th>\n",
       "      <th>0</th>\n",
       "    </tr>\n",
       "  </thead>\n",
       "  <tbody>\n",
       "    <tr>\n",
       "      <th>count</th>\n",
       "      <td>1000.000000</td>\n",
       "    </tr>\n",
       "    <tr>\n",
       "      <th>mean</th>\n",
       "      <td>0.009057</td>\n",
       "    </tr>\n",
       "    <tr>\n",
       "      <th>std</th>\n",
       "      <td>1.009856</td>\n",
       "    </tr>\n",
       "    <tr>\n",
       "      <th>min</th>\n",
       "      <td>-4.264375</td>\n",
       "    </tr>\n",
       "    <tr>\n",
       "      <th>25%</th>\n",
       "      <td>-0.688269</td>\n",
       "    </tr>\n",
       "    <tr>\n",
       "      <th>50%</th>\n",
       "      <td>-0.041202</td>\n",
       "    </tr>\n",
       "    <tr>\n",
       "      <th>75%</th>\n",
       "      <td>0.698569</td>\n",
       "    </tr>\n",
       "    <tr>\n",
       "      <th>max</th>\n",
       "      <td>4.295028</td>\n",
       "    </tr>\n",
       "  </tbody>\n",
       "</table>\n",
       "</div>"
      ],
      "text/plain": [
       "                 0\n",
       "count  1000.000000\n",
       "mean      0.009057\n",
       "std       1.009856\n",
       "min      -4.264375\n",
       "25%      -0.688269\n",
       "50%      -0.041202\n",
       "75%       0.698569\n",
       "max       4.295028"
      ]
     },
     "execution_count": 145,
     "metadata": {},
     "output_type": "execute_result"
    },
    {
     "data": {
      "image/png": "[encoded data removed]",
      "text/plain": [
       "<Figure size 432x288 with 1 Axes>"
      ]
     },
     "metadata": {
      "needs_background": "light"
     },
     "output_type": "display_data"
    }
   ],
   "source": [
    "import seaborn as sns\n",
    "sns.boxplot(df)\n",
    "df.describe()"
   ]
  }
 ],
 "metadata": {
  "kernelspec": {
   "display_name": "Python 3",
   "language": "python",
   "name": "python3"
  },
  "language_info": {
   "codemirror_mode": {
    "name": "ipython",
    "version": 3
   },
   "file_extension": ".py",
   "mimetype": "text/x-python",
   "name": "python",
   "nbconvert_exporter": "python",
   "pygments_lexer": "ipython3",
   "version": "3.8.3"
  }
 },
 "nbformat": 4,
 "nbformat_minor": 4
}
