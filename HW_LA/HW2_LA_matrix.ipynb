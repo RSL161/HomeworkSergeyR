{
 "cells": [
  {
   "cell_type": "markdown",
   "metadata": {},
   "source": [
    "## Домашнее задание \"Линейная алгебра. Матрицы\".\n",
    "* Уровень 0:  \n",
    "Создайте матрицу 3 на 3, заполненную числами от 1 до 9  \n",
    "Прибавьте к ней матрицу с единицами на диагонали  \n",
    "Умножьте полученную матрицу на вектор (1, 2, 3)  \n",
    "Посчитайте обратную матрицу к полученной матрице  \n",
    "\n",
    "* Уровень 1:\n",
    "Дан объект в 2d пространстве:\n",
    "\n",
    "import numpy as np\n",
    "import matplotlib.pyplot as plt\n",
    "\n",
    "A = [  \n",
    "[-100, -100, 1],  \n",
    "[-100, 100, 1],  \n",
    "[100, 100, 1],  \n",
    "[0, 0, 1],  \n",
    "[100, -100, 1],  \n",
    "[-100, -100, 1]  \n",
    "]\n",
    "\n",
    "A = np.array(A)  \n",
    "x = A[:,0]  \n",
    "y = A[:,1]  \n",
    "\n",
    "plt.plot(x, y)  \n",
    "plt.ylim([-200, 200])  \n",
    "plt.xlim([-200, 200])  \n",
    "* При помощи матричных операций выполните:\n",
    "\n",
    "Уменьшить объект в два раза  \n",
    "Повернуть на 130 градусов  \n",
    "Отразить объект относительно прямой y=x  \n",
    "Выполнить смещение объекта и масштабирование (применить 2 матрицы трансформаций). Смещение на (200, 300) и масштабирование на (0.5, 1.2)"
   ]
  },
  {
   "cell_type": "markdown",
   "metadata": {},
   "source": [
    "### Уровень 0"
   ]
  },
  {
   "cell_type": "code",
   "execution_count": 1,
   "metadata": {},
   "outputs": [],
   "source": [
    "import numpy as np"
   ]
  },
  {
   "cell_type": "code",
   "execution_count": 2,
   "metadata": {},
   "outputs": [
    {
     "data": {
      "text/plain": [
       "array([[1, 2, 3],\n",
       "       [4, 5, 6],\n",
       "       [7, 8, 9]])"
      ]
     },
     "execution_count": 2,
     "metadata": {},
     "output_type": "execute_result"
    }
   ],
   "source": [
    "# Создаю матрицу 3 на 3, заполненную числами от 1 до 9 \n",
    "X = np.arange(1,10).reshape(3,3)\n",
    "X"
   ]
  },
  {
   "cell_type": "code",
   "execution_count": 3,
   "metadata": {},
   "outputs": [
    {
     "data": {
      "text/plain": [
       "array([[ 2.,  2.,  3.],\n",
       "       [ 4.,  6.,  6.],\n",
       "       [ 7.,  8., 10.]])"
      ]
     },
     "execution_count": 3,
     "metadata": {},
     "output_type": "execute_result"
    }
   ],
   "source": [
    "# Прибавляю к ней матрицу с единицами на диагонале\n",
    "Y = np.eye(3)\n",
    "Z = (X + Y)\n",
    "Z"
   ]
  },
  {
   "cell_type": "code",
   "execution_count": 4,
   "metadata": {},
   "outputs": [
    {
     "data": {
      "text/plain": [
       "array([15., 34., 53.])"
      ]
     },
     "execution_count": 4,
     "metadata": {},
     "output_type": "execute_result"
    }
   ],
   "source": [
    "# Умножаю полученную матрицу Z на вектор v (1, 2, 3)\n",
    "v = np.array([1. ,2. ,3.])\n",
    "Z_v = Z @ v\n",
    "Z_v"
   ]
  },
  {
   "cell_type": "code",
   "execution_count": 5,
   "metadata": {},
   "outputs": [
    {
     "data": {
      "text/plain": [
       "array([[-6. , -2. ,  3. ],\n",
       "       [-1. ,  0.5,  0. ],\n",
       "       [ 5. ,  1. , -2. ]])"
      ]
     },
     "execution_count": 5,
     "metadata": {},
     "output_type": "execute_result"
    }
   ],
   "source": [
    "# Считаю обратную матрицу к полученной после сложения \n",
    "W = np.linalg.inv(Z)\n",
    "W"
   ]
  },
  {
   "cell_type": "markdown",
   "metadata": {},
   "source": [
    "### Уровень 1"
   ]
  },
  {
   "cell_type": "code",
   "execution_count": 101,
   "metadata": {},
   "outputs": [],
   "source": [
    "import numpy as np\n",
    "import matplotlib.pyplot as plt"
   ]
  },
  {
   "cell_type": "code",
   "execution_count": 102,
   "metadata": {},
   "outputs": [],
   "source": [
    "A = [  \n",
    "[-100, -100, 1],  \n",
    "[-100, 100, 1],  \n",
    "[100, 100, 1],  \n",
    "[0, 0, 1],  \n",
    "[100, -100, 1],  \n",
    "[-100, -100, 1]  \n",
    "]\n",
    "\n",
    "A = np.array(A)  \n",
    "x = A[:,0]  \n",
    "y = A[:,1]  "
   ]
  },
  {
   "cell_type": "code",
   "execution_count": 103,
   "metadata": {},
   "outputs": [
    {
     "data": {
      "text/plain": [
       "(-200.0, 200.0)"
      ]
     },
     "execution_count": 103,
     "metadata": {},
     "output_type": "execute_result"
    },
    {
     "data": {
      "image/png": "[encoded data removed]",
      "text/plain": [
       "<Figure size 432x288 with 1 Axes>"
      ]
     },
     "metadata": {
      "needs_background": "light"
     },
     "output_type": "display_data"
    }
   ],
   "source": [
    "plt.plot(x, y)  \n",
    "plt.ylim([-200, 200])  \n",
    "plt.xlim([-200, 200])  "
   ]
  },
  {
   "cell_type": "code",
   "execution_count": 104,
   "metadata": {},
   "outputs": [],
   "source": [
    "# Уменьшаю объект в два раза\n",
    "A1 = A / 2"
   ]
  },
  {
   "cell_type": "code",
   "execution_count": 105,
   "metadata": {},
   "outputs": [],
   "source": [
    "A1 = np.array(A1)  \n",
    "x = A1[:,0]  \n",
    "y = A1[:,1]  "
   ]
  },
  {
   "cell_type": "code",
   "execution_count": 106,
   "metadata": {
    "scrolled": true
   },
   "outputs": [
    {
     "data": {
      "text/plain": [
       "(-200.0, 200.0)"
      ]
     },
     "execution_count": 106,
     "metadata": {},
     "output_type": "execute_result"
    },
    {
     "data": {
      "image/png": "[encoded data removed]",
      "text/plain": [
       "<Figure size 432x288 with 1 Axes>"
      ]
     },
     "metadata": {
      "needs_background": "light"
     },
     "output_type": "display_data"
    }
   ],
   "source": [
    "plt.plot(x, y)  \n",
    "plt.ylim([-200, 200])  \n",
    "plt.xlim([-200, 200])  "
   ]
  }
 ],
 "metadata": {
  "kernelspec": {
   "display_name": "Python 3",
   "language": "python",
   "name": "python3"
  },
  "language_info": {
   "codemirror_mode": {
    "name": "ipython",
    "version": 3
   },
   "file_extension": ".py",
   "mimetype": "text/x-python",
   "name": "python",
   "nbconvert_exporter": "python",
   "pygments_lexer": "ipython3",
   "version": "3.8.3"
  }
 },
 "nbformat": 4,
 "nbformat_minor": 4
}
