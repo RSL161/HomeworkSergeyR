{
 "cells": [
  {
   "cell_type": "markdown",
   "metadata": {},
   "source": [
    "## Домашнее задание \"Производная функции нескольких аргументов\"."
   ]
  },
  {
   "cell_type": "code",
   "execution_count": 1,
   "metadata": {},
   "outputs": [],
   "source": [
    "import numpy as np\n",
    "from scipy.optimize import approx_fprime\n",
    "from sympy import *"
   ]
  },
  {
   "cell_type": "markdown",
   "metadata": {},
   "source": [
    "## Уровень 0:\n",
    "Посчитайте частные производные функций:\n",
    "\n",
    "1) $f(x,y)=2x^2y^3 + 1/x + y^2x + 7$, а для этой функции также градиент в точке $(1,2)$\n",
    "\n",
    "2) $f(x,y)=x^2y - sin(xy) + cos(x^2) + 6y$"
   ]
  },
  {
   "cell_type": "code",
   "execution_count": 3,
   "metadata": {},
   "outputs": [],
   "source": [
    "x, y = symbols('x y')"
   ]
  },
  {
   "cell_type": "code",
   "execution_count": 15,
   "metadata": {},
   "outputs": [
    {
     "data": {
      "text/latex": [
       "$\\displaystyle 4 x y^{3} + y^{2} - \\frac{1}{x^{2}}$"
      ],
      "text/plain": [
       "4*x*y**3 + y**2 - 1/x**2"
      ]
     },
     "execution_count": 15,
     "metadata": {},
     "output_type": "execute_result"
    }
   ],
   "source": [
    "# по x\n",
    "diff(2*x**2*y**3 + 1/x + y**2*x +7, x)"
   ]
  },
  {
   "cell_type": "code",
   "execution_count": 16,
   "metadata": {},
   "outputs": [
    {
     "data": {
      "text/latex": [
       "$\\displaystyle 6 x^{2} y^{2} + 2 x y$"
      ],
      "text/plain": [
       "6*x**2*y**2 + 2*x*y"
      ]
     },
     "execution_count": 16,
     "metadata": {},
     "output_type": "execute_result"
    }
   ],
   "source": [
    "# по y\n",
    "diff(2*x**2*y**3 + 1/x + y**2*x +7, y)"
   ]
  },
  {
   "cell_type": "code",
   "execution_count": 28,
   "metadata": {},
   "outputs": [],
   "source": [
    "# вычисляю градиент в точке (1,2)  не уверен,что правильно...\n",
    "def func(x, c0, c1, c2, c3):\n",
    "    return c0*x[0]**2*x[1]**3 + c1/x[0] + c2*x[1]**2*x[0] + c3"
   ]
  },
  {
   "cell_type": "code",
   "execution_count": 29,
   "metadata": {},
   "outputs": [],
   "source": [
    "x = np.array([1 ,2])"
   ]
  },
  {
   "cell_type": "code",
   "execution_count": 30,
   "metadata": {},
   "outputs": [
    {
     "data": {
      "text/plain": [
       "array([35.00000024, 28.00000024])"
      ]
     },
     "execution_count": 30,
     "metadata": {},
     "output_type": "execute_result"
    }
   ],
   "source": [
    "c0, c1, c2, c3 = (2, 1, 1, 7)\n",
    "eps = np.sqrt(np.finfo(float).eps)\n",
    "approx_fprime(x, func, [eps, eps], c0, c1, c2, c3)"
   ]
  },
  {
   "cell_type": "markdown",
   "metadata": {},
   "source": [
    "2) $f(x,y)=x^2y - sin(xy) + cos(x^2) + 6y$"
   ]
  },
  {
   "cell_type": "code",
   "execution_count": 4,
   "metadata": {},
   "outputs": [
    {
     "data": {
      "text/latex": [
       "$\\displaystyle 2 x y - 2 x \\sin{\\left(x^{2} \\right)} - y \\cos{\\left(x y \\right)}$"
      ],
      "text/plain": [
       "2*x*y - 2*x*sin(x**2) - y*cos(x*y)"
      ]
     },
     "execution_count": 4,
     "metadata": {},
     "output_type": "execute_result"
    }
   ],
   "source": [
    "# по x\n",
    "diff(x**2*y - sin(x*y) + cos(x**2) + 6*y, x)"
   ]
  },
  {
   "cell_type": "code",
   "execution_count": 5,
   "metadata": {
    "scrolled": true
   },
   "outputs": [
    {
     "data": {
      "text/latex": [
       "$\\displaystyle x^{2} - x \\cos{\\left(x y \\right)} + 6$"
      ],
      "text/plain": [
       "x**2 - x*cos(x*y) + 6"
      ]
     },
     "execution_count": 5,
     "metadata": {},
     "output_type": "execute_result"
    }
   ],
   "source": [
    "# по y\n",
    "diff(x**2*y - sin(x*y) + cos(x**2) + 6*y, y)"
   ]
  },
  {
   "cell_type": "code",
   "execution_count": null,
   "metadata": {},
   "outputs": [],
   "source": [
    "# не смог разобраться с работой указанного ниже кода - как использовать его для вычисления градиента\n",
    "# если можно поясните пожалуйста"
   ]
  },
  {
   "cell_type": "code",
   "execution_count": 7,
   "metadata": {},
   "outputs": [],
   "source": [
    "import tensorflow as tf"
   ]
  },
  {
   "cell_type": "code",
   "execution_count": null,
   "metadata": {},
   "outputs": [],
   "source": [
    "x = tf.ones((2,2))\n",
    "\n",
    "with tf.GradientTape() as t:\n",
    "    t.wath(х)\n",
    "    y = tf.reduce_sum(x)\n",
    "    z = tf.multiply(y,y)\n",
    "    \n",
    "dz_dx = t.gradient(z,x)"
   ]
  },
  {
   "cell_type": "markdown",
   "metadata": {},
   "source": [
    "## Уровень 1:\n",
    "Градиентный спуск своими руками:"
   ]
  },
  {
   "cell_type": "code",
   "execution_count": 2,
   "metadata": {},
   "outputs": [],
   "source": [
    "def f(x):\n",
    "    return (x[0]**2) + (x[1]**2)"
   ]
  },
  {
   "cell_type": "code",
   "execution_count": 3,
   "metadata": {},
   "outputs": [],
   "source": [
    "x = np.array([100, 200])\n",
    "learning_rate = 0.1"
   ]
  },
  {
   "cell_type": "code",
   "execution_count": 5,
   "metadata": {},
   "outputs": [],
   "source": [
    "#for i in range(100):\n",
    "#    # Calculate gradient\n",
    "#    grad = # Your code here (функция для вычисления градиента есть в лекционном ноутбуке)\n",
    "#    \n",
    "#    # Update x with gradient\n",
    "#    x = # Your code here (смотри слайд презентации про градиентный спуск)"
   ]
  },
  {
   "cell_type": "code",
   "execution_count": 6,
   "metadata": {},
   "outputs": [],
   "source": [
    "#print(\"Минимум достигается в: \", x)\n",
    "#print(\"Значение функции в минимуме: \", f(x))"
   ]
  },
  {
   "cell_type": "markdown",
   "metadata": {},
   "source": [
    "Проверка с помощью встроенной функции numpy:"
   ]
  }
 ],
 "metadata": {
  "kernelspec": {
   "display_name": "Python 3",
   "language": "python",
   "name": "python3"
  },
  "language_info": {
   "codemirror_mode": {
    "name": "ipython",
    "version": 3
   },
   "file_extension": ".py",
   "mimetype": "text/x-python",
   "name": "python",
   "nbconvert_exporter": "python",
   "pygments_lexer": "ipython3",
   "version": "3.8.3"
  }
 },
 "nbformat": 4,
 "nbformat_minor": 4
}
