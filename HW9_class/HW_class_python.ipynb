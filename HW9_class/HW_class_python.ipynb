{
 "cells": [
  {
   "cell_type": "markdown",
   "metadata": {},
   "source": [
    "# Домашнее задание к лекции «Понятие класса»"
   ]
  },
  {
   "cell_type": "markdown",
   "metadata": {},
   "source": [
    "## Задание 1\n",
    "Напишите функцию, которая возвращает название валюты (поле ‘Name’) с максимальным значением курса с помощью сервиса  https://www.cbr-xml-daily.ru/daily_json.js\n"
   ]
  },
  {
   "cell_type": "code",
   "execution_count": 37,
   "metadata": {},
   "outputs": [
    {
     "name": "stdout",
     "output_type": "stream",
     "text": [
      "СДР (специальные права заимствования)\n"
     ]
    }
   ],
   "source": [
    "import requests\n",
    "\n",
    "class Rate:\n",
    "    def __init__(self, format_='value'):\n",
    "        self.format = format_\n",
    "    \n",
    "    def exchange_rates(self):\n",
    "        # Возвращает ответ сервиса с информацией о валютах в виде:\n",
    "             \n",
    "        self.r = requests.get('https://www.cbr-xml-daily.ru/daily_json.js')\n",
    "        return self.r.json()['Valute']\n",
    "    \n",
    "    def make_format(self, currency):\n",
    "        \n",
    "        # Возвращает информацию о валюте currency в двух вариантах:\n",
    "        # полная информация о валюте при self.format = 'full':\n",
    "        # Rate('full').make_format('EUR')\n",
    "       \n",
    "        response = self.exchange_rates()\n",
    "        \n",
    "        if currency in response:\n",
    "            if self.format == 'full':\n",
    "                return response[currency]\n",
    "            \n",
    "            if self.format == 'value':\n",
    "                return response[currency]['Value']\n",
    "        \n",
    "        return 'Error'\n",
    "    \n",
    "    def eur(self):\n",
    "        # Возвращает курс евро на сегодня в формате self.format\n",
    "        return self.make_format('EUR')\n",
    "    \n",
    "    def usd(self):\n",
    "        #Возвращает курс доллара на сегодня в формате self.format\n",
    "        return self.make_format('USD')\n",
    "    \n",
    "    def brl(self):\n",
    "       #Возвращает курс бразильского реала на сегодня в формате self.format\n",
    "        return self.make_format('BRL')\n",
    "   \n",
    "    def get_max_name(self):\n",
    "        # Возвращает название валюты (поле ‘Name’)\n",
    "        # с максимальным значением курса с помощью сервиса\n",
    "        rates = self.exchange_rates()\n",
    "        max_val = 0\n",
    "        max_name = ''\n",
    "        for cur_info in rates.values():\n",
    "            if max_val < cur_info[\"Value\"]:\n",
    "                max_val = cur_info[\"Value\"]\n",
    "                max_name = cur_info[\"Name\"]\n",
    "        return max_name\n",
    "        \n",
    "        \n",
    "example_obj = Rate()\n",
    "print(example_obj.get_max_name())\n",
    "#all_obj = Rate()\n",
    "#pprint(all_obj.exchange_rates())\n"
   ]
  },
  {
   "cell_type": "markdown",
   "metadata": {},
   "source": [
    "## Задание 2\n",
    "Добавьте в класс Rate параметр diff (со значениями True или False), который в случае значения True в методах курсов валют (eur, usd итд) будет возвращать не курс валюты, а изменение по сравнению в прошлым значением. Считайте, self.diff будет принимать значение True только при возврате значения курса. При отображении всей информации о валюте он не используется."
   ]
  },
  {
   "cell_type": "code",
   "execution_count": 126,
   "metadata": {},
   "outputs": [
    {
     "name": "stdout",
     "output_type": "stream",
     "text": [
      "mode=full, diff=False\n",
      "1. {'ID': 'R01235', 'NumCode': '840', 'CharCode': 'USD', 'Nominal': 1, 'Name': 'Доллар США', 'Value': 76.4667, 'Previous': 77.0809}\n",
      "2. {'ID': 'R01239', 'NumCode': '978', 'CharCode': 'EUR', 'Nominal': 1, 'Name': 'Евро', 'Value': 90.4142, 'Previous': 91.3563}\n",
      "mode=currency, diff=False\n",
      "3. 76.4667\n",
      "4. 90.4142\n",
      "mode=currency, diff=True\n",
      "5. -0.6141999999999967\n",
      "6. -0.9421000000000106\n"
     ]
    }
   ],
   "source": [
    "import requests\n",
    "from pprint import pprint\n",
    "\n",
    "\n",
    "class Rate:\n",
    "   \n",
    "    FULL_MODE_NAME = 'full'\n",
    "    CURRENCY_MODE_NAME = 'currency'\n",
    "    rate_list = requests.get('https://www.cbr-xml-daily.ru/daily_json.js').json()['Valute']\n",
    "    \n",
    "    def __init__(self, mode='full', diff=False) -> None:\n",
    "       \n",
    "        self.mode = mode\n",
    "        self.diff = diff\n",
    "        \n",
    "    def set_full_mode(self) -> None:\n",
    "        self.mode = Rate.FULL_MODE_NAME\n",
    "        \n",
    "    def set_currency_mode(self) -> None:\n",
    "        self.mode = Rate.CURRENCY_MODE_NAME\n",
    "        \n",
    "    def set_diff_on(self) -> None:\n",
    "        self.diff = True\n",
    "        \n",
    "    def set_diff_off(self) -> None:\n",
    "        self.diff = False\n",
    "    \n",
    "    def get_rate(self, rate_name) -> dict:\n",
    "        current_rate = Rate.rate_list[rate_name]\n",
    "        \n",
    "        if self.mode == Rate.FULL_MODE_NAME:\n",
    "            return current_rate\n",
    "        \n",
    "        if self.diff:\n",
    "            return current_rate.get('Value') - current_rate.get('Previous')\n",
    "        \n",
    "        return current_rate.get('Value')\n",
    "    \n",
    "    def usd(self):\n",
    "        return self.get_rate('USD')\n",
    "    \n",
    "    def eur(self):\n",
    "        return self.get_rate('EUR')\n",
    "        \n",
    "class Logger:\n",
    "    log_count = 0\n",
    "    \n",
    "    @staticmethod\n",
    "    def num_print(*args):\n",
    "        Logger.log_count = Logger.log_count + 1\n",
    "        print(f'{Logger.log_count}.', *args)\n",
    "\n",
    "\n",
    "        \n",
    "rate = Rate()\n",
    "\n",
    "print('mode=full, diff=False')\n",
    "Logger.num_print(rate.usd()) \n",
    "Logger.num_print(rate.eur()) \n",
    "\n",
    "rate.set_currency_mode()\n",
    "print('mode=currency, diff=False')\n",
    "Logger.num_print(rate.usd()) \n",
    "Logger.num_print(rate.eur()) \n",
    "\n",
    "rate.set_diff_on()\n",
    "print('mode=currency, diff=True')\n",
    "Logger.num_print(rate.usd()) \n",
    "Logger.num_print(rate.eur()) "
   ]
  },
  {
   "cell_type": "markdown",
   "metadata": {},
   "source": [
    "## Задание 3\n",
    "Напишите класс Designer, который учитывает количество международных премий. Подсказки в коде занятия в разделе “Домашнее задание задача 3”.\n"
   ]
  },
  {
   "cell_type": "markdown",
   "metadata": {},
   "source": [
    "### Комментарий по классу Designer такой:\n",
    "Напишите класс Designer, который учитывает количество международных премий для дизайнеров (из презентации: “Повышение на 1 грейд за каждые 7 баллов. Получение международной премии – это +2 балла”). Считайте, что при выходе на работу сотрудник уже имеет две премии и их количество не меняется со стажем (конечно если хотите это можно вручную менять).\n"
   ]
  },
  {
   "cell_type": "code",
   "execution_count": 83,
   "metadata": {},
   "outputs": [
    {
     "name": "stdout",
     "output_type": "stream",
     "text": [
      "Sergey 1\n",
      "Sergey 1\n",
      "Sergey 1\n",
      "Sergey 1\n",
      "Sergey 1\n",
      "Sergey 1\n",
      "Sergey 1\n",
      "Sergey 2\n",
      "Sergey 2\n",
      "Sergey 2\n",
      "Sergey 2\n",
      "Sergey 2\n",
      "Sergey 2\n",
      "Sergey 2\n",
      "Sergey 3\n",
      "Sergey 3\n",
      "Sergey 3\n",
      "Sergey 3\n",
      "Sergey 3\n",
      "Sergey 3\n",
      "Sergey 3\n",
      "Sergey 4\n"
     ]
    }
   ],
   "source": [
    "from math import floor\n",
    "import requests\n",
    " \n",
    "class Employee:\n",
    "    def __init__(self, name, seniority):\n",
    "        self.name = name\n",
    "        self.seniority = seniority\n",
    "        \n",
    "      \n",
    "    def grade_up(self):\n",
    "        \"\"\"Повышает уровень сотрудника\"\"\"\n",
    "        self.grade += 1\n",
    "    \n",
    "    def publish_grade(self):\n",
    "        \"\"\"Публикация результатов аккредитации сотрудников\"\"\"\n",
    "        print(self.name, self.grade)\n",
    "    \n",
    "    def check_if_it_is_time_for_upgrade(self):\n",
    "        pass\n",
    "    \n",
    "class Designer(Employee):\n",
    "    \n",
    "    def __init__(self, name, seniority, inter_prize=2):\n",
    "        super().__init__(name, seniority)\n",
    "        self.inter_prize = inter_prize\n",
    "\n",
    "    @property\n",
    "    def grade(self):\n",
    "        return floor((self.inter_prize * 2 + self.seniority) / 7)\n",
    "\n",
    "        \n",
    "    def check_if_it_is_time_for_upgrade(self):\n",
    "        self.seniority += 1\n",
    "\n",
    "        return self.publish_grade()\n",
    "       \n",
    "Sergey = Designer('Sergey',seniority=2)\n",
    "\n",
    "for i in range(22):\n",
    "    Sergey.check_if_it_is_time_for_upgrade()\n",
    "    \n"
   ]
  }
 ],
 "metadata": {
  "kernelspec": {
   "display_name": "Python 3",
   "language": "python",
   "name": "python3"
  },
  "language_info": {
   "codemirror_mode": {
    "name": "ipython",
    "version": 3
   },
   "file_extension": ".py",
   "mimetype": "text/x-python",
   "name": "python",
   "nbconvert_exporter": "python",
   "pygments_lexer": "ipython3",
   "version": "3.8.3"
  }
 },
 "nbformat": 4,
 "nbformat_minor": 4
}
