{
 "cells": [
  {
   "cell_type": "markdown",
   "metadata": {},
   "source": [
    "# Домашнее задание к лекции \"Функции\"\n",
    "Вам нужно помочь секретарю автоматизировать работу. Для этого нужно написать программу, которая будет на основе хранимых данных исполнять пользовательские команды."
   ]
  },
  {
   "cell_type": "code",
   "execution_count": 16,
   "metadata": {},
   "outputs": [],
   "source": [
    "\n",
    "documents = [\n",
    "    {'type': 'passport', 'number': '2207 876234', 'name': 'Василий Гупкин'},\n",
    "    {'type': 'invoice', 'number': '11-2', 'name': 'Геннадий Покемонов'},\n",
    "    {'type': 'insurance', 'number': '10006', 'name': 'Аристарх Павлов'}\n",
    "]\n",
    "\n",
    "directories = {\n",
    "    '1': ['2207 876234', '11-2'],\n",
    "    '2': ['10006'],\n",
    "    '3': []\n",
    "}\n"
   ]
  },
  {
   "cell_type": "markdown",
   "metadata": {},
   "source": [
    "# Задание 1\n",
    "Пункт 1. Пользователь по команде \"p\" может узнать владельца документа по его номеру"
   ]
  },
  {
   "cell_type": "code",
   "execution_count": 4,
   "metadata": {
    "scrolled": true
   },
   "outputs": [
    {
     "name": "stdout",
     "output_type": "stream",
     "text": [
      "Введите команду:           p\n",
      "Введите номер документа:   10006\n",
      "Владелец документа:        Аристарх Павлов\n"
     ]
    }
   ],
   "source": [
    "\n",
    "documents = [\n",
    "    {'type': 'passport', 'number': '2207 876234', 'name': 'Василий Гупкин'},\n",
    "    {'type': 'invoice', 'number': '11-2', 'name': 'Геннадий Покемонов'},\n",
    "    {'type': 'insurance', 'number': '10006', 'name': 'Аристарх Павлов'}\n",
    "]\n",
    "\n",
    "directories = {\n",
    "    '1': ['2207 876234', '11-2'],\n",
    "    '2': ['10006'],\n",
    "    '3': []\n",
    "}\n",
    "\n",
    "p = input('Введите команду:           ')\n",
    "if p == 'p':\n",
    "    def p():\n",
    "        found = False\n",
    "        num = input('Введите номер документа:   ')\n",
    "        for dic in documents:\n",
    "            if \"number\" in dic.keys() and dic[\"number\"] == num:\n",
    "                print('Владелец документа:       ', dic['name'])\n",
    "                found = True\n",
    "                \n",
    "        if not found:\n",
    "            print('Документ не найден в базе')\n",
    "\n",
    "    p()"
   ]
  },
  {
   "cell_type": "code",
   "execution_count": 5,
   "metadata": {},
   "outputs": [
    {
     "name": "stdout",
     "output_type": "stream",
     "text": [
      "Введите команду:           p\n",
      "Введите номер документа:   12345\n",
      "Документ не найден в базе\n"
     ]
    }
   ],
   "source": [
    "p = input('Введите команду:           ')\n",
    "if p == 'p':\n",
    "    def p():\n",
    "        found = False\n",
    "        num = input('Введите номер документа:   ')\n",
    "        for dic in documents:\n",
    "            if \"number\" in dic.keys() and dic[\"number\"] == num:\n",
    "                print('Владелец документа:       ', dic['name'])\n",
    "                found = True\n",
    "\n",
    "        if not found:\n",
    "            print('Документ не найден в базе')\n",
    "\n",
    "    p()"
   ]
  },
  {
   "cell_type": "markdown",
   "metadata": {},
   "source": [
    "Пункт 2. Пользователь по команде \"s\" может по номеру документа узнать на какой полке он хранится"
   ]
  },
  {
   "cell_type": "code",
   "execution_count": 13,
   "metadata": {},
   "outputs": [
    {
     "name": "stdout",
     "output_type": "stream",
     "text": [
      "Введите команду:         s\n",
      "Введите номер документа: 10006\n",
      "Документ хранится на полке:  2\n"
     ]
    }
   ],
   "source": [
    "s = input('Введите команду:         ')\n",
    "if s == 's':\n",
    "\n",
    "    def s(document_number):\n",
    "        for k in directories:\n",
    "            if document_number in directories[k]:\n",
    "                return k\n",
    "        return 'Документ не найден в базе'\n",
    "\n",
    "document_number = input(\"Введите номер документа: \")\n",
    "print('Документ хранится на полке: ', s(document_number))"
   ]
  },
  {
   "cell_type": "code",
   "execution_count": 14,
   "metadata": {},
   "outputs": [
    {
     "name": "stdout",
     "output_type": "stream",
     "text": [
      "Введите команду:         s\n",
      "Введите номер документа: 12345\n",
      "Документ хранится на полке:  Документ не найден в базе\n"
     ]
    }
   ],
   "source": [
    "s = input('Введите команду:         ')\n",
    "if s == 's':\n",
    "\n",
    "    def s(document_number):\n",
    "        for k in directories:\n",
    "            if document_number in directories[k]:\n",
    "                return k\n",
    "        return 'Документ не найден в базе'\n",
    "\n",
    "document_number = input(\"Введите номер документа: \")\n",
    "print('Документ хранится на полке: ', s(document_number))"
   ]
  },
  {
   "cell_type": "markdown",
   "metadata": {},
   "source": [
    "Пункт 3. Пользователь по команде \"l\" может увидеть полную информацию по всем документам"
   ]
  },
  {
   "cell_type": "code",
   "execution_count": 1,
   "metadata": {},
   "outputs": [
    {
     "name": "stdout",
     "output_type": "stream",
     "text": [
      "Введите команду:         l\n",
      "{'type': 'passport', 'number': '2207 876234', 'name': 'Василий Гупкин', 'Полка хранения': '1'}\n",
      "{'type': 'invoice', 'number': '11-2', 'name': 'Геннадий Покемонов', 'Полка хранения': '1'}\n",
      "{'type': 'insurance', 'number': '10006', 'name': 'Аристарх Павлов', 'Полка хранения': '2'}\n"
     ]
    }
   ],
   "source": [
    "\n",
    "documents = [\n",
    "    {'type': 'passport', 'number': '2207 876234', 'name': 'Василий Гупкин'},\n",
    "    {'type': 'invoice', 'number': '11-2', 'name': 'Геннадий Покемонов'},\n",
    "    {'type': 'insurance', 'number': '10006', 'name': 'Аристарх Павлов'}\n",
    "]\n",
    "\n",
    "directories = {\n",
    "    '1': ['2207 876234', '11-2'],\n",
    "    '2': ['10006'],\n",
    "    '3': []\n",
    "}\n",
    "\n",
    "l = input('Введите команду:         ')\n",
    "if l == 'l':\n",
    "    for person in documents:\n",
    "        dir = list(filter(lambda e: person['number'] in e[1], directories.items()))[0]\n",
    "        person['Полка хранения'] = dir[0]\n",
    "        print(person)\n"
   ]
  },
  {
   "cell_type": "markdown",
   "metadata": {},
   "source": [
    "Пункт 4. Пользователь по команде \"ads\" может добавить новую полку"
   ]
  },
  {
   "cell_type": "code",
   "execution_count": 42,
   "metadata": {},
   "outputs": [
    {
     "name": "stdout",
     "output_type": "stream",
     "text": [
      "Введите команду:     ads\n",
      "Введите номер полки: 1\n",
      "Такая полка уже существует. Текущий перечень полок: ['1', '2', '3']\n"
     ]
    }
   ],
   "source": [
    "# В данной задаче не смог выполнить корректно добавление полки. \n",
    "#Перезаписывается полностью словарь со всеми ключами и значениями при использовании указанных ниже команд...\n",
    "documents = [\n",
    "    {'type': 'passport', 'number': '2207 876234', 'name': 'Василий Гупкин'},\n",
    "    {'type': 'invoice', 'number': '11-2', 'name': 'Геннадий Покемонов'},\n",
    "    {'type': 'insurance', 'number': '10006', 'name': 'Аристарх Павлов'}\n",
    "]\n",
    "\n",
    "directories = {\n",
    "    '1': ['2207 876234', '11-2'],\n",
    "    '2': ['10006'],\n",
    "    '3': []\n",
    "}\n",
    "\n",
    "ads = input('Введите команду:     ')\n",
    "if ads == 'ads':\n",
    "    def ads():\n",
    "        shelf = input(\"Введите номер полки: \")\n",
    "        for direct in directories.items():\n",
    "            if shelf in direct[0]:\n",
    "                print(f\"Такая полка уже существует. Текущий перечень полок: {list(directories.keys())}\")\n",
    "                break\n",
    "            #else:\n",
    "                 #directories[shelf] = []\n",
    "                 #print(f\"Полка добавлена. Текущий перечень полок: {list(directories.keys())}\")\n",
    "ads()\n",
    "\n"
   ]
  }
 ],
 "metadata": {
  "kernelspec": {
   "display_name": "Python 3",
   "language": "python",
   "name": "python3"
  },
  "language_info": {
   "codemirror_mode": {
    "name": "ipython",
    "version": 3
   },
   "file_extension": ".py",
   "mimetype": "text/x-python",
   "name": "python",
   "nbconvert_exporter": "python",
   "pygments_lexer": "ipython3",
   "version": "3.8.3"
  }
 },
 "nbformat": 4,
 "nbformat_minor": 4
}
