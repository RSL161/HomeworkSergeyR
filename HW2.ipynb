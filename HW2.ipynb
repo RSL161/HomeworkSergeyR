{
 "cells": [
  {
   "cell_type": "markdown",
   "metadata": {},
   "source": [
    "Задание 1\n",
    "Даны 2 переменных, в которых хранятся строки произвольной длины: phrase_1 и phrase_2.\n",
    "Напишите код, который проверяет какая из этих строк длиннее."
   ]
  },
  {
   "cell_type": "code",
   "execution_count": 1,
   "metadata": {},
   "outputs": [
    {
     "name": "stdout",
     "output_type": "stream",
     "text": [
      "Фраза 1 длиннее фразы 2\n"
     ]
    }
   ],
   "source": [
    "phrase_1 = 'Насколько проще было бы писать программы, если бы не заказчики'\n",
    "phrase_2 = '640Кб должно хватить для любых задач. Билл Гейтс (по легенде)'\n",
    "if len(phrase_1) < len(phrase_2):\n",
    "    print('Фраза 2 длиннее фразы 1')\n",
    "elif  len(phrase_1) == len(phrase_2): \n",
    "    print('Фраза 2 равна фразе 1')\n",
    "else:\n",
    "    print('Фраза 1 длиннее фразы 2')"
   ]
  },
  {
   "cell_type": "markdown",
   "metadata": {},
   "source": [
    "Задание 2\n",
    "Дана переменная, в которой хранится четырехзначное число (год). Необходимо написать программу, которая выведет, является ли данный год високосным или обычным."
   ]
  },
  {
   "cell_type": "code",
   "execution_count": 18,
   "metadata": {},
   "outputs": [
    {
     "name": "stdout",
     "output_type": "stream",
     "text": [
      "Год:2020\n",
      "Високосный год\n"
     ]
    }
   ],
   "source": [
    "year = int(input(\"Год:\")) \n",
    "            \n",
    "if year % 4 != 0:\n",
    "    print('Обычный год')\n",
    "elif year % 100 == 0:\n",
    "    if year % 400 == 0:\n",
    "        print('Високосный год')\n",
    "    else :\n",
    "        print('Обычный год')\n",
    "else:\n",
    "    print('Високосный год')"
   ]
  },
  {
   "cell_type": "markdown",
   "metadata": {},
   "source": [
    "Задание 3\n",
    "Необходимо написать программу, которая будет запрашивать у пользователя месяц и дату рождения и выводить соответствующий знак зодиака."
   ]
  },
  {
   "cell_type": "code",
   "execution_count": 45,
   "metadata": {},
   "outputs": [
    {
     "name": "stdout",
     "output_type": "stream",
     "text": [
      "Дата рождения:12\n",
      "Месяц рождения:12\n",
      "Знак зодиака:Стрелец\n"
     ]
    }
   ],
   "source": [
    "date = int(input(\"Дата рождения:\"))\n",
    "\n",
    "month = int(input(\"Месяц рождения:\"))\n",
    "\n",
    "if (date>=21 & date<=31 & month==1) or( month==2 & date>=1 & date<=18):\n",
    "\n",
    "    print(\"Знак зодиака:Водолей\")\n",
    "\n",
    "elif (date>=19 & date<=29 & month==2) or( month==3 & date>=1 & date<=20):\n",
    "\n",
    "    print(\"Знак зодиака:Рыбы\")\n",
    "\n",
    "elif (date>=21 & date<=31 & month==3) or( month==4 & date>=1 & date<=19):\n",
    "\n",
    "    print(\"Знак зодиака:Овен\")\n",
    "\n",
    "elif (date>=20 & date<=30 & month==4) or( month==5 & date>=1 & date<=20):\n",
    "\n",
    "    print(\"Знак зодиака:Телец\")\n",
    "    \n",
    "elif (date>=21 & date<=31 & month==5) or( month==6 & date>=1 & date<=21):\n",
    "\n",
    "    print(\"Знак зодиака:Близнецы\")\n",
    "\n",
    "elif (date>=22 & date<=30 & month==6) or( month==7 & date>=1 & date<=22):\n",
    "\n",
    "    print(\"Знак зодиака:Рак\")\n",
    "\n",
    "elif (date>=23 & date<=31 & month==7) or( month==8 & date>=1 & date<=22):\n",
    "\n",
    "    print(\"Знак зодиака:Лев\")\n",
    "\n",
    "elif (date>=23 & date<=31 & month==8) or( month==9 & date>=1 & date<=22):\n",
    "\n",
    "    print(\"Знак зодиака:Дева\")\n",
    "\n",
    "elif (date>=23 & date<=30 & month==9) or( month==10 & date>=1 & date<=23):\n",
    "\n",
    "    print(\"Знак зодиака:Весы\")\n",
    "\n",
    "elif (date>=24 & date<=31 & month==10) or( month==11 & date>=1 & date<=22):\n",
    "\n",
    "    print(\"Знак зодиака:Скорпион\")\n",
    "\n",
    "elif (date >= 23 & date <= 30 & month == 11) or ( month == 12  & date >= 1 & date <= 21 ):\n",
    "\n",
    "    print(\"Знак зодиака:Стрелец\")\n",
    "\n",
    "elif (date>=22 & date<=31 & month==12) or( month==1 & date>=1 & date<=20):\n",
    "\n",
    "    print(\"Знак зодиака:Козерог\")"
   ]
  },
  {
   "cell_type": "markdown",
   "metadata": {},
   "source": [
    "Задание 4\n",
    "Вам нужно написать программу для подбора упаковок по размерам товара. Размеры хранятся в переменных (в сантиметрах)"
   ]
  },
  {
   "cell_type": "code",
   "execution_count": 62,
   "metadata": {},
   "outputs": [
    {
     "name": "stdout",
     "output_type": "stream",
     "text": [
      "width:15\n",
      "length:205\n",
      "height:60\n",
      "Упаковка для лыж\n"
     ]
    }
   ],
   "source": [
    "width = int(input(\"width:\"))\n",
    "length = int(input(\"length:\"))\n",
    "height = int(input(\"height:\"))\n",
    "\n",
    "if (width < 15 and length < 15 and height < 15):\n",
    "    print('Коробка №1')\n",
    "    \n",
    "elif (width > 50 and length > 50 and height > 50):\n",
    "    print('Коробка №2') \n",
    "elif (length > 200):\n",
    "    print('Упаковка для лыж') \n",
    "    \n",
    "else:\n",
    "    print('Стандартная коробка №3')\n",
    "    \n"
   ]
  }
 ],
 "metadata": {
  "kernelspec": {
   "display_name": "Python 3",
   "language": "python",
   "name": "python3"
  },
  "language_info": {
   "codemirror_mode": {
    "name": "ipython",
    "version": 3
   },
   "file_extension": ".py",
   "mimetype": "text/x-python",
   "name": "python",
   "nbconvert_exporter": "python",
   "pygments_lexer": "ipython3",
   "version": "3.8.3"
  }
 },
 "nbformat": 4,
 "nbformat_minor": 4
}
