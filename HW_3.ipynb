{
 "cells": [
  {
   "cell_type": "markdown",
   "metadata": {},
   "source": [
    "**Задание 1\n",
    "Дана переменная, в которой хранится слово из латинских букв. Напишите код, который выводит на экран:\n",
    "среднюю букву, если число букв в слове нечетное;\n",
    "две средних буквы, если число букв четное.**"
   ]
  },
  {
   "cell_type": "code",
   "execution_count": 34,
   "metadata": {},
   "outputs": [
    {
     "name": "stdout",
     "output_type": "stream",
     "text": [
      "Четное количество букв ,Средние два символа: rg\n"
     ]
    }
   ],
   "source": [
    "word = 'Sergey'\n",
    "\n",
    "if len(word) % 2 == 0:  \n",
    "    res = int(len(word))\n",
    "    midl2 = res // 2\n",
    "    print('Четное количество букв ' ','  'Средние два символа:' , word[midl2 - 1 : midl2 + 1])\n",
    "else:\n",
    "    midl1 = res // 2\n",
    "    print( 'Нечетное количество букв'  ','  'Средний символ:' , word[midl1])\n"
   ]
  },
  {
   "cell_type": "code",
   "execution_count": 36,
   "metadata": {},
   "outputs": [
    {
     "name": "stdout",
     "output_type": "stream",
     "text": [
      "Нечетное количество букв,Средний символ: t\n"
     ]
    }
   ],
   "source": [
    "word = 'testing'\n",
    "\n",
    "if len(word) % 2 == 0:  \n",
    "    res = int(len(word))\n",
    "    midl2 = res // 2\n",
    "    print('Четное количество букв '  ',' 'Средний символ:' , word[midl2 - 1 : midl2 + 1])\n",
    "else:\n",
    "    midl1 = res // 2\n",
    "    print( 'Нечетное количество букв'  ',' 'Средний символ:' , word[midl1])"
   ]
  },
  {
   "cell_type": "markdown",
   "metadata": {},
   "source": [
    "**Задание 2\n",
    "Напишите программу, которая последовательно запрашивает у пользователя числа (по одному за раз) и после первого нуля выводит сумму всех ранее введенных чисел.**"
   ]
  },
  {
   "cell_type": "code",
   "execution_count": 42,
   "metadata": {},
   "outputs": [
    {
     "name": "stdout",
     "output_type": "stream",
     "text": [
      "1\n",
      "2\n",
      "3\n",
      "0\n",
      "Сумма всех ранее введенных чисел:  6\n"
     ]
    }
   ],
   "source": [
    "numeral = int(input())\n",
    "sum = 0\n",
    "while  numeral != 0 :\n",
    "    sum += numeral\n",
    "    numeral = int(input())\n",
    "\n",
    "print ('Сумма всех ранее введенных чисел: ' , sum)"
   ]
  },
  {
   "cell_type": "markdown",
   "metadata": {},
   "source": [
    "**Задание 3\n",
    "Мы делаем MVP dating-сервиса, и у нас есть список парней и девушек.\n",
    "Выдвигаем гипотезу: лучшие рекомендации мы получим, если просто отсортируем имена по алфавиту и познакомим людей с одинаковыми индексами после сортировки! Но мы не будем никого знакомить, если кто-то может остаться без пары.**"
   ]
  },
  {
   "cell_type": "code",
   "execution_count": 48,
   "metadata": {
    "scrolled": true
   },
   "outputs": [
    {
     "name": "stdout",
     "output_type": "stream",
     "text": [
      "Идеальные пары:\n",
      "Alex  и Emma\n",
      "Arthur  и Kate\n",
      "John  и Kira\n",
      "Peter  и Liza\n",
      "Richard  и Trisha\n"
     ]
    }
   ],
   "source": [
    "# Реально не понял почему кто-то может остаться без пары...если только конечно не изменить список.\n",
    "#(и вместе с тем два часа времени на эту задачку потрачены с реальной пользой:) )\n",
    "\n",
    "boys = ['Peter', 'Alex', 'John', 'Arthur', 'Richard']\n",
    "girls = ['Kate', 'Liza', 'Kira', 'Emma', 'Trisha']\n",
    "boys_new = (sorted( boys , reverse = False))\n",
    "girls_new = (sorted( girls , reverse = False))\n",
    "new_list = zip(boys_new , girls_new)\n",
    "print ('Идеальные пары:', )\n",
    "\n",
    "for name in new_list:\n",
    "    print(name[0] , ' и' ,name [1])\n"
   ]
  },
  {
   "cell_type": "markdown",
   "metadata": {
    "scrolled": true
   },
   "source": [
    "**Задание 4\n",
    "У нас есть список, содержащий информацию о среднедневной температуре в Фаренгейтах за произвольный период по странам (структура данных в примере). Необходимо написать код, который рассчитает среднюю температуру за период в Цельсиях(!) для каждой страны.**"
   ]
  },
  {
   "cell_type": "code",
   "execution_count": 59,
   "metadata": {},
   "outputs": [
    {
     "name": "stdout",
     "output_type": "stream",
     "text": [
      "Средняя температура в странах:\n",
      "Thailand  -  23.86  C \n",
      "Germany  -  13.8  C \n",
      "Russia  -  3.71  C \n",
      "Poland  -  12.0  C \n"
     ]
    }
   ],
   "source": [
    "countries_temperature = [\n",
    "      ['Thailand', [75.2, 77, 78.8, 73.4, 68, 75.2, 77]],\n",
    "      ['Germany', [57.2, 55.4, 59, 59, 53.6]],\n",
    "      ['Russia', [35.6, 37.4, 39.2, 41, 42.8, 39.2, 35.6]],\n",
    "      ['Poland', [50, 50, 53.6, 57.2, 55.4, 55.4]]\n",
    "]\n",
    "\n",
    "print('Средняя температура в странах:')    \n",
    "\n",
    "for data in countries_temperature:\n",
    "    print(data[0], ' - ', round((sum(data[1]) / len(data[1]) - 32) * (5 / 9),2), ' C ' )"
   ]
  },
  {
   "cell_type": "markdown",
   "metadata": {},
   "source": [
    "На необязательные задания сил не хватило,уж ооочень много времени и дней ушли на ДЗ))) конечно без помощи Google не обошлось."
   ]
  }
 ],
 "metadata": {
  "kernelspec": {
   "display_name": "Python 3",
   "language": "python",
   "name": "python3"
  },
  "language_info": {
   "codemirror_mode": {
    "name": "ipython",
    "version": 3
   },
   "file_extension": ".py",
   "mimetype": "text/x-python",
   "name": "python",
   "nbconvert_exporter": "python",
   "pygments_lexer": "ipython3",
   "version": "3.8.3"
  }
 },
 "nbformat": 4,
 "nbformat_minor": 4
}
