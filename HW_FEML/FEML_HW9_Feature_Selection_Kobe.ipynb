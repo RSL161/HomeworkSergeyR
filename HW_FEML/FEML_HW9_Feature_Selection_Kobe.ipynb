{
 "cells": [
  {
   "cell_type": "code",
   "execution_count": 38,
   "metadata": {
    "id": "zqHdTz2wPPKW"
   },
   "outputs": [],
   "source": [
    "import pandas as pd\n",
    "import numpy as np\n",
    "import matplotlib.pyplot as plt\n",
    "%matplotlib inline\n",
    "from sklearn.preprocessing import OneHotEncoder, StandardScaler\n",
    "from sklearn.compose import ColumnTransformer\n",
    "from sklearn.linear_model import LinearRegression, Lasso, Ridge\n",
    "from sklearn.pipeline import Pipeline\n",
    "from sklearn.metrics import mean_squared_error\n",
    "from sklearn.decomposition import PCA\n",
    "from sklearn.metrics import roc_auc_score, roc_curve"
   ]
  },
  {
   "cell_type": "markdown",
   "metadata": {
    "id": "lvM0J0AaPPKc"
   },
   "source": [
    "## Kobe Bryant  shot selection"
   ]
  },
  {
   "cell_type": "markdown",
   "metadata": {
    "id": "hVjPZ_ukPPKc"
   },
   "source": [
    "Cсылка на соревнование: https://www.kaggle.com/c/kobe-bryant-shot-selection"
   ]
  },
  {
   "cell_type": "markdown",
   "metadata": {
    "id": "qgn5s7NFPPKd"
   },
   "source": [
    "Goal: Fun and education"
   ]
  },
  {
   "cell_type": "markdown",
   "metadata": {
    "id": "4bIkh2ACPPKd"
   },
   "source": [
    "Using 20 years of data on Kobe's swishes and misses, can you predict which shots will find the bottom of the net? This competition is well suited for practicing classification basics, feature engineering, and time series analysis. Practice got Kobe an eight-figure contract and 5 championship rings. What will it get you?"
   ]
  },
  {
   "cell_type": "markdown",
   "metadata": {
    "id": "JYgEsdafPPKd"
   },
   "source": [
    "This data contains the location and circumstances of every field goal attempted by Kobe Bryant took during his 20-year career. Your task is to predict whether the basket went in (shot_made_flag).\n",
    "\n",
    "We have removed 5000 of the shot_made_flags (represented as missing values in the csv file). These are the test set shots for which you must submit a prediction. You are provided a sample submission file with the correct shot_ids needed for a valid prediction."
   ]
  },
  {
   "cell_type": "code",
   "execution_count": 4,
   "metadata": {
    "id": "LVq90rI-PPKe"
   },
   "outputs": [],
   "source": [
    "df = pd.read_csv('HW_task/FEML/230421_Feature Selection/kobe.csv')"
   ]
  },
  {
   "cell_type": "code",
   "execution_count": 5,
   "metadata": {
    "id": "S6q19ap7PPKe",
    "outputId": "54cc12f8-335a-40d1-c820-b3030b3129af"
   },
   "outputs": [
    {
     "data": {
      "text/html": [
       "<div>\n",
       "<style scoped>\n",
       "    .dataframe tbody tr th:only-of-type {\n",
       "        vertical-align: middle;\n",
       "    }\n",
       "\n",
       "    .dataframe tbody tr th {\n",
       "        vertical-align: top;\n",
       "    }\n",
       "\n",
       "    .dataframe thead th {\n",
       "        text-align: right;\n",
       "    }\n",
       "</style>\n",
       "<table border=\"1\" class=\"dataframe\">\n",
       "  <thead>\n",
       "    <tr style=\"text-align: right;\">\n",
       "      <th></th>\n",
       "      <th>action_type</th>\n",
       "      <th>combined_shot_type</th>\n",
       "      <th>game_event_id</th>\n",
       "      <th>game_id</th>\n",
       "      <th>lat</th>\n",
       "      <th>loc_x</th>\n",
       "      <th>loc_y</th>\n",
       "      <th>lon</th>\n",
       "      <th>minutes_remaining</th>\n",
       "      <th>period</th>\n",
       "      <th>...</th>\n",
       "      <th>shot_type</th>\n",
       "      <th>shot_zone_area</th>\n",
       "      <th>shot_zone_basic</th>\n",
       "      <th>shot_zone_range</th>\n",
       "      <th>team_id</th>\n",
       "      <th>team_name</th>\n",
       "      <th>game_date</th>\n",
       "      <th>matchup</th>\n",
       "      <th>opponent</th>\n",
       "      <th>shot_id</th>\n",
       "    </tr>\n",
       "  </thead>\n",
       "  <tbody>\n",
       "    <tr>\n",
       "      <th>0</th>\n",
       "      <td>Jump Shot</td>\n",
       "      <td>Jump Shot</td>\n",
       "      <td>10</td>\n",
       "      <td>20000012</td>\n",
       "      <td>33.9723</td>\n",
       "      <td>167</td>\n",
       "      <td>72</td>\n",
       "      <td>-118.1028</td>\n",
       "      <td>10</td>\n",
       "      <td>1</td>\n",
       "      <td>...</td>\n",
       "      <td>2PT Field Goal</td>\n",
       "      <td>Right Side(R)</td>\n",
       "      <td>Mid-Range</td>\n",
       "      <td>16-24 ft.</td>\n",
       "      <td>1610612747</td>\n",
       "      <td>Los Angeles Lakers</td>\n",
       "      <td>2000-10-31</td>\n",
       "      <td>LAL @ POR</td>\n",
       "      <td>POR</td>\n",
       "      <td>1</td>\n",
       "    </tr>\n",
       "    <tr>\n",
       "      <th>1</th>\n",
       "      <td>Jump Shot</td>\n",
       "      <td>Jump Shot</td>\n",
       "      <td>12</td>\n",
       "      <td>20000012</td>\n",
       "      <td>34.0443</td>\n",
       "      <td>-157</td>\n",
       "      <td>0</td>\n",
       "      <td>-118.4268</td>\n",
       "      <td>10</td>\n",
       "      <td>1</td>\n",
       "      <td>...</td>\n",
       "      <td>2PT Field Goal</td>\n",
       "      <td>Left Side(L)</td>\n",
       "      <td>Mid-Range</td>\n",
       "      <td>8-16 ft.</td>\n",
       "      <td>1610612747</td>\n",
       "      <td>Los Angeles Lakers</td>\n",
       "      <td>2000-10-31</td>\n",
       "      <td>LAL @ POR</td>\n",
       "      <td>POR</td>\n",
       "      <td>2</td>\n",
       "    </tr>\n",
       "    <tr>\n",
       "      <th>2</th>\n",
       "      <td>Jump Shot</td>\n",
       "      <td>Jump Shot</td>\n",
       "      <td>35</td>\n",
       "      <td>20000012</td>\n",
       "      <td>33.9093</td>\n",
       "      <td>-101</td>\n",
       "      <td>135</td>\n",
       "      <td>-118.3708</td>\n",
       "      <td>7</td>\n",
       "      <td>1</td>\n",
       "      <td>...</td>\n",
       "      <td>2PT Field Goal</td>\n",
       "      <td>Left Side Center(LC)</td>\n",
       "      <td>Mid-Range</td>\n",
       "      <td>16-24 ft.</td>\n",
       "      <td>1610612747</td>\n",
       "      <td>Los Angeles Lakers</td>\n",
       "      <td>2000-10-31</td>\n",
       "      <td>LAL @ POR</td>\n",
       "      <td>POR</td>\n",
       "      <td>3</td>\n",
       "    </tr>\n",
       "    <tr>\n",
       "      <th>3</th>\n",
       "      <td>Jump Shot</td>\n",
       "      <td>Jump Shot</td>\n",
       "      <td>43</td>\n",
       "      <td>20000012</td>\n",
       "      <td>33.8693</td>\n",
       "      <td>138</td>\n",
       "      <td>175</td>\n",
       "      <td>-118.1318</td>\n",
       "      <td>6</td>\n",
       "      <td>1</td>\n",
       "      <td>...</td>\n",
       "      <td>2PT Field Goal</td>\n",
       "      <td>Right Side Center(RC)</td>\n",
       "      <td>Mid-Range</td>\n",
       "      <td>16-24 ft.</td>\n",
       "      <td>1610612747</td>\n",
       "      <td>Los Angeles Lakers</td>\n",
       "      <td>2000-10-31</td>\n",
       "      <td>LAL @ POR</td>\n",
       "      <td>POR</td>\n",
       "      <td>4</td>\n",
       "    </tr>\n",
       "    <tr>\n",
       "      <th>4</th>\n",
       "      <td>Driving Dunk Shot</td>\n",
       "      <td>Dunk</td>\n",
       "      <td>155</td>\n",
       "      <td>20000012</td>\n",
       "      <td>34.0443</td>\n",
       "      <td>0</td>\n",
       "      <td>0</td>\n",
       "      <td>-118.2698</td>\n",
       "      <td>6</td>\n",
       "      <td>2</td>\n",
       "      <td>...</td>\n",
       "      <td>2PT Field Goal</td>\n",
       "      <td>Center(C)</td>\n",
       "      <td>Restricted Area</td>\n",
       "      <td>Less Than 8 ft.</td>\n",
       "      <td>1610612747</td>\n",
       "      <td>Los Angeles Lakers</td>\n",
       "      <td>2000-10-31</td>\n",
       "      <td>LAL @ POR</td>\n",
       "      <td>POR</td>\n",
       "      <td>5</td>\n",
       "    </tr>\n",
       "  </tbody>\n",
       "</table>\n",
       "<p>5 rows × 25 columns</p>\n",
       "</div>"
      ],
      "text/plain": [
       "         action_type combined_shot_type  game_event_id   game_id      lat  \\\n",
       "0          Jump Shot          Jump Shot             10  20000012  33.9723   \n",
       "1          Jump Shot          Jump Shot             12  20000012  34.0443   \n",
       "2          Jump Shot          Jump Shot             35  20000012  33.9093   \n",
       "3          Jump Shot          Jump Shot             43  20000012  33.8693   \n",
       "4  Driving Dunk Shot               Dunk            155  20000012  34.0443   \n",
       "\n",
       "   loc_x  loc_y       lon  minutes_remaining  period  ...       shot_type  \\\n",
       "0    167     72 -118.1028                 10       1  ...  2PT Field Goal   \n",
       "1   -157      0 -118.4268                 10       1  ...  2PT Field Goal   \n",
       "2   -101    135 -118.3708                  7       1  ...  2PT Field Goal   \n",
       "3    138    175 -118.1318                  6       1  ...  2PT Field Goal   \n",
       "4      0      0 -118.2698                  6       2  ...  2PT Field Goal   \n",
       "\n",
       "          shot_zone_area  shot_zone_basic  shot_zone_range     team_id  \\\n",
       "0          Right Side(R)        Mid-Range        16-24 ft.  1610612747   \n",
       "1           Left Side(L)        Mid-Range         8-16 ft.  1610612747   \n",
       "2   Left Side Center(LC)        Mid-Range        16-24 ft.  1610612747   \n",
       "3  Right Side Center(RC)        Mid-Range        16-24 ft.  1610612747   \n",
       "4              Center(C)  Restricted Area  Less Than 8 ft.  1610612747   \n",
       "\n",
       "            team_name   game_date    matchup opponent  shot_id  \n",
       "0  Los Angeles Lakers  2000-10-31  LAL @ POR      POR        1  \n",
       "1  Los Angeles Lakers  2000-10-31  LAL @ POR      POR        2  \n",
       "2  Los Angeles Lakers  2000-10-31  LAL @ POR      POR        3  \n",
       "3  Los Angeles Lakers  2000-10-31  LAL @ POR      POR        4  \n",
       "4  Los Angeles Lakers  2000-10-31  LAL @ POR      POR        5  \n",
       "\n",
       "[5 rows x 25 columns]"
      ]
     },
     "execution_count": 5,
     "metadata": {},
     "output_type": "execute_result"
    }
   ],
   "source": [
    "df.head()"
   ]
  },
  {
   "cell_type": "code",
   "execution_count": 18,
   "metadata": {
    "id": "mRhHolq9PPKf"
   },
   "outputs": [],
   "source": [
    "target = 'shot_made_flag'"
   ]
  },
  {
   "cell_type": "markdown",
   "metadata": {
    "id": "QthCIdDVPPKf"
   },
   "source": [
    "**Задания:**\n",
    "\n",
    "1. Провести анализ данных. Много хороших примеров анализа можно посмотреть здесь https://www.kaggle.com/c/kobe-bryant-shot-selection/kernels\n",
    "2. Подготовить фичи для обучения модели - нагенерить признаков, обработать пропущенные значения, проверить на возможные выбросы, обработать категориальные признаки и др.\n",
    "3. Обучить линейную модель, Lasso, Ridge (с встроеной регуляризацией) на тех же признаках - построить сравнительную таблицу или график коэффициентов, сделать заключения о том, как меняется величина коэффициентов, какие зануляются. \n",
    "\n",
    "**Дополнительно**\n",
    "4. Сравнить результаты на тестовом наборе данных - сделать train_test_split в самом начале, подготовить переменные, сравнить результаты работы классификаторов (те же 3), метрика ROC AUC\n",
    "5. Построить PCA на подготовленных признаках, посмотреть, какие компоненты составляют наибольшую часть дисперсии целевой переменной"
   ]
  },
  {
   "cell_type": "code",
   "execution_count": 6,
   "metadata": {
    "id": "IcdHTiXxP5al"
   },
   "outputs": [
    {
     "name": "stdout",
     "output_type": "stream",
     "text": [
      "<class 'pandas.core.frame.DataFrame'>\n",
      "RangeIndex: 30697 entries, 0 to 30696\n",
      "Data columns (total 25 columns):\n",
      " #   Column              Non-Null Count  Dtype  \n",
      "---  ------              --------------  -----  \n",
      " 0   action_type         30697 non-null  object \n",
      " 1   combined_shot_type  30697 non-null  object \n",
      " 2   game_event_id       30697 non-null  int64  \n",
      " 3   game_id             30697 non-null  int64  \n",
      " 4   lat                 30697 non-null  float64\n",
      " 5   loc_x               30697 non-null  int64  \n",
      " 6   loc_y               30697 non-null  int64  \n",
      " 7   lon                 30697 non-null  float64\n",
      " 8   minutes_remaining   30697 non-null  int64  \n",
      " 9   period              30697 non-null  int64  \n",
      " 10  playoffs            30697 non-null  int64  \n",
      " 11  season              30697 non-null  object \n",
      " 12  seconds_remaining   30697 non-null  int64  \n",
      " 13  shot_distance       30697 non-null  int64  \n",
      " 14  shot_made_flag      25697 non-null  float64\n",
      " 15  shot_type           30697 non-null  object \n",
      " 16  shot_zone_area      30697 non-null  object \n",
      " 17  shot_zone_basic     30697 non-null  object \n",
      " 18  shot_zone_range     30697 non-null  object \n",
      " 19  team_id             30697 non-null  int64  \n",
      " 20  team_name           30697 non-null  object \n",
      " 21  game_date           30697 non-null  object \n",
      " 22  matchup             30697 non-null  object \n",
      " 23  opponent            30697 non-null  object \n",
      " 24  shot_id             30697 non-null  int64  \n",
      "dtypes: float64(3), int64(11), object(11)\n",
      "memory usage: 5.9+ MB\n"
     ]
    }
   ],
   "source": [
    "df.info()"
   ]
  },
  {
   "cell_type": "code",
   "execution_count": 38,
   "metadata": {},
   "outputs": [
    {
     "data": {
      "text/html": [
       "<div>\n",
       "<style scoped>\n",
       "    .dataframe tbody tr th:only-of-type {\n",
       "        vertical-align: middle;\n",
       "    }\n",
       "\n",
       "    .dataframe tbody tr th {\n",
       "        vertical-align: top;\n",
       "    }\n",
       "\n",
       "    .dataframe thead th {\n",
       "        text-align: right;\n",
       "    }\n",
       "</style>\n",
       "<table border=\"1\" class=\"dataframe\">\n",
       "  <thead>\n",
       "    <tr style=\"text-align: right;\">\n",
       "      <th></th>\n",
       "      <th>game_event_id</th>\n",
       "      <th>game_id</th>\n",
       "      <th>lat</th>\n",
       "      <th>loc_x</th>\n",
       "      <th>loc_y</th>\n",
       "      <th>lon</th>\n",
       "      <th>minutes_remaining</th>\n",
       "      <th>period</th>\n",
       "      <th>playoffs</th>\n",
       "      <th>seconds_remaining</th>\n",
       "      <th>shot_distance</th>\n",
       "      <th>shot_made_flag</th>\n",
       "      <th>team_id</th>\n",
       "      <th>shot_id</th>\n",
       "    </tr>\n",
       "  </thead>\n",
       "  <tbody>\n",
       "    <tr>\n",
       "      <th>count</th>\n",
       "      <td>30697.000000</td>\n",
       "      <td>3.069700e+04</td>\n",
       "      <td>30697.000000</td>\n",
       "      <td>30697.000000</td>\n",
       "      <td>30697.000000</td>\n",
       "      <td>30697.000000</td>\n",
       "      <td>30697.000000</td>\n",
       "      <td>30697.000000</td>\n",
       "      <td>30697.000000</td>\n",
       "      <td>30697.000000</td>\n",
       "      <td>30697.000000</td>\n",
       "      <td>25697.000000</td>\n",
       "      <td>3.069700e+04</td>\n",
       "      <td>30697.000000</td>\n",
       "    </tr>\n",
       "    <tr>\n",
       "      <th>mean</th>\n",
       "      <td>249.190800</td>\n",
       "      <td>2.476407e+07</td>\n",
       "      <td>33.953192</td>\n",
       "      <td>7.110499</td>\n",
       "      <td>91.107535</td>\n",
       "      <td>-118.262690</td>\n",
       "      <td>4.885624</td>\n",
       "      <td>2.519432</td>\n",
       "      <td>0.146562</td>\n",
       "      <td>28.365085</td>\n",
       "      <td>13.437437</td>\n",
       "      <td>0.446161</td>\n",
       "      <td>1.610613e+09</td>\n",
       "      <td>15349.000000</td>\n",
       "    </tr>\n",
       "    <tr>\n",
       "      <th>std</th>\n",
       "      <td>150.003712</td>\n",
       "      <td>7.755175e+06</td>\n",
       "      <td>0.087791</td>\n",
       "      <td>110.124578</td>\n",
       "      <td>87.791361</td>\n",
       "      <td>0.110125</td>\n",
       "      <td>3.449897</td>\n",
       "      <td>1.153665</td>\n",
       "      <td>0.353674</td>\n",
       "      <td>17.478949</td>\n",
       "      <td>9.374189</td>\n",
       "      <td>0.497103</td>\n",
       "      <td>0.000000e+00</td>\n",
       "      <td>8861.604943</td>\n",
       "    </tr>\n",
       "    <tr>\n",
       "      <th>min</th>\n",
       "      <td>2.000000</td>\n",
       "      <td>2.000001e+07</td>\n",
       "      <td>33.253300</td>\n",
       "      <td>-250.000000</td>\n",
       "      <td>-44.000000</td>\n",
       "      <td>-118.519800</td>\n",
       "      <td>0.000000</td>\n",
       "      <td>1.000000</td>\n",
       "      <td>0.000000</td>\n",
       "      <td>0.000000</td>\n",
       "      <td>0.000000</td>\n",
       "      <td>0.000000</td>\n",
       "      <td>1.610613e+09</td>\n",
       "      <td>1.000000</td>\n",
       "    </tr>\n",
       "    <tr>\n",
       "      <th>25%</th>\n",
       "      <td>110.000000</td>\n",
       "      <td>2.050008e+07</td>\n",
       "      <td>33.884300</td>\n",
       "      <td>-68.000000</td>\n",
       "      <td>4.000000</td>\n",
       "      <td>-118.337800</td>\n",
       "      <td>2.000000</td>\n",
       "      <td>1.000000</td>\n",
       "      <td>0.000000</td>\n",
       "      <td>13.000000</td>\n",
       "      <td>5.000000</td>\n",
       "      <td>0.000000</td>\n",
       "      <td>1.610613e+09</td>\n",
       "      <td>7675.000000</td>\n",
       "    </tr>\n",
       "    <tr>\n",
       "      <th>50%</th>\n",
       "      <td>253.000000</td>\n",
       "      <td>2.090035e+07</td>\n",
       "      <td>33.970300</td>\n",
       "      <td>0.000000</td>\n",
       "      <td>74.000000</td>\n",
       "      <td>-118.269800</td>\n",
       "      <td>5.000000</td>\n",
       "      <td>3.000000</td>\n",
       "      <td>0.000000</td>\n",
       "      <td>28.000000</td>\n",
       "      <td>15.000000</td>\n",
       "      <td>0.000000</td>\n",
       "      <td>1.610613e+09</td>\n",
       "      <td>15349.000000</td>\n",
       "    </tr>\n",
       "    <tr>\n",
       "      <th>75%</th>\n",
       "      <td>368.000000</td>\n",
       "      <td>2.960047e+07</td>\n",
       "      <td>34.040300</td>\n",
       "      <td>95.000000</td>\n",
       "      <td>160.000000</td>\n",
       "      <td>-118.174800</td>\n",
       "      <td>8.000000</td>\n",
       "      <td>3.000000</td>\n",
       "      <td>0.000000</td>\n",
       "      <td>43.000000</td>\n",
       "      <td>21.000000</td>\n",
       "      <td>1.000000</td>\n",
       "      <td>1.610613e+09</td>\n",
       "      <td>23023.000000</td>\n",
       "    </tr>\n",
       "    <tr>\n",
       "      <th>max</th>\n",
       "      <td>659.000000</td>\n",
       "      <td>4.990009e+07</td>\n",
       "      <td>34.088300</td>\n",
       "      <td>248.000000</td>\n",
       "      <td>791.000000</td>\n",
       "      <td>-118.021800</td>\n",
       "      <td>11.000000</td>\n",
       "      <td>7.000000</td>\n",
       "      <td>1.000000</td>\n",
       "      <td>59.000000</td>\n",
       "      <td>79.000000</td>\n",
       "      <td>1.000000</td>\n",
       "      <td>1.610613e+09</td>\n",
       "      <td>30697.000000</td>\n",
       "    </tr>\n",
       "  </tbody>\n",
       "</table>\n",
       "</div>"
      ],
      "text/plain": [
       "       game_event_id       game_id           lat         loc_x         loc_y  \\\n",
       "count   30697.000000  3.069700e+04  30697.000000  30697.000000  30697.000000   \n",
       "mean      249.190800  2.476407e+07     33.953192      7.110499     91.107535   \n",
       "std       150.003712  7.755175e+06      0.087791    110.124578     87.791361   \n",
       "min         2.000000  2.000001e+07     33.253300   -250.000000    -44.000000   \n",
       "25%       110.000000  2.050008e+07     33.884300    -68.000000      4.000000   \n",
       "50%       253.000000  2.090035e+07     33.970300      0.000000     74.000000   \n",
       "75%       368.000000  2.960047e+07     34.040300     95.000000    160.000000   \n",
       "max       659.000000  4.990009e+07     34.088300    248.000000    791.000000   \n",
       "\n",
       "                lon  minutes_remaining        period      playoffs  \\\n",
       "count  30697.000000       30697.000000  30697.000000  30697.000000   \n",
       "mean    -118.262690           4.885624      2.519432      0.146562   \n",
       "std        0.110125           3.449897      1.153665      0.353674   \n",
       "min     -118.519800           0.000000      1.000000      0.000000   \n",
       "25%     -118.337800           2.000000      1.000000      0.000000   \n",
       "50%     -118.269800           5.000000      3.000000      0.000000   \n",
       "75%     -118.174800           8.000000      3.000000      0.000000   \n",
       "max     -118.021800          11.000000      7.000000      1.000000   \n",
       "\n",
       "       seconds_remaining  shot_distance  shot_made_flag       team_id  \\\n",
       "count       30697.000000   30697.000000    25697.000000  3.069700e+04   \n",
       "mean           28.365085      13.437437        0.446161  1.610613e+09   \n",
       "std            17.478949       9.374189        0.497103  0.000000e+00   \n",
       "min             0.000000       0.000000        0.000000  1.610613e+09   \n",
       "25%            13.000000       5.000000        0.000000  1.610613e+09   \n",
       "50%            28.000000      15.000000        0.000000  1.610613e+09   \n",
       "75%            43.000000      21.000000        1.000000  1.610613e+09   \n",
       "max            59.000000      79.000000        1.000000  1.610613e+09   \n",
       "\n",
       "            shot_id  \n",
       "count  30697.000000  \n",
       "mean   15349.000000  \n",
       "std     8861.604943  \n",
       "min        1.000000  \n",
       "25%     7675.000000  \n",
       "50%    15349.000000  \n",
       "75%    23023.000000  \n",
       "max    30697.000000  "
      ]
     },
     "execution_count": 38,
     "metadata": {},
     "output_type": "execute_result"
    }
   ],
   "source": [
    "df.describe()"
   ]
  },
  {
   "cell_type": "code",
   "execution_count": 19,
   "metadata": {},
   "outputs": [
    {
     "name": "stdout",
     "output_type": "stream",
     "text": [
      "Для shot_made_flag пустых строк -  5000\n",
      "Всего строк                     -  30697\n"
     ]
    }
   ],
   "source": [
    "# проверяю наличие пустых строк в target\n",
    "\n",
    "print('Для shot_made_flag пустых строк -  {}'.format( len( df[ pd.isnull( df['shot_made_flag'] ) ] ) ))\n",
    "print('Всего строк                     -  {}'.format( len( df ) ))"
   ]
  },
  {
   "cell_type": "code",
   "execution_count": 20,
   "metadata": {},
   "outputs": [
    {
     "data": {
      "text/html": [
       "<div>\n",
       "<style scoped>\n",
       "    .dataframe tbody tr th:only-of-type {\n",
       "        vertical-align: middle;\n",
       "    }\n",
       "\n",
       "    .dataframe tbody tr th {\n",
       "        vertical-align: top;\n",
       "    }\n",
       "\n",
       "    .dataframe thead th {\n",
       "        text-align: right;\n",
       "    }\n",
       "</style>\n",
       "<table border=\"1\" class=\"dataframe\">\n",
       "  <thead>\n",
       "    <tr style=\"text-align: right;\">\n",
       "      <th></th>\n",
       "      <th>index</th>\n",
       "      <th>action_type</th>\n",
       "      <th>combined_shot_type</th>\n",
       "      <th>game_event_id</th>\n",
       "      <th>game_id</th>\n",
       "      <th>lat</th>\n",
       "      <th>loc_x</th>\n",
       "      <th>loc_y</th>\n",
       "      <th>lon</th>\n",
       "      <th>minutes_remaining</th>\n",
       "      <th>...</th>\n",
       "      <th>shot_type</th>\n",
       "      <th>shot_zone_area</th>\n",
       "      <th>shot_zone_basic</th>\n",
       "      <th>shot_zone_range</th>\n",
       "      <th>team_id</th>\n",
       "      <th>team_name</th>\n",
       "      <th>game_date</th>\n",
       "      <th>matchup</th>\n",
       "      <th>opponent</th>\n",
       "      <th>shot_id</th>\n",
       "    </tr>\n",
       "  </thead>\n",
       "  <tbody>\n",
       "    <tr>\n",
       "      <th>0</th>\n",
       "      <td>1</td>\n",
       "      <td>Jump Shot</td>\n",
       "      <td>Jump Shot</td>\n",
       "      <td>12</td>\n",
       "      <td>20000012</td>\n",
       "      <td>34.0443</td>\n",
       "      <td>-157</td>\n",
       "      <td>0</td>\n",
       "      <td>-118.4268</td>\n",
       "      <td>10</td>\n",
       "      <td>...</td>\n",
       "      <td>2PT Field Goal</td>\n",
       "      <td>Left Side(L)</td>\n",
       "      <td>Mid-Range</td>\n",
       "      <td>8-16 ft.</td>\n",
       "      <td>1610612747</td>\n",
       "      <td>Los Angeles Lakers</td>\n",
       "      <td>2000-10-31</td>\n",
       "      <td>LAL @ POR</td>\n",
       "      <td>POR</td>\n",
       "      <td>2</td>\n",
       "    </tr>\n",
       "    <tr>\n",
       "      <th>1</th>\n",
       "      <td>2</td>\n",
       "      <td>Jump Shot</td>\n",
       "      <td>Jump Shot</td>\n",
       "      <td>35</td>\n",
       "      <td>20000012</td>\n",
       "      <td>33.9093</td>\n",
       "      <td>-101</td>\n",
       "      <td>135</td>\n",
       "      <td>-118.3708</td>\n",
       "      <td>7</td>\n",
       "      <td>...</td>\n",
       "      <td>2PT Field Goal</td>\n",
       "      <td>Left Side Center(LC)</td>\n",
       "      <td>Mid-Range</td>\n",
       "      <td>16-24 ft.</td>\n",
       "      <td>1610612747</td>\n",
       "      <td>Los Angeles Lakers</td>\n",
       "      <td>2000-10-31</td>\n",
       "      <td>LAL @ POR</td>\n",
       "      <td>POR</td>\n",
       "      <td>3</td>\n",
       "    </tr>\n",
       "    <tr>\n",
       "      <th>2</th>\n",
       "      <td>3</td>\n",
       "      <td>Jump Shot</td>\n",
       "      <td>Jump Shot</td>\n",
       "      <td>43</td>\n",
       "      <td>20000012</td>\n",
       "      <td>33.8693</td>\n",
       "      <td>138</td>\n",
       "      <td>175</td>\n",
       "      <td>-118.1318</td>\n",
       "      <td>6</td>\n",
       "      <td>...</td>\n",
       "      <td>2PT Field Goal</td>\n",
       "      <td>Right Side Center(RC)</td>\n",
       "      <td>Mid-Range</td>\n",
       "      <td>16-24 ft.</td>\n",
       "      <td>1610612747</td>\n",
       "      <td>Los Angeles Lakers</td>\n",
       "      <td>2000-10-31</td>\n",
       "      <td>LAL @ POR</td>\n",
       "      <td>POR</td>\n",
       "      <td>4</td>\n",
       "    </tr>\n",
       "    <tr>\n",
       "      <th>3</th>\n",
       "      <td>4</td>\n",
       "      <td>Driving Dunk Shot</td>\n",
       "      <td>Dunk</td>\n",
       "      <td>155</td>\n",
       "      <td>20000012</td>\n",
       "      <td>34.0443</td>\n",
       "      <td>0</td>\n",
       "      <td>0</td>\n",
       "      <td>-118.2698</td>\n",
       "      <td>6</td>\n",
       "      <td>...</td>\n",
       "      <td>2PT Field Goal</td>\n",
       "      <td>Center(C)</td>\n",
       "      <td>Restricted Area</td>\n",
       "      <td>Less Than 8 ft.</td>\n",
       "      <td>1610612747</td>\n",
       "      <td>Los Angeles Lakers</td>\n",
       "      <td>2000-10-31</td>\n",
       "      <td>LAL @ POR</td>\n",
       "      <td>POR</td>\n",
       "      <td>5</td>\n",
       "    </tr>\n",
       "    <tr>\n",
       "      <th>4</th>\n",
       "      <td>5</td>\n",
       "      <td>Jump Shot</td>\n",
       "      <td>Jump Shot</td>\n",
       "      <td>244</td>\n",
       "      <td>20000012</td>\n",
       "      <td>34.0553</td>\n",
       "      <td>-145</td>\n",
       "      <td>-11</td>\n",
       "      <td>-118.4148</td>\n",
       "      <td>9</td>\n",
       "      <td>...</td>\n",
       "      <td>2PT Field Goal</td>\n",
       "      <td>Left Side(L)</td>\n",
       "      <td>Mid-Range</td>\n",
       "      <td>8-16 ft.</td>\n",
       "      <td>1610612747</td>\n",
       "      <td>Los Angeles Lakers</td>\n",
       "      <td>2000-10-31</td>\n",
       "      <td>LAL @ POR</td>\n",
       "      <td>POR</td>\n",
       "      <td>6</td>\n",
       "    </tr>\n",
       "    <tr>\n",
       "      <th>...</th>\n",
       "      <td>...</td>\n",
       "      <td>...</td>\n",
       "      <td>...</td>\n",
       "      <td>...</td>\n",
       "      <td>...</td>\n",
       "      <td>...</td>\n",
       "      <td>...</td>\n",
       "      <td>...</td>\n",
       "      <td>...</td>\n",
       "      <td>...</td>\n",
       "      <td>...</td>\n",
       "      <td>...</td>\n",
       "      <td>...</td>\n",
       "      <td>...</td>\n",
       "      <td>...</td>\n",
       "      <td>...</td>\n",
       "      <td>...</td>\n",
       "      <td>...</td>\n",
       "      <td>...</td>\n",
       "      <td>...</td>\n",
       "      <td>...</td>\n",
       "    </tr>\n",
       "    <tr>\n",
       "      <th>25692</th>\n",
       "      <td>30691</td>\n",
       "      <td>Driving Layup Shot</td>\n",
       "      <td>Layup</td>\n",
       "      <td>382</td>\n",
       "      <td>49900088</td>\n",
       "      <td>34.0443</td>\n",
       "      <td>0</td>\n",
       "      <td>0</td>\n",
       "      <td>-118.2698</td>\n",
       "      <td>7</td>\n",
       "      <td>...</td>\n",
       "      <td>2PT Field Goal</td>\n",
       "      <td>Center(C)</td>\n",
       "      <td>Restricted Area</td>\n",
       "      <td>Less Than 8 ft.</td>\n",
       "      <td>1610612747</td>\n",
       "      <td>Los Angeles Lakers</td>\n",
       "      <td>2000-06-19</td>\n",
       "      <td>LAL vs. IND</td>\n",
       "      <td>IND</td>\n",
       "      <td>30692</td>\n",
       "    </tr>\n",
       "    <tr>\n",
       "      <th>25693</th>\n",
       "      <td>30692</td>\n",
       "      <td>Jump Shot</td>\n",
       "      <td>Jump Shot</td>\n",
       "      <td>397</td>\n",
       "      <td>49900088</td>\n",
       "      <td>33.9963</td>\n",
       "      <td>1</td>\n",
       "      <td>48</td>\n",
       "      <td>-118.2688</td>\n",
       "      <td>6</td>\n",
       "      <td>...</td>\n",
       "      <td>2PT Field Goal</td>\n",
       "      <td>Center(C)</td>\n",
       "      <td>In The Paint (Non-RA)</td>\n",
       "      <td>Less Than 8 ft.</td>\n",
       "      <td>1610612747</td>\n",
       "      <td>Los Angeles Lakers</td>\n",
       "      <td>2000-06-19</td>\n",
       "      <td>LAL vs. IND</td>\n",
       "      <td>IND</td>\n",
       "      <td>30693</td>\n",
       "    </tr>\n",
       "    <tr>\n",
       "      <th>25694</th>\n",
       "      <td>30694</td>\n",
       "      <td>Running Jump Shot</td>\n",
       "      <td>Jump Shot</td>\n",
       "      <td>426</td>\n",
       "      <td>49900088</td>\n",
       "      <td>33.8783</td>\n",
       "      <td>-134</td>\n",
       "      <td>166</td>\n",
       "      <td>-118.4038</td>\n",
       "      <td>3</td>\n",
       "      <td>...</td>\n",
       "      <td>2PT Field Goal</td>\n",
       "      <td>Left Side Center(LC)</td>\n",
       "      <td>Mid-Range</td>\n",
       "      <td>16-24 ft.</td>\n",
       "      <td>1610612747</td>\n",
       "      <td>Los Angeles Lakers</td>\n",
       "      <td>2000-06-19</td>\n",
       "      <td>LAL vs. IND</td>\n",
       "      <td>IND</td>\n",
       "      <td>30695</td>\n",
       "    </tr>\n",
       "    <tr>\n",
       "      <th>25695</th>\n",
       "      <td>30695</td>\n",
       "      <td>Jump Shot</td>\n",
       "      <td>Jump Shot</td>\n",
       "      <td>448</td>\n",
       "      <td>49900088</td>\n",
       "      <td>33.7773</td>\n",
       "      <td>31</td>\n",
       "      <td>267</td>\n",
       "      <td>-118.2388</td>\n",
       "      <td>2</td>\n",
       "      <td>...</td>\n",
       "      <td>3PT Field Goal</td>\n",
       "      <td>Center(C)</td>\n",
       "      <td>Above the Break 3</td>\n",
       "      <td>24+ ft.</td>\n",
       "      <td>1610612747</td>\n",
       "      <td>Los Angeles Lakers</td>\n",
       "      <td>2000-06-19</td>\n",
       "      <td>LAL vs. IND</td>\n",
       "      <td>IND</td>\n",
       "      <td>30696</td>\n",
       "    </tr>\n",
       "    <tr>\n",
       "      <th>25696</th>\n",
       "      <td>30696</td>\n",
       "      <td>Jump Shot</td>\n",
       "      <td>Jump Shot</td>\n",
       "      <td>471</td>\n",
       "      <td>49900088</td>\n",
       "      <td>33.9723</td>\n",
       "      <td>1</td>\n",
       "      <td>72</td>\n",
       "      <td>-118.2688</td>\n",
       "      <td>0</td>\n",
       "      <td>...</td>\n",
       "      <td>2PT Field Goal</td>\n",
       "      <td>Center(C)</td>\n",
       "      <td>In The Paint (Non-RA)</td>\n",
       "      <td>Less Than 8 ft.</td>\n",
       "      <td>1610612747</td>\n",
       "      <td>Los Angeles Lakers</td>\n",
       "      <td>2000-06-19</td>\n",
       "      <td>LAL vs. IND</td>\n",
       "      <td>IND</td>\n",
       "      <td>30697</td>\n",
       "    </tr>\n",
       "  </tbody>\n",
       "</table>\n",
       "<p>25697 rows × 26 columns</p>\n",
       "</div>"
      ],
      "text/plain": [
       "       index         action_type combined_shot_type  game_event_id   game_id  \\\n",
       "0          1           Jump Shot          Jump Shot             12  20000012   \n",
       "1          2           Jump Shot          Jump Shot             35  20000012   \n",
       "2          3           Jump Shot          Jump Shot             43  20000012   \n",
       "3          4   Driving Dunk Shot               Dunk            155  20000012   \n",
       "4          5           Jump Shot          Jump Shot            244  20000012   \n",
       "...      ...                 ...                ...            ...       ...   \n",
       "25692  30691  Driving Layup Shot              Layup            382  49900088   \n",
       "25693  30692           Jump Shot          Jump Shot            397  49900088   \n",
       "25694  30694   Running Jump Shot          Jump Shot            426  49900088   \n",
       "25695  30695           Jump Shot          Jump Shot            448  49900088   \n",
       "25696  30696           Jump Shot          Jump Shot            471  49900088   \n",
       "\n",
       "           lat  loc_x  loc_y       lon  minutes_remaining  ...  \\\n",
       "0      34.0443   -157      0 -118.4268                 10  ...   \n",
       "1      33.9093   -101    135 -118.3708                  7  ...   \n",
       "2      33.8693    138    175 -118.1318                  6  ...   \n",
       "3      34.0443      0      0 -118.2698                  6  ...   \n",
       "4      34.0553   -145    -11 -118.4148                  9  ...   \n",
       "...        ...    ...    ...       ...                ...  ...   \n",
       "25692  34.0443      0      0 -118.2698                  7  ...   \n",
       "25693  33.9963      1     48 -118.2688                  6  ...   \n",
       "25694  33.8783   -134    166 -118.4038                  3  ...   \n",
       "25695  33.7773     31    267 -118.2388                  2  ...   \n",
       "25696  33.9723      1     72 -118.2688                  0  ...   \n",
       "\n",
       "            shot_type         shot_zone_area        shot_zone_basic  \\\n",
       "0      2PT Field Goal           Left Side(L)              Mid-Range   \n",
       "1      2PT Field Goal   Left Side Center(LC)              Mid-Range   \n",
       "2      2PT Field Goal  Right Side Center(RC)              Mid-Range   \n",
       "3      2PT Field Goal              Center(C)        Restricted Area   \n",
       "4      2PT Field Goal           Left Side(L)              Mid-Range   \n",
       "...               ...                    ...                    ...   \n",
       "25692  2PT Field Goal              Center(C)        Restricted Area   \n",
       "25693  2PT Field Goal              Center(C)  In The Paint (Non-RA)   \n",
       "25694  2PT Field Goal   Left Side Center(LC)              Mid-Range   \n",
       "25695  3PT Field Goal              Center(C)      Above the Break 3   \n",
       "25696  2PT Field Goal              Center(C)  In The Paint (Non-RA)   \n",
       "\n",
       "       shot_zone_range     team_id           team_name   game_date  \\\n",
       "0             8-16 ft.  1610612747  Los Angeles Lakers  2000-10-31   \n",
       "1            16-24 ft.  1610612747  Los Angeles Lakers  2000-10-31   \n",
       "2            16-24 ft.  1610612747  Los Angeles Lakers  2000-10-31   \n",
       "3      Less Than 8 ft.  1610612747  Los Angeles Lakers  2000-10-31   \n",
       "4             8-16 ft.  1610612747  Los Angeles Lakers  2000-10-31   \n",
       "...                ...         ...                 ...         ...   \n",
       "25692  Less Than 8 ft.  1610612747  Los Angeles Lakers  2000-06-19   \n",
       "25693  Less Than 8 ft.  1610612747  Los Angeles Lakers  2000-06-19   \n",
       "25694        16-24 ft.  1610612747  Los Angeles Lakers  2000-06-19   \n",
       "25695          24+ ft.  1610612747  Los Angeles Lakers  2000-06-19   \n",
       "25696  Less Than 8 ft.  1610612747  Los Angeles Lakers  2000-06-19   \n",
       "\n",
       "           matchup opponent shot_id  \n",
       "0        LAL @ POR      POR       2  \n",
       "1        LAL @ POR      POR       3  \n",
       "2        LAL @ POR      POR       4  \n",
       "3        LAL @ POR      POR       5  \n",
       "4        LAL @ POR      POR       6  \n",
       "...            ...      ...     ...  \n",
       "25692  LAL vs. IND      IND   30692  \n",
       "25693  LAL vs. IND      IND   30693  \n",
       "25694  LAL vs. IND      IND   30695  \n",
       "25695  LAL vs. IND      IND   30696  \n",
       "25696  LAL vs. IND      IND   30697  \n",
       "\n",
       "[25697 rows x 26 columns]"
      ]
     },
     "execution_count": 20,
     "metadata": {},
     "output_type": "execute_result"
    }
   ],
   "source": [
    "# удаляю пустые строки в target\n",
    "\n",
    "data = df.dropna(subset = ['shot_made_flag']).reset_index()\n",
    "data"
   ]
  },
  {
   "cell_type": "code",
   "execution_count": 21,
   "metadata": {},
   "outputs": [
    {
     "name": "stdout",
     "output_type": "stream",
     "text": [
      "Для shot_made_flag пустых строк -  0\n",
      "Всего строк                     -  25697\n"
     ]
    }
   ],
   "source": [
    "# проверяю наличие пустых строк в target\n",
    "\n",
    "print('Для shot_made_flag пустых строк -  {}'.format( len( data[ pd.isnull( data['shot_made_flag'] ) ] ) ))\n",
    "print('Всего строк                     -  {}'.format( len( data ) ))"
   ]
  },
  {
   "cell_type": "code",
   "execution_count": 24,
   "metadata": {},
   "outputs": [
    {
     "data": {
      "text/plain": [
       "0       2000-10-31\n",
       "1       2000-10-31\n",
       "2       2000-10-31\n",
       "3       2000-10-31\n",
       "4       2000-10-31\n",
       "           ...    \n",
       "25692   2000-06-19\n",
       "25693   2000-06-19\n",
       "25694   2000-06-19\n",
       "25695   2000-06-19\n",
       "25696   2000-06-19\n",
       "Name: new_game_date, Length: 25697, dtype: datetime64[ns]"
      ]
     },
     "execution_count": 24,
     "metadata": {},
     "output_type": "execute_result"
    }
   ],
   "source": [
    "# выполняю преобразование в читабельный формат\n",
    "\n",
    "data['new_game_date'] = pd.to_datetime(data['game_date'])\n",
    "data['new_game_date']"
   ]
  },
  {
   "cell_type": "code",
   "execution_count": 28,
   "metadata": {},
   "outputs": [],
   "source": [
    "# добавляю переменные\n",
    "\n",
    "data['secondsFromPeriodEnd']   = 60*data['minutes_remaining'] + data['seconds_remaining']\n",
    "data['secondsFromPeriodStart'] = 60*(11-data['minutes_remaining']) + (60-data['seconds_remaining'])\n",
    "data['secondsFromGameStart']   = (data['period'] <= 4).astype(int)*(data['period']-1)*12*60 + (data['period'] > 4).astype(int)*((data['period']-4)*5*60 + 3*12*60) + data['secondsFromPeriodStart']"
   ]
  },
  {
   "cell_type": "code",
   "execution_count": 29,
   "metadata": {},
   "outputs": [
    {
     "data": {
      "text/plain": [
       "34.0443, -118.2698    4321\n",
       "34.0433, -118.2698      16\n",
       "34.0443, -118.2708       9\n",
       "34.0433, -118.2688       8\n",
       "34.0433, -118.2518       7\n",
       "                      ... \n",
       "33.8783, -118.1318       1\n",
       "34.0273, -118.3488       1\n",
       "34.0333, -118.2938       1\n",
       "33.9303, -118.1068       1\n",
       "33.8983, -118.0588       1\n",
       "Name: coord, Length: 17892, dtype: int64"
      ]
     },
     "execution_count": 29,
     "metadata": {},
     "output_type": "execute_result"
    }
   ],
   "source": [
    "# проверяю координаты\n",
    "\n",
    "data['coord'] = data['lat'].astype(str) + ', ' + data['lon'].astype(str)\n",
    "data.coord.value_counts()"
   ]
  },
  {
   "cell_type": "code",
   "execution_count": 31,
   "metadata": {},
   "outputs": [
    {
     "data": {
      "text/plain": [
       "<matplotlib.legend.Legend at 0x26560e4cb80>"
      ]
     },
     "execution_count": 31,
     "metadata": {},
     "output_type": "execute_result"
    },
    {
     "data": {
      "image/png": "[encoded data removed]",
      "text/plain": [
       "<Figure size 648x648 with 1 Axes>"
      ]
     },
     "metadata": {
      "needs_background": "light"
     },
     "output_type": "display_data"
    }
   ],
   "source": [
    "# смотрю разброс\n",
    "\n",
    "rez = data[data['shot_made_flag'] == 1]\n",
    "nrez = data[data['shot_made_flag'] == 0]\n",
    "alpha = 0.05\n",
    "plt.figure(figsize=(9, 9))\n",
    "plt.scatter(rez.loc_x, rez.loc_y,color='red',  alpha=alpha, label = 'Результативный бросок')\n",
    "plt.scatter(nrez.loc_x, nrez.loc_y,  alpha = alpha, label = 'Не результативный бросок')\n",
    "plt.title('Точка броска')\n",
    "plt.legend()"
   ]
  },
  {
   "cell_type": "code",
   "execution_count": 32,
   "metadata": {},
   "outputs": [],
   "source": [
    "# беру в тест более поздние броски\n",
    "\n",
    "def split_train_test(data, test_ratio):\n",
    "    test_count = round(len(data) * test_ratio)\n",
    "    train_count = len(data) - test_count\n",
    "    return data.sort_values(by = ['new_game_date', 'secondsFromGameStart'], ascending=False).tail(train_count).reset_index(), \\\n",
    "           data.sort_values(by = ['new_game_date', 'secondsFromGameStart'], ascending=False).head(test_count).reset_index()"
   ]
  },
  {
   "cell_type": "code",
   "execution_count": 33,
   "metadata": {},
   "outputs": [
    {
     "data": {
      "text/plain": [
       "(20558, 5139)"
      ]
     },
     "execution_count": 33,
     "metadata": {},
     "output_type": "execute_result"
    }
   ],
   "source": [
    "train_data, test_data = split_train_test(data, 0.2)\n",
    "len(train_data), len(test_data)"
   ]
  },
  {
   "cell_type": "code",
   "execution_count": 34,
   "metadata": {},
   "outputs": [],
   "source": [
    "# разделяю признаки на числовые и категориальные оставляя на мой взгляд необходимые\n",
    "\n",
    "num_columns = ['loc_x', 'loc_y', 'minutes_remaining', 'period', 'playoffs', 'seconds_remaining', 'shot_distance',\n",
    "               'secondsFromPeriodEnd', 'secondsFromPeriodStart', 'secondsFromGameStart']\n",
    "cat_columns = ['action_type', 'combined_shot_type', 'shot_type', 'shot_zone_area', 'shot_zone_basic', 'shot_zone_range',\n",
    "               'opponent']"
   ]
  },
  {
   "cell_type": "code",
   "execution_count": 35,
   "metadata": {},
   "outputs": [],
   "source": [
    "# получаю список значений для всех категорийных\n",
    "\n",
    "def get_cat_categories(df, cat_columns):\n",
    "    categories = []\n",
    "    for column in cat_columns:\n",
    "        categories.append(list(df[column].unique()))    \n",
    "    return categories"
   ]
  },
  {
   "cell_type": "code",
   "execution_count": 36,
   "metadata": {},
   "outputs": [
    {
     "data": {
      "text/plain": [
       "[['Jump Shot',\n",
       "  'Driving Dunk Shot',\n",
       "  'Layup Shot',\n",
       "  'Running Jump Shot',\n",
       "  'Reverse Dunk Shot',\n",
       "  'Slam Dunk Shot',\n",
       "  'Driving Layup Shot',\n",
       "  'Turnaround Jump Shot',\n",
       "  'Reverse Layup Shot',\n",
       "  'Tip Shot',\n",
       "  'Running Hook Shot',\n",
       "  'Alley Oop Dunk Shot',\n",
       "  'Dunk Shot',\n",
       "  'Alley Oop Layup shot',\n",
       "  'Running Dunk Shot',\n",
       "  'Driving Finger Roll Shot',\n",
       "  'Running Layup Shot',\n",
       "  'Finger Roll Shot',\n",
       "  'Fadeaway Jump Shot',\n",
       "  'Follow Up Dunk Shot',\n",
       "  'Hook Shot',\n",
       "  'Turnaround Hook Shot',\n",
       "  'Jump Hook Shot',\n",
       "  'Running Finger Roll Shot',\n",
       "  'Jump Bank Shot',\n",
       "  'Turnaround Finger Roll Shot',\n",
       "  'Hook Bank Shot',\n",
       "  'Driving Hook Shot',\n",
       "  'Running Tip Shot',\n",
       "  'Running Reverse Layup Shot',\n",
       "  'Driving Finger Roll Layup Shot',\n",
       "  'Fadeaway Bank shot',\n",
       "  'Pullup Jump shot',\n",
       "  'Finger Roll Layup Shot',\n",
       "  'Turnaround Fadeaway shot',\n",
       "  'Driving Reverse Layup Shot',\n",
       "  'Driving Slam Dunk Shot',\n",
       "  'Step Back Jump shot',\n",
       "  'Turnaround Bank shot',\n",
       "  'Reverse Slam Dunk Shot',\n",
       "  'Floating Jump shot',\n",
       "  'Putback Slam Dunk Shot',\n",
       "  'Running Bank shot',\n",
       "  'Driving Bank shot',\n",
       "  'Driving Jump shot',\n",
       "  'Putback Layup Shot',\n",
       "  'Putback Dunk Shot',\n",
       "  'Running Finger Roll Layup Shot',\n",
       "  'Pullup Bank shot',\n",
       "  'Running Slam Dunk Shot',\n",
       "  'Cutting Layup Shot',\n",
       "  'Driving Floating Jump Shot',\n",
       "  'Running Pull-Up Jump Shot',\n",
       "  'Tip Layup Shot',\n",
       "  'Driving Floating Bank Jump Shot'],\n",
       " ['Jump Shot', 'Dunk', 'Layup', 'Tip Shot', 'Hook Shot', 'Bank Shot'],\n",
       " ['2PT Field Goal', '3PT Field Goal'],\n",
       " ['Left Side(L)',\n",
       "  'Left Side Center(LC)',\n",
       "  'Right Side Center(RC)',\n",
       "  'Center(C)',\n",
       "  'Right Side(R)',\n",
       "  'Back Court(BC)'],\n",
       " ['Mid-Range',\n",
       "  'Restricted Area',\n",
       "  'In The Paint (Non-RA)',\n",
       "  'Above the Break 3',\n",
       "  'Right Corner 3',\n",
       "  'Backcourt',\n",
       "  'Left Corner 3'],\n",
       " ['8-16 ft.', '16-24 ft.', 'Less Than 8 ft.', '24+ ft.', 'Back Court Shot'],\n",
       " ['POR',\n",
       "  'UTA',\n",
       "  'VAN',\n",
       "  'LAC',\n",
       "  'HOU',\n",
       "  'SAS',\n",
       "  'DEN',\n",
       "  'SAC',\n",
       "  'CHI',\n",
       "  'GSW',\n",
       "  'MIN',\n",
       "  'IND',\n",
       "  'SEA',\n",
       "  'DAL',\n",
       "  'PHI',\n",
       "  'DET',\n",
       "  'MIL',\n",
       "  'TOR',\n",
       "  'MIA',\n",
       "  'PHX',\n",
       "  'CLE',\n",
       "  'NJN',\n",
       "  'NYK',\n",
       "  'CHA',\n",
       "  'WAS',\n",
       "  'ORL',\n",
       "  'ATL',\n",
       "  'MEM',\n",
       "  'BOS',\n",
       "  'NOH',\n",
       "  'NOP',\n",
       "  'OKC',\n",
       "  'BKN']]"
      ]
     },
     "execution_count": 36,
     "metadata": {},
     "output_type": "execute_result"
    }
   ],
   "source": [
    "categories = get_cat_categories(data, cat_columns)\n",
    "categories"
   ]
  },
  {
   "cell_type": "code",
   "execution_count": 40,
   "metadata": {},
   "outputs": [],
   "source": [
    "# использую OneHotEncoder\n",
    "\n",
    "preprocessor = ColumnTransformer(\n",
    "    transformers=[\n",
    "        ('cat', OneHotEncoder(categories = categories), cat_columns),\n",
    "        ('num', StandardScaler(), num_columns)\n",
    "    ],\n",
    "    sparse_threshold = 0,\n",
    "    remainder = 'drop'\n",
    ")"
   ]
  },
  {
   "cell_type": "code",
   "execution_count": 41,
   "metadata": {},
   "outputs": [],
   "source": [
    "def get_feature_names(column_transformer, df):\n",
    "    feature_names = []\n",
    "    for _, tr, columns in column_transformer.transformers:\n",
    "        if type(tr).__name__ == 'OneHotEncoder':\n",
    "            tr.fit(df[columns]) \n",
    "            feature_names.extend(list(tr.get_feature_names(columns)))\n",
    "        elif type(tr).__name__ == 'StandardScaler':\n",
    "            feature_names.extend(columns)\n",
    "        else:\n",
    "            raise RuntimeError(f'Unknown class: {type(tr).__name__}, plrase update function')\n",
    "    return feature_names"
   ]
  },
  {
   "cell_type": "code",
   "execution_count": 42,
   "metadata": {},
   "outputs": [
    {
     "data": {
      "text/plain": [
       "['action_type_Jump Shot',\n",
       " 'action_type_Driving Dunk Shot',\n",
       " 'action_type_Layup Shot',\n",
       " 'action_type_Running Jump Shot',\n",
       " 'action_type_Reverse Dunk Shot',\n",
       " 'action_type_Slam Dunk Shot',\n",
       " 'action_type_Driving Layup Shot',\n",
       " 'action_type_Turnaround Jump Shot',\n",
       " 'action_type_Reverse Layup Shot',\n",
       " 'action_type_Tip Shot',\n",
       " 'action_type_Running Hook Shot',\n",
       " 'action_type_Alley Oop Dunk Shot',\n",
       " 'action_type_Dunk Shot',\n",
       " 'action_type_Alley Oop Layup shot',\n",
       " 'action_type_Running Dunk Shot',\n",
       " 'action_type_Driving Finger Roll Shot',\n",
       " 'action_type_Running Layup Shot',\n",
       " 'action_type_Finger Roll Shot',\n",
       " 'action_type_Fadeaway Jump Shot',\n",
       " 'action_type_Follow Up Dunk Shot',\n",
       " 'action_type_Hook Shot',\n",
       " 'action_type_Turnaround Hook Shot',\n",
       " 'action_type_Jump Hook Shot',\n",
       " 'action_type_Running Finger Roll Shot',\n",
       " 'action_type_Jump Bank Shot',\n",
       " 'action_type_Turnaround Finger Roll Shot',\n",
       " 'action_type_Hook Bank Shot',\n",
       " 'action_type_Driving Hook Shot',\n",
       " 'action_type_Running Tip Shot',\n",
       " 'action_type_Running Reverse Layup Shot',\n",
       " 'action_type_Driving Finger Roll Layup Shot',\n",
       " 'action_type_Fadeaway Bank shot',\n",
       " 'action_type_Pullup Jump shot',\n",
       " 'action_type_Finger Roll Layup Shot',\n",
       " 'action_type_Turnaround Fadeaway shot',\n",
       " 'action_type_Driving Reverse Layup Shot',\n",
       " 'action_type_Driving Slam Dunk Shot',\n",
       " 'action_type_Step Back Jump shot',\n",
       " 'action_type_Turnaround Bank shot',\n",
       " 'action_type_Reverse Slam Dunk Shot',\n",
       " 'action_type_Floating Jump shot',\n",
       " 'action_type_Putback Slam Dunk Shot',\n",
       " 'action_type_Running Bank shot',\n",
       " 'action_type_Driving Bank shot',\n",
       " 'action_type_Driving Jump shot',\n",
       " 'action_type_Putback Layup Shot',\n",
       " 'action_type_Putback Dunk Shot',\n",
       " 'action_type_Running Finger Roll Layup Shot',\n",
       " 'action_type_Pullup Bank shot',\n",
       " 'action_type_Running Slam Dunk Shot',\n",
       " 'action_type_Cutting Layup Shot',\n",
       " 'action_type_Driving Floating Jump Shot',\n",
       " 'action_type_Running Pull-Up Jump Shot',\n",
       " 'action_type_Tip Layup Shot',\n",
       " 'action_type_Driving Floating Bank Jump Shot',\n",
       " 'combined_shot_type_Jump Shot',\n",
       " 'combined_shot_type_Dunk',\n",
       " 'combined_shot_type_Layup',\n",
       " 'combined_shot_type_Tip Shot',\n",
       " 'combined_shot_type_Hook Shot',\n",
       " 'combined_shot_type_Bank Shot',\n",
       " 'shot_type_2PT Field Goal',\n",
       " 'shot_type_3PT Field Goal',\n",
       " 'shot_zone_area_Left Side(L)',\n",
       " 'shot_zone_area_Left Side Center(LC)',\n",
       " 'shot_zone_area_Right Side Center(RC)',\n",
       " 'shot_zone_area_Center(C)',\n",
       " 'shot_zone_area_Right Side(R)',\n",
       " 'shot_zone_area_Back Court(BC)',\n",
       " 'shot_zone_basic_Mid-Range',\n",
       " 'shot_zone_basic_Restricted Area',\n",
       " 'shot_zone_basic_In The Paint (Non-RA)',\n",
       " 'shot_zone_basic_Above the Break 3',\n",
       " 'shot_zone_basic_Right Corner 3',\n",
       " 'shot_zone_basic_Backcourt',\n",
       " 'shot_zone_basic_Left Corner 3',\n",
       " 'shot_zone_range_8-16 ft.',\n",
       " 'shot_zone_range_16-24 ft.',\n",
       " 'shot_zone_range_Less Than 8 ft.',\n",
       " 'shot_zone_range_24+ ft.',\n",
       " 'shot_zone_range_Back Court Shot',\n",
       " 'opponent_POR',\n",
       " 'opponent_UTA',\n",
       " 'opponent_VAN',\n",
       " 'opponent_LAC',\n",
       " 'opponent_HOU',\n",
       " 'opponent_SAS',\n",
       " 'opponent_DEN',\n",
       " 'opponent_SAC',\n",
       " 'opponent_CHI',\n",
       " 'opponent_GSW',\n",
       " 'opponent_MIN',\n",
       " 'opponent_IND',\n",
       " 'opponent_SEA',\n",
       " 'opponent_DAL',\n",
       " 'opponent_PHI',\n",
       " 'opponent_DET',\n",
       " 'opponent_MIL',\n",
       " 'opponent_TOR',\n",
       " 'opponent_MIA',\n",
       " 'opponent_PHX',\n",
       " 'opponent_CLE',\n",
       " 'opponent_NJN',\n",
       " 'opponent_NYK',\n",
       " 'opponent_CHA',\n",
       " 'opponent_WAS',\n",
       " 'opponent_ORL',\n",
       " 'opponent_ATL',\n",
       " 'opponent_MEM',\n",
       " 'opponent_BOS',\n",
       " 'opponent_NOH',\n",
       " 'opponent_NOP',\n",
       " 'opponent_OKC',\n",
       " 'opponent_BKN',\n",
       " 'loc_x',\n",
       " 'loc_y',\n",
       " 'minutes_remaining',\n",
       " 'period',\n",
       " 'playoffs',\n",
       " 'seconds_remaining',\n",
       " 'shot_distance',\n",
       " 'secondsFromPeriodEnd',\n",
       " 'secondsFromPeriodStart',\n",
       " 'secondsFromGameStart']"
      ]
     },
     "execution_count": 42,
     "metadata": {},
     "output_type": "execute_result"
    }
   ],
   "source": [
    "feature_names = get_feature_names(preprocessor, train_data)\n",
    "feature_names"
   ]
  },
  {
   "cell_type": "code",
   "execution_count": 43,
   "metadata": {},
   "outputs": [
    {
     "data": {
      "text/plain": [
       "124"
      ]
     },
     "execution_count": 43,
     "metadata": {},
     "output_type": "execute_result"
    }
   ],
   "source": [
    "# количество признаков\n",
    "\n",
    "len(feature_names)"
   ]
  },
  {
   "cell_type": "code",
   "execution_count": 45,
   "metadata": {},
   "outputs": [],
   "source": [
    "# линейная регрессия\n",
    "X = preprocessor.fit_transform(data)\n",
    "y = np.array(data['shot_made_flag'])"
   ]
  },
  {
   "cell_type": "code",
   "execution_count": 46,
   "metadata": {},
   "outputs": [],
   "source": [
    "clf_lin = LinearRegression()"
   ]
  },
  {
   "cell_type": "code",
   "execution_count": 47,
   "metadata": {},
   "outputs": [
    {
     "data": {
      "text/plain": [
       "LinearRegression()"
      ]
     },
     "execution_count": 47,
     "metadata": {},
     "output_type": "execute_result"
    }
   ],
   "source": [
    "clf_lin.fit(X, y)"
   ]
  },
  {
   "cell_type": "code",
   "execution_count": 48,
   "metadata": {},
   "outputs": [],
   "source": [
    "y_pred_lin = clf_lin.predict(X)"
   ]
  },
  {
   "cell_type": "code",
   "execution_count": 49,
   "metadata": {},
   "outputs": [],
   "source": [
    "lin_mse = mean_squared_error(y, y_pred_lin)\n",
    "lin_rmse = np.sqrt(lin_mse)"
   ]
  },
  {
   "cell_type": "code",
   "execution_count": 51,
   "metadata": {},
   "outputs": [
    {
     "name": "stdout",
     "output_type": "stream",
     "text": [
      "RMSE     : 0.4584924444657156\n",
      "Intercept: -1000221611263.8397\n",
      "R^2      : 0.14927494906437888\n",
      "RSS      : 5401.903119981289\n"
     ]
    }
   ],
   "source": [
    "print(f'RMSE     : {lin_rmse}')\n",
    "print(f'Intercept: {clf_lin.intercept_}')\n",
    "print(f'R^2      : {clf_lin.score(X, y)}')\n",
    "print(f'RSS      : {sum((y_pred_lin - y) ** 2)}')"
   ]
  },
  {
   "cell_type": "code",
   "execution_count": 52,
   "metadata": {},
   "outputs": [
    {
     "data": {
      "text/plain": [
       "Lasso()"
      ]
     },
     "execution_count": 52,
     "metadata": {},
     "output_type": "execute_result"
    }
   ],
   "source": [
    "# Lasso\n",
    "\n",
    "clf_lasso = Lasso()\n",
    "clf_lasso.fit(X, y)"
   ]
  },
  {
   "cell_type": "code",
   "execution_count": 53,
   "metadata": {},
   "outputs": [],
   "source": [
    "y_pred_lasso = clf_lasso.predict(X)\n",
    "lasso_mse = mean_squared_error(y, y_pred_lasso)\n",
    "lasso_rmse = np.sqrt(lasso_mse)"
   ]
  },
  {
   "cell_type": "code",
   "execution_count": 54,
   "metadata": {},
   "outputs": [
    {
     "name": "stdout",
     "output_type": "stream",
     "text": [
      "RMSE     : 0.49709291421222224\n",
      "Intercept: 0.44616103047048294\n",
      "R^2      : 0.0\n",
      "RSS      : 6349.763785655984\n"
     ]
    }
   ],
   "source": [
    "print(f'RMSE     : {lasso_rmse}')\n",
    "print(f'Intercept: {clf_lasso.intercept_}')\n",
    "print(f'R^2      : {clf_lasso.score(X, y)}')\n",
    "print(f'RSS      : {sum((y_pred_lasso - y) ** 2)}')"
   ]
  },
  {
   "cell_type": "code",
   "execution_count": 55,
   "metadata": {},
   "outputs": [
    {
     "data": {
      "text/plain": [
       "Ridge()"
      ]
     },
     "execution_count": 55,
     "metadata": {},
     "output_type": "execute_result"
    }
   ],
   "source": [
    "# Ridge\n",
    "\n",
    "clf_ridge = Ridge()\n",
    "clf_ridge.fit(X, y)"
   ]
  },
  {
   "cell_type": "code",
   "execution_count": 56,
   "metadata": {},
   "outputs": [],
   "source": [
    "y_pred_ridge = clf_ridge.predict(X)\n",
    "ridge_mse = mean_squared_error(y, y_pred_ridge)\n",
    "ridge_rmse = np.sqrt(ridge_mse)"
   ]
  },
  {
   "cell_type": "code",
   "execution_count": 57,
   "metadata": {},
   "outputs": [
    {
     "name": "stdout",
     "output_type": "stream",
     "text": [
      "RMSE     : 0.45825931606058046\n",
      "Intercept: 0.6237396602657765\n",
      "R^2      : 0.15013986082043074\n",
      "RSS      : 5396.411134634908\n"
     ]
    }
   ],
   "source": [
    "print(f'RMSE     : {ridge_rmse}')\n",
    "print(f'Intercept: {clf_ridge.intercept_}')\n",
    "print(f'R^2      : {clf_ridge.score(X, y)}')\n",
    "print(f'RSS      : {sum((y_pred_ridge - y) ** 2)}')"
   ]
  },
  {
   "cell_type": "code",
   "execution_count": 58,
   "metadata": {},
   "outputs": [],
   "source": [
    "# коэффициенты модели\n",
    "\n",
    "\n",
    "df_coef = pd.DataFrame()\n",
    "df_coef['Features'] = pd.Series(feature_names)\n",
    "df_coef['LinearRegression'] = clf_lin.coef_\n",
    "df_coef['Lasso'] = clf_lasso.coef_\n",
    "df_coef['Ridge'] = clf_ridge.coef_"
   ]
  },
  {
   "cell_type": "code",
   "execution_count": 59,
   "metadata": {},
   "outputs": [
    {
     "data": {
      "text/html": [
       "<div>\n",
       "<style scoped>\n",
       "    .dataframe tbody tr th:only-of-type {\n",
       "        vertical-align: middle;\n",
       "    }\n",
       "\n",
       "    .dataframe tbody tr th {\n",
       "        vertical-align: top;\n",
       "    }\n",
       "\n",
       "    .dataframe thead th {\n",
       "        text-align: right;\n",
       "    }\n",
       "</style>\n",
       "<table border=\"1\" class=\"dataframe\">\n",
       "  <thead>\n",
       "    <tr style=\"text-align: right;\">\n",
       "      <th></th>\n",
       "      <th>Features</th>\n",
       "      <th>LinearRegression</th>\n",
       "      <th>Lasso</th>\n",
       "      <th>Ridge</th>\n",
       "    </tr>\n",
       "  </thead>\n",
       "  <tbody>\n",
       "    <tr>\n",
       "      <th>0</th>\n",
       "      <td>action_type_Jump Shot</td>\n",
       "      <td>1.508077e+11</td>\n",
       "      <td>-0.0</td>\n",
       "      <td>-0.341644</td>\n",
       "    </tr>\n",
       "    <tr>\n",
       "      <th>1</th>\n",
       "      <td>action_type_Driving Dunk Shot</td>\n",
       "      <td>3.923191e+11</td>\n",
       "      <td>0.0</td>\n",
       "      <td>0.105976</td>\n",
       "    </tr>\n",
       "    <tr>\n",
       "      <th>2</th>\n",
       "      <td>action_type_Layup Shot</td>\n",
       "      <td>5.982978e+11</td>\n",
       "      <td>-0.0</td>\n",
       "      <td>-0.281306</td>\n",
       "    </tr>\n",
       "    <tr>\n",
       "      <th>3</th>\n",
       "      <td>action_type_Running Jump Shot</td>\n",
       "      <td>1.508077e+11</td>\n",
       "      <td>0.0</td>\n",
       "      <td>0.105347</td>\n",
       "    </tr>\n",
       "    <tr>\n",
       "      <th>4</th>\n",
       "      <td>action_type_Reverse Dunk Shot</td>\n",
       "      <td>3.923191e+11</td>\n",
       "      <td>0.0</td>\n",
       "      <td>0.044793</td>\n",
       "    </tr>\n",
       "    <tr>\n",
       "      <th>...</th>\n",
       "      <td>...</td>\n",
       "      <td>...</td>\n",
       "      <td>...</td>\n",
       "      <td>...</td>\n",
       "    </tr>\n",
       "    <tr>\n",
       "      <th>119</th>\n",
       "      <td>seconds_remaining</td>\n",
       "      <td>-1.439638e+11</td>\n",
       "      <td>0.0</td>\n",
       "      <td>0.011746</td>\n",
       "    </tr>\n",
       "    <tr>\n",
       "      <th>120</th>\n",
       "      <td>shot_distance</td>\n",
       "      <td>1.483154e-02</td>\n",
       "      <td>-0.0</td>\n",
       "      <td>0.014057</td>\n",
       "    </tr>\n",
       "    <tr>\n",
       "      <th>121</th>\n",
       "      <td>secondsFromPeriodEnd</td>\n",
       "      <td>9.329026e+11</td>\n",
       "      <td>0.0</td>\n",
       "      <td>0.000823</td>\n",
       "    </tr>\n",
       "    <tr>\n",
       "      <th>122</th>\n",
       "      <td>secondsFromPeriodStart</td>\n",
       "      <td>-7.784820e+11</td>\n",
       "      <td>-0.0</td>\n",
       "      <td>-0.000823</td>\n",
       "    </tr>\n",
       "    <tr>\n",
       "      <th>123</th>\n",
       "      <td>secondsFromGameStart</td>\n",
       "      <td>-3.771973e-02</td>\n",
       "      <td>-0.0</td>\n",
       "      <td>-0.038516</td>\n",
       "    </tr>\n",
       "  </tbody>\n",
       "</table>\n",
       "<p>124 rows × 4 columns</p>\n",
       "</div>"
      ],
      "text/plain": [
       "                          Features  LinearRegression  Lasso     Ridge\n",
       "0            action_type_Jump Shot      1.508077e+11   -0.0 -0.341644\n",
       "1    action_type_Driving Dunk Shot      3.923191e+11    0.0  0.105976\n",
       "2           action_type_Layup Shot      5.982978e+11   -0.0 -0.281306\n",
       "3    action_type_Running Jump Shot      1.508077e+11    0.0  0.105347\n",
       "4    action_type_Reverse Dunk Shot      3.923191e+11    0.0  0.044793\n",
       "..                             ...               ...    ...       ...\n",
       "119              seconds_remaining     -1.439638e+11    0.0  0.011746\n",
       "120                  shot_distance      1.483154e-02   -0.0  0.014057\n",
       "121           secondsFromPeriodEnd      9.329026e+11    0.0  0.000823\n",
       "122         secondsFromPeriodStart     -7.784820e+11   -0.0 -0.000823\n",
       "123           secondsFromGameStart     -3.771973e-02   -0.0 -0.038516\n",
       "\n",
       "[124 rows x 4 columns]"
      ]
     },
     "execution_count": 59,
     "metadata": {},
     "output_type": "execute_result"
    }
   ],
   "source": [
    "pd.option_context('display.max_rows', None, 'display.max_columns', None)  \n",
    "df_coef"
   ]
  },
  {
   "cell_type": "markdown",
   "metadata": {},
   "source": [
    "Итог:  \n",
    "Ridge регрессия более актуальна из трех.  \n",
    "Знак перед коэффициентом можно трактовать как полезность признака:  \n",
    "+ способствует результативному броску(попаданию)  \n",
    "- способствует промаху"
   ]
  },
  {
   "cell_type": "code",
   "execution_count": 60,
   "metadata": {},
   "outputs": [],
   "source": [
    "# пробую обучить на части данных и проверить на тестовых\n",
    "\n",
    "X_train = preprocessor.fit_transform(train_data)\n",
    "y_train = np.array(train_data['shot_made_flag'])"
   ]
  },
  {
   "cell_type": "code",
   "execution_count": 61,
   "metadata": {},
   "outputs": [],
   "source": [
    "X_test = preprocessor.fit_transform(test_data)\n",
    "y_test = np.array(test_data['shot_made_flag'])"
   ]
  },
  {
   "cell_type": "code",
   "execution_count": 62,
   "metadata": {},
   "outputs": [],
   "source": [
    "# LinearRegression\n",
    "\n",
    "clf_lin_test = LinearRegression()\n",
    "clf_lin_test.fit(X_train, y_train)\n",
    "y_pred_lin_test = clf_lin.predict(X_test)\n",
    "y_pred_lin_train = clf_lin.predict(X_train)\n",
    "lin_mse_test = mean_squared_error(y_test, y_pred_lin_test)\n",
    "lin_rmse_test = np.sqrt(lin_mse_test)\n",
    "lin_roc_auc_test = roc_auc_score(y_test, y_pred_lin_test)\n",
    "lin_roc_auc_train = roc_auc_score(y_train, y_pred_lin_train)"
   ]
  },
  {
   "cell_type": "code",
   "execution_count": 63,
   "metadata": {},
   "outputs": [
    {
     "name": "stdout",
     "output_type": "stream",
     "text": [
      "RMSE         : 7556817586.847017\n",
      "Intercept    : 205433353910.50516\n",
      "R^2          : -1.5403132213301795e+22\n",
      "RSS          : 2.9346512359808418e+23\n",
      "ROC AUC test : 0.5170834287066752\n",
      "ROC AUC train: 0.48036599077165376\n"
     ]
    }
   ],
   "source": [
    "print(f'RMSE         : {lin_rmse_test}')\n",
    "print(f'Intercept    : {clf_lin_test.intercept_}')\n",
    "print(f'R^2          : {clf_lin_test.score(X_test, y_test)}')\n",
    "print(f'RSS          : {sum((y_pred_lin_test - y_test) ** 2)}')\n",
    "print(f'ROC AUC test : {lin_roc_auc_test}')\n",
    "print(f'ROC AUC train: {lin_roc_auc_train}')"
   ]
  },
  {
   "cell_type": "code",
   "execution_count": 64,
   "metadata": {},
   "outputs": [],
   "source": [
    "lin_fpr_train, lin_tpr_train, _ = roc_curve(y_train, y_pred_lin_train)\n",
    "lin_fpr_test, lin_tpr_test, _ = roc_curve(y_test, y_pred_lin_test)    "
   ]
  },
  {
   "cell_type": "code",
   "execution_count": 65,
   "metadata": {},
   "outputs": [],
   "source": [
    "def plt_roc_auc(title, fpr_train, tpr_train, roc_auc_train, fpr_test, tpr_test, roc_auc_test):\n",
    "    plt.figure(figsize=(8, 8))\n",
    "    plt.plot(fpr_train, tpr_train, label=f'Train ROC AUC {roc_auc_train}')\n",
    "    plt.plot(fpr_test, tpr_test, label=f'Test ROC AUC {roc_auc_test}')\n",
    "    plt.plot([0, 1], [0, 1], '--', color=(0.6, 0.6, 0.6))\n",
    "    plt.xlabel('False Positive Rate')\n",
    "    plt.ylabel('True Positive Rate')\n",
    "    plt.title(title)\n",
    "    plt.legend(loc='lower right')\n",
    "    plt.show()"
   ]
  },
  {
   "cell_type": "code",
   "execution_count": 66,
   "metadata": {},
   "outputs": [
    {
     "data": {
      "image/png": "[encoded data removed]",
      "text/plain": [
       "<Figure size 576x576 with 1 Axes>"
      ]
     },
     "metadata": {
      "needs_background": "light"
     },
     "output_type": "display_data"
    }
   ],
   "source": [
    "plt_roc_auc('Linear Regression', lin_fpr_train, lin_tpr_train, lin_roc_auc_train, lin_fpr_test, lin_tpr_test, lin_roc_auc_test)"
   ]
  },
  {
   "cell_type": "code",
   "execution_count": 67,
   "metadata": {},
   "outputs": [],
   "source": [
    "# lasso\n",
    "\n",
    "clf_lasso_test = Lasso()\n",
    "clf_lasso_test.fit(X_train, y_train)\n",
    "y_pred_lasso_train = clf_lasso_test.predict(X_train)\n",
    "y_pred_lasso_test = clf_lasso_test.predict(X_test)\n",
    "lasso_mse_test = mean_squared_error(y_test, y_pred_lasso_test)\n",
    "lasso_rmse_test = np.sqrt(lasso_mse_test)\n",
    "lasso_roc_auc_train = roc_auc_score(y_test, y_pred_lasso_test)\n",
    "lasso_roc_auc_test = roc_auc_score(y_test, y_pred_lasso_test)"
   ]
  },
  {
   "cell_type": "code",
   "execution_count": 68,
   "metadata": {},
   "outputs": [
    {
     "name": "stdout",
     "output_type": "stream",
     "text": [
      "RMSE         : 0.4944384817099362\n",
      "Intercept    : 0.4533514933359276\n",
      "R^2          : -0.00531617724269462\n",
      "RSS          : 1256.3283092732638\n",
      "ROC AUC train: 0.5\n",
      "ROC AUC test : 0.5\n"
     ]
    }
   ],
   "source": [
    "\n",
    "print(f'RMSE         : {lasso_rmse_test}')\n",
    "print(f'Intercept    : {clf_lasso_test.intercept_}')\n",
    "print(f'R^2          : {clf_lasso_test.score(X_test, y_test)}')\n",
    "print(f'RSS          : {sum((y_pred_lasso_test - y_test) ** 2)}')\n",
    "print(f'ROC AUC train: {lasso_roc_auc_train}')\n",
    "print(f'ROC AUC test : {lasso_roc_auc_test}')"
   ]
  },
  {
   "cell_type": "code",
   "execution_count": 69,
   "metadata": {},
   "outputs": [],
   "source": [
    "lasso_fpr_train, lasso_tpr_train, _ = roc_curve(y_train, y_pred_lasso_train)\n",
    "lasso_fpr_test, lasso_tpr_test, _ = roc_curve(y_test, y_pred_lasso_test)"
   ]
  },
  {
   "cell_type": "code",
   "execution_count": 70,
   "metadata": {},
   "outputs": [
    {
     "data": {
      "image/png": "[encoded data removed]",
      "text/plain": [
       "<Figure size 576x576 with 1 Axes>"
      ]
     },
     "metadata": {
      "needs_background": "light"
     },
     "output_type": "display_data"
    }
   ],
   "source": [
    "plt_roc_auc('Lasso Regression', lasso_fpr_train, lasso_tpr_train, lasso_roc_auc_train, lasso_fpr_test, lasso_tpr_test, lasso_roc_auc_test)"
   ]
  },
  {
   "cell_type": "code",
   "execution_count": 71,
   "metadata": {},
   "outputs": [],
   "source": [
    "# Ridge\n",
    "\n",
    "clf_ridge_test = Ridge()\n",
    "clf_ridge_test.fit(X_train, y_train)\n",
    "y_pred_ridge_train = clf_ridge_test.predict(X_train)\n",
    "y_pred_ridge_test = clf_ridge_test.predict(X_test)\n",
    "ridge_mse_test = mean_squared_error(y_test, y_pred_ridge_test)\n",
    "ridge_rmse_test = np.sqrt(ridge_mse_test)\n",
    "ridge_roc_auc_train = roc_auc_score(y_train, y_pred_ridge_train)\n",
    "ridge_roc_auc_test = roc_auc_score(y_test, y_pred_ridge_test)"
   ]
  },
  {
   "cell_type": "code",
   "execution_count": 72,
   "metadata": {},
   "outputs": [
    {
     "name": "stdout",
     "output_type": "stream",
     "text": [
      "RMSE         : 0.46966379220534654\n",
      "Intercept    : 0.640553485954905\n",
      "R^2          : 0.0929059804615936\n",
      "RSS          : 1133.5815753450447\n",
      "ROC AUC train: 0.7049089128546845\n",
      "ROC AUC test : 0.6799659925912431\n"
     ]
    }
   ],
   "source": [
    "print(f'RMSE         : {ridge_rmse_test}')\n",
    "print(f'Intercept    : {clf_ridge_test.intercept_}')\n",
    "print(f'R^2          : {clf_ridge_test.score(X_test, y_test)}')\n",
    "print(f'RSS          : {sum((y_pred_ridge_test - y_test) ** 2)}')\n",
    "print(f'ROC AUC train: {ridge_roc_auc_train}')\n",
    "print(f'ROC AUC test : {ridge_roc_auc_test}')"
   ]
  },
  {
   "cell_type": "code",
   "execution_count": 73,
   "metadata": {},
   "outputs": [
    {
     "data": {
      "image/png": "[encoded data removed]",
      "text/plain": [
       "<Figure size 576x576 with 1 Axes>"
      ]
     },
     "metadata": {
      "needs_background": "light"
     },
     "output_type": "display_data"
    }
   ],
   "source": [
    "ridge_fpr_train, ridge_tpr_train, _ = roc_curve(y_train, y_pred_ridge_train)\n",
    "ridge_fpr_test, ridge_tpr_test, _ = roc_curve(y_test, y_pred_ridge_test)\n",
    "plt_roc_auc('Ridge Regression', ridge_fpr_train, ridge_tpr_train, ridge_roc_auc_train, ridge_fpr_test, ridge_tpr_test, ridge_roc_auc_test)"
   ]
  },
  {
   "cell_type": "code",
   "execution_count": 76,
   "metadata": {},
   "outputs": [
    {
     "data": {
      "text/plain": [
       "PCA(n_components=124)"
      ]
     },
     "execution_count": 76,
     "metadata": {},
     "output_type": "execute_result"
    }
   ],
   "source": [
    "# PCA\n",
    "\n",
    "pca = PCA(n_components = len(feature_names))\n",
    "pca.fit(X)"
   ]
  },
  {
   "cell_type": "code",
   "execution_count": 79,
   "metadata": {},
   "outputs": [
    {
     "name": "stdout",
     "output_type": "stream",
     "text": [
      "components: 1, explained variance ratio: 0.2270628388735405\n",
      "components: 2, explained variance ratio: 0.4123670291315251\n",
      "components: 3, explained variance ratio: 0.5391960907166219\n",
      "components: 4, explained variance ratio: 0.6173954231331533\n",
      "components: 5, explained variance ratio: 0.6870422663885023\n",
      "components: 6, explained variance ratio: 0.755496101297458\n",
      "components: 7, explained variance ratio: 0.8125804981802267\n",
      "components: 8, explained variance ratio: 0.8392460120361414\n",
      "components: 9, explained variance ratio: 0.8609983489769903\n",
      "components: 10, explained variance ratio: 0.8726974482818619\n",
      "components: 11, explained variance ratio: 0.8823281352231225\n",
      "components: 12, explained variance ratio: 0.8901482715088271\n",
      "components: 13, explained variance ratio: 0.8964750631805807\n",
      "components: 14, explained variance ratio: 0.9023579067615678\n",
      "components: 15, explained variance ratio: 0.907314167325919\n",
      "components: 16, explained variance ratio: 0.9116009792700233\n",
      "components: 17, explained variance ratio: 0.9156084775371329\n"
     ]
    }
   ],
   "source": [
    "for i in range(1, 18):\n",
    "    print(f'components: {i}, explained variance ratio: {sum(pca.explained_variance_ratio_[:i])}')"
   ]
  },
  {
   "cell_type": "code",
   "execution_count": null,
   "metadata": {},
   "outputs": [],
   "source": []
  }
 ],
 "metadata": {
  "colab": {
   "name": "HW_Kobe.ipynb",
   "provenance": []
  },
  "kernelspec": {
   "display_name": "Python 3",
   "language": "python",
   "name": "python3"
  },
  "language_info": {
   "codemirror_mode": {
    "name": "ipython",
    "version": 3
   },
   "file_extension": ".py",
   "mimetype": "text/x-python",
   "name": "python",
   "nbconvert_exporter": "python",
   "pygments_lexer": "ipython3",
   "version": "3.8.8"
  }
 },
 "nbformat": 4,
 "nbformat_minor": 1
}
