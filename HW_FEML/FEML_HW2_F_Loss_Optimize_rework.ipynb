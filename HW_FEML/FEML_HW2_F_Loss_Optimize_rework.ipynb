{
 "cells": [
  {
   "cell_type": "markdown",
   "id": "b4387045",
   "metadata": {},
   "source": [
    "### Домашнее задание к лекции \"Функции потерь и оптимизация\"\n",
    "* Прочитать про методы оптимизации для нейронных сетей https://habr.com/post/318970/  \n",
    "* Реализовать самостоятельно логистическую регрессию  \n",
    "* Обучить ее:  \n",
    "- Методом градиентного спуска  \n",
    "- Методом nesterov momentum  \n",
    "- Методом rmsprop  \n",
    "В качестве dataset’а взять Iris, оставив 2 класса:  \n",
    "Iris Versicolor  \n",
    "Iris Virginica"
   ]
  },
  {
   "cell_type": "code",
   "execution_count": 101,
   "id": "f16394ff",
   "metadata": {},
   "outputs": [],
   "source": [
    "import numpy as np\n",
    "import pandas as pd\n",
    "from pandas import DataFrame\n",
    "from sklearn.model_selection import train_test_split\n",
    "from sklearn.metrics import accuracy_score\n",
    "import matplotlib.pyplot as plt\n",
    "%matplotlib inline"
   ]
  },
  {
   "cell_type": "code",
   "execution_count": 51,
   "id": "e7ebd4c2",
   "metadata": {},
   "outputs": [],
   "source": [
    "from sklearn.datasets import load_iris"
   ]
  },
  {
   "cell_type": "code",
   "execution_count": 52,
   "id": "81446a95",
   "metadata": {},
   "outputs": [],
   "source": [
    "iris = load_iris()"
   ]
  },
  {
   "cell_type": "code",
   "execution_count": 53,
   "id": "03cc7587",
   "metadata": {},
   "outputs": [
    {
     "name": "stdout",
     "output_type": "stream",
     "text": [
      "Названия классов: ['setosa' 'versicolor' 'virginica']\n"
     ]
    }
   ],
   "source": [
    "print(\"Названия классов: {}\".format(iris['target_names']))"
   ]
  },
  {
   "cell_type": "code",
   "execution_count": 54,
   "id": "20b04dba",
   "metadata": {},
   "outputs": [
    {
     "name": "stdout",
     "output_type": "stream",
     "text": [
      "Названия признаков: \n",
      "['sepal length (cm)', 'sepal width (cm)', 'petal length (cm)', 'petal width (cm)']\n"
     ]
    }
   ],
   "source": [
    "print(\"Названия признаков: \\n{}\".format(iris['feature_names']))"
   ]
  },
  {
   "cell_type": "code",
   "execution_count": 55,
   "id": "0696dd0a",
   "metadata": {},
   "outputs": [
    {
     "name": "stdout",
     "output_type": "stream",
     "text": [
      "Классы:\n",
      "[0 0 0 0 0 0 0 0 0 0 0 0 0 0 0 0 0 0 0 0 0 0 0 0 0 0 0 0 0 0 0 0 0 0 0 0 0\n",
      " 0 0 0 0 0 0 0 0 0 0 0 0 0 1 1 1 1 1 1 1 1 1 1 1 1 1 1 1 1 1 1 1 1 1 1 1 1\n",
      " 1 1 1 1 1 1 1 1 1 1 1 1 1 1 1 1 1 1 1 1 1 1 1 1 1 1 2 2 2 2 2 2 2 2 2 2 2\n",
      " 2 2 2 2 2 2 2 2 2 2 2 2 2 2 2 2 2 2 2 2 2 2 2 2 2 2 2 2 2 2 2 2 2 2 2 2 2\n",
      " 2 2]\n"
     ]
    }
   ],
   "source": [
    "print(\"Классы:\\n{}\".format(iris['target']))"
   ]
  },
  {
   "cell_type": "code",
   "execution_count": 105,
   "id": "4ec103e0",
   "metadata": {},
   "outputs": [
    {
     "name": "stdout",
     "output_type": "stream",
     "text": [
      "[0 0 0 0 0 0 0 0 0 0 0 0 0 0 0 0 0 0 0 0 0 0 0 0 0 0 0 0 0 0 0 0 0 0 0 0 0\n",
      " 0 0 0 0 0 0 0 0 0 0 0 0 0 1 1 1 1 1 1 1 1 1 1 1 1 1 1 1 1 1 1 1 1 1 1 1 1\n",
      " 1 1 1 1 1 1 1 1 1 1 1 1 1 1 1 1 1 1 1 1 1 1 1 1 1 1]\n"
     ]
    }
   ],
   "source": [
    "# оставляю два класса:Iris Versicolor and Iris Virginica\n",
    "# переименовываю классы для удобства классификации 0 and 1\n",
    "X = []\n",
    "y = []\n",
    "for idx, item in enumerate(iris.target):\n",
    "    if item != 0:\n",
    "        X.append(iris.data[idx])\n",
    "        y.append(item-1)\n",
    "\n",
    "X = np.asarray(X)\n",
    "y = np.asarray(y)\n",
    "print(y)"
   ]
  },
  {
   "cell_type": "code",
   "execution_count": 69,
   "id": "237fe84f",
   "metadata": {},
   "outputs": [],
   "source": [
    "# Классифицирующая функция через сигмоиду\n",
    "\n",
    "def predict(coefs, X):\n",
    "    predict = coefs[0] + coefs[1] * X[:, 0] + coefs[2] * X[:, 1] + coefs[3] * X[:, 2] + coefs[4] * X[:, 3]\n",
    "    sigm = 1. / (1 + np.exp(-predict))\n",
    "    return sigm"
   ]
  },
  {
   "cell_type": "markdown",
   "id": "e094f188",
   "metadata": {},
   "source": [
    "### Метод градиентного спуска"
   ]
  },
  {
   "cell_type": "code",
   "execution_count": 77,
   "id": "df5c819c",
   "metadata": {},
   "outputs": [
    {
     "name": "stdout",
     "output_type": "stream",
     "text": [
      "[-1.38862827 -0.61676907  0.40170305 -0.29707569  2.02538975]\n",
      "[-1.36959492 -0.48939644  0.45842979 -0.18849862  2.06485586]\n",
      "[-1.36310711 -0.44168996  0.47822481 -0.1438801   2.08148534]\n",
      "[-1.36324632 -0.43608969  0.47876191 -0.13261437  2.08665372]\n",
      "[-1.36449034 -0.43750225  0.47610703 -0.12688171  2.08994528]\n",
      "[-1.36590746 -0.44002265  0.47295134 -0.12203591  2.09293411]\n",
      "[-1.36735043 -0.44271823  0.46971964 -0.11734403  2.09586785]\n",
      "[-1.36879526 -0.44543696  0.46648114 -0.11268658  2.09878689]\n",
      "[-1.370238   -0.44815386  0.46324722 -0.10804388  2.10169787]\n",
      "[-1.37167801 -0.45086483  0.46001973 -0.10341265  2.10460192]\n",
      "[-1.3731152  -0.4535692   0.45679898 -0.09879232  2.10749925]\n",
      "[-1.37454956 -0.4562669   0.45358498 -0.09418275  2.11038992]\n",
      "[-1.37598108 -0.45895792  0.45037774 -0.08958391  2.11327395]\n",
      "[-1.37740979 -0.46164228  0.44717723 -0.08499574  2.11615138]\n",
      "[-1.37883569 -0.46432002  0.44398343 -0.08041822  2.11902222]\n",
      "[-1.38025879 -0.46699115  0.44079633 -0.0758513   2.12188651]\n",
      "[-1.3816791  -0.4696557   0.43761591 -0.07129496  2.12474427]\n",
      "[-1.38309663 -0.4723137   0.43444214 -0.06674915  2.12759552]\n",
      "[-1.38451138 -0.47496516  0.43127501 -0.06221384  2.1304403 ]\n",
      "[-1.38592338 -0.47761012  0.42811449 -0.057689    2.13327862]\n",
      "[-1.38733262 -0.4802486   0.42496058 -0.05317459  2.13611052]\n",
      "[-1.38873913 -0.48288063  0.42181324 -0.04867057  2.13893601]\n",
      "[-1.39014289 -0.48550622  0.41867246 -0.04417692  2.14175513]\n",
      "[-1.39154394 -0.4881254   0.41553823 -0.03969358  2.1445679 ]\n",
      "[-1.39294227 -0.4907382   0.41241051 -0.03522054  2.14737434]\n",
      "[-1.39433789 -0.49334464  0.4092893  -0.03075775  2.15017447]\n",
      "[-1.39573082 -0.49594474  0.40617457 -0.02630518  2.15296833]\n",
      "[-1.39712106 -0.49853853  0.4030663  -0.02186279  2.15575594]\n",
      "[-1.39850862 -0.50112603  0.39996448 -0.01743056  2.15853732]\n",
      "[-1.39989351 -0.50370726  0.39686908 -0.01300844  2.16131249]\n",
      "[-1.40127575 -0.50628226  0.39378009 -0.0085964   2.16408148]\n",
      "[-1.40265533 -0.50885103  0.39069749 -0.00419441  2.16684432]\n",
      "[-1.40403228e+00 -5.11413616e-01  3.87621253e-01  1.97574141e-04\n",
      "  2.16960103e+00]\n",
      "[-1.40540659 -0.51397003  0.38455137  0.00457958  2.17235163]\n",
      "[-1.40677828 -0.51652029  0.38148781  0.00895163  2.17509614]\n",
      "[-1.40814735 -0.51906443  0.37843056  0.01331378  2.1778346 ]\n",
      "[-1.40951382 -0.52160246  0.37537961  0.01766605  2.18056702]\n",
      "[-1.4108777  -0.52413442  0.37233493  0.02200848  2.18329343]\n",
      "[-1.41223899 -0.52666032  0.36929651  0.0263411   2.18601385]\n",
      "[-1.4135977  -0.52918019  0.36626431  0.03066394  2.1887283 ]\n",
      "[-1.41495384 -0.53169404  0.36323834  0.03497704  2.19143681]\n",
      "[-1.41630742 -0.53420191  0.36021856  0.03928043  2.1941394 ]\n",
      "[-1.41765845 -0.53670381  0.35720497  0.04357415  2.19683609]\n",
      "[-1.41900693 -0.53919977  0.35419753  0.04785823  2.19952691]\n",
      "[-1.42035289 -0.54168981  0.35119623  0.05213269  2.20221189]\n",
      "[-1.42169631 -0.54417395  0.34820106  0.05639758  2.20489103]\n",
      "[-1.42303723 -0.54665221  0.34521199  0.06065293  2.20756437]\n",
      "[-1.42437563 -0.54912462  0.34222901  0.06489877  2.21023192]\n",
      "[-1.42571154 -0.55159119  0.33925209  0.06913512  2.21289372]\n",
      "[-1.42704495 -0.55405196  0.33628123  0.07336204  2.21554978]\n",
      "[-1.42837589 -0.55650693  0.33331639  0.07757954  2.21820012]\n"
     ]
    }
   ],
   "source": [
    "lr = 0.05\n",
    "coefs = []\n",
    "coefs = np.random.normal(size=(5,))\n",
    "print(coefs)\n",
    "grad_loss_hist = []\n",
    "for _ in range(50):\n",
    "    sigm = predict(coefs, X)\n",
    "    coefs[0] -= lr * np.sum(sigm - y)/len(sigm)\n",
    "    coefs[1] -= lr * np.sum((sigm - y) * X[:, 0])/len(sigm)\n",
    "    coefs[2] -= lr * np.sum((sigm - y) * X[:, 1])/len(sigm)\n",
    "    coefs[3] -= lr * np.sum((sigm - y) * X[:, 2])/len(sigm)\n",
    "    coefs[4] -= lr * np.sum((sigm - y) * X[:, 3])/len(sigm)\n",
    "    loss = - np.mean(np.log(sigm) * y + np.log(1 - sigm) * (1 - y))\n",
    "    print(coefs)\n",
    "    grad_loss_hist.append(loss)"
   ]
  },
  {
   "cell_type": "code",
   "execution_count": 78,
   "id": "89c8c851",
   "metadata": {},
   "outputs": [
    {
     "data": {
      "text/plain": [
       "12"
      ]
     },
     "execution_count": 78,
     "metadata": {},
     "output_type": "execute_result"
    }
   ],
   "source": [
    "# смотрю количество ошибок при классификации\n",
    "err = 0\n",
    "for idx, item in enumerate(np.around(predict(coefs, X))):\n",
    "    if item != y[idx]:\n",
    "        err += 1\n",
    "err"
   ]
  },
  {
   "cell_type": "code",
   "execution_count": 81,
   "id": "fb39854d",
   "metadata": {},
   "outputs": [
    {
     "data": {
      "text/plain": [
       "matrix([[0., 0., 0., 0., 0., 0., 1., 0., 0., 0., 0., 0., 0., 0., 0., 0.,\n",
       "         1., 0., 0., 0., 1., 0., 0., 0., 0., 0., 0., 1., 0., 0., 0., 0.,\n",
       "         0., 1., 1., 1., 0., 0., 0., 0., 0., 0., 0., 0., 0., 0., 0., 0.,\n",
       "         0., 0., 1., 1., 1., 1., 1., 1., 1., 0., 1., 1., 1., 1., 1., 1.,\n",
       "         1., 1., 1., 1., 1., 0., 1., 1., 1., 1., 1., 1., 1., 1., 1., 0.,\n",
       "         1., 1., 1., 0., 0., 1., 1., 1., 1., 1., 1., 1., 1., 1., 1., 1.,\n",
       "         1., 1., 1., 1.],\n",
       "        [0., 0., 0., 0., 0., 0., 0., 0., 0., 0., 0., 0., 0., 0., 0., 0.,\n",
       "         0., 0., 0., 0., 0., 0., 0., 0., 0., 0., 0., 0., 0., 0., 0., 0.,\n",
       "         0., 0., 0., 0., 0., 0., 0., 0., 0., 0., 0., 0., 0., 0., 0., 0.,\n",
       "         0., 0., 1., 1., 1., 1., 1., 1., 1., 1., 1., 1., 1., 1., 1., 1.,\n",
       "         1., 1., 1., 1., 1., 1., 1., 1., 1., 1., 1., 1., 1., 1., 1., 1.,\n",
       "         1., 1., 1., 1., 1., 1., 1., 1., 1., 1., 1., 1., 1., 1., 1., 1.,\n",
       "         1., 1., 1., 1.]])"
      ]
     },
     "execution_count": 81,
     "metadata": {},
     "output_type": "execute_result"
    }
   ],
   "source": [
    "# сравниваю результаты классификации\n",
    "\n",
    "rez_predict = np.matrix([np.around(predict(coefs, X)), y])\n",
    "rez_predict"
   ]
  },
  {
   "cell_type": "markdown",
   "id": "3a1aa25a",
   "metadata": {},
   "source": [
    "### Метод nesterov momentum"
   ]
  },
  {
   "cell_type": "code",
   "execution_count": 86,
   "id": "69818cab",
   "metadata": {
    "scrolled": true
   },
   "outputs": [
    {
     "name": "stdout",
     "output_type": "stream",
     "text": [
      "[-1.49242075 -0.67312307  0.19133544  0.27859187  2.34481767]\n",
      "[-1.49363819 -0.67532728  0.18864765  0.28235166  2.34719692]\n",
      "[-1.49485872 -0.67751385  0.1859573   0.28615595  2.349598  ]\n",
      "[-1.49608196 -0.67972558  0.18325837  0.28992907  2.3519866 ]\n",
      "[-1.49729719 -0.68189504  0.18058166  0.29372373  2.35438041]\n",
      "[-1.49851692 -0.68410132  0.17789115  0.2974778   2.35675852]\n",
      "[-1.49972678 -0.6862535   0.17522824  0.30126278  2.35914501]\n",
      "[-1.50094348 -0.68845724  0.17254479  0.30499568  2.36151195]\n",
      "[-1.50214777 -0.69059072  0.16989629  0.30877226  2.36389158]\n",
      "[-1.50336191 -0.69279482  0.16721856  0.31248188  2.36624667]\n",
      "[-1.50456026 -0.69490717  0.16458555  0.31625214  2.36862017]\n",
      "[-1.50577239 -0.69711499  0.16191196  0.31993598  2.3709626 ]\n",
      "[-1.50696429 -0.69920282  0.15929594  0.32370274  2.37333096]\n",
      "[-1.50817509 -0.70141854  0.15662457  0.32735769  2.37565972]\n",
      "[-1.50935984 -0.70347739  0.15402754  0.33112461  2.3780242 ]\n",
      "[-1.51057016 -0.70570629  0.15135594  0.33474668  2.38033799]\n",
      "[-1.51174687 -0.70773039  0.1487805   0.33851846  2.38270019]\n",
      "[-1.51295778 -0.70997915  0.14610559  0.34210255  2.38499731]\n",
      "[-1.5141253  -0.71196112  0.14355508  0.34588515  2.38735929]\n",
      "[-1.51533817 -0.71423822  0.14087297  0.34942475  2.38963759]\n",
      "[-1.51649503 -0.71616866  0.13835163  0.3532257   2.3920019 ]\n",
      "[-1.51771155 -0.7184848   0.13565741  0.35671257  2.39425864]\n",
      "[-1.51885591 -0.72035185  0.13317061  0.36054136  2.39662851]\n",
      "[-1.52007822 -0.72272047  0.13045813  0.36396508  2.39886022]\n",
      "[-1.52120773 -0.7245092   0.12801264  0.36783359  2.40123967]\n",
      "[-1.52243851 -0.72694716  0.12527418  0.37118108  2.40344198]\n",
      "[-1.52355023 -0.72863887  0.12287849  0.37510416  2.40583604]\n",
      "[-1.52479282 -0.73116716  0.12010446  0.37835907  2.40800348]\n",
      "[-1.52588309 -0.73273855  0.11776915  0.3823552   2.4104184 ]\n",
      "[-1.52714162 -0.73538327  0.11494763  0.38549719  2.41254417]\n",
      "[-1.5282059  -0.73680544  0.11268584  0.38958922  2.41498766]\n",
      "[-1.52948548 -0.73959881  0.1098021   0.39259313  2.41706335]\n",
      "[-1.53051816 -0.74083611  0.10763004  0.39680925  2.41954493]\n",
      "[-1.53182507 -0.74381778  0.10466601  0.39964409  2.42156015]\n",
      "[-1.53281924 -0.74482642  0.1026036   0.40401891  2.4240915 ]\n",
      "[-1.53416116 -0.74804492  0.09953711  0.40664672  2.42603353]\n",
      "[-1.5351084  -0.74877137  0.09760872  0.41122248  2.42862889]\n",
      "[-1.5364947  -0.75228585  0.09441279  0.41359698  2.43048223]\n",
      "[-1.53738475 -0.75266501  0.09264805  0.41842507  2.43315896]\n",
      "[-1.53882678 -0.75654719  0.08928997  0.42049013  2.4349048 ]\n",
      "[-1.53964723 -0.75650028  0.08772475  0.42563271  2.43768386]\n",
      "[-1.54115869 -0.76083668  0.08416506  0.42732062  2.43929953]\n",
      "[-1.54189459 -0.76026886  0.08284254  0.43285254  2.44220618]\n",
      "[-1.54349191 -0.7651633   0.07903389  0.43408204  2.4436645 ]\n",
      "[-1.54412538 -0.76396101  0.0780058   0.44009295  2.44672901]\n",
      "[-1.54582817 -0.76953741  0.07389169  0.44076712  2.44799755]\n",
      "[-1.54633793 -0.76756549  0.07321959  0.44736375  2.45125599]\n",
      "[-1.54816948 -0.77397079  0.06873302  0.4473677   2.45229636]\n",
      "[-1.54853035 -0.77106938  0.06848972  0.45467638  2.45579147]\n",
      "[-1.55051809 -0.77847671  0.06355174  0.45387487  2.45655853]\n",
      "[-1.55070054 -0.77445808  0.06382277  0.46204409  2.46034059]\n"
     ]
    }
   ],
   "source": [
    "# обучение модели методом nesterov momentum\n",
    "\n",
    "vel_pred = np.zeros(5)\n",
    "vel = np.zeros(5)\n",
    "print(coefs)\n",
    "nest_loss_hist = []\n",
    "gamma = 0.975\n",
    "for _ in range(50):\n",
    "    sigm = predict(coefs, X)\n",
    "    loss = - np.mean(np.log(sigm) * y + np.log(1 - sigm) * (1 - y))\n",
    "    nest_loss_hist.append(loss)\n",
    "    \n",
    "    sigm = predict(coefs - gamma * vel_pred, X)\n",
    "    \n",
    "    vel[0] = (gamma * vel_pred[0] + lr * np.sum(sigm - y))/len(sigm)\n",
    "    vel[1] = (gamma * vel_pred[1] + lr * np.sum((sigm - y) * X[:, 0]))/len(sigm)\n",
    "    vel[2] = (gamma * vel_pred[2] + lr * np.sum((sigm - y) * X[:, 1]))/len(sigm)\n",
    "    vel[3] = (gamma * vel_pred[3] + lr * np.sum((sigm - y) * X[:, 2]))/len(sigm)\n",
    "    vel[4] = (gamma * vel_pred[4] + lr * np.sum((sigm - y) * X[:, 3]))/len(sigm)\n",
    "    coefs -= vel\n",
    "    print(coefs)\n",
    "\n",
    "    vel_pred = vel"
   ]
  },
  {
   "cell_type": "code",
   "execution_count": 87,
   "id": "4de41306",
   "metadata": {},
   "outputs": [
    {
     "data": {
      "text/plain": [
       "9"
      ]
     },
     "execution_count": 87,
     "metadata": {},
     "output_type": "execute_result"
    }
   ],
   "source": [
    "# смотрю количество ошибок при классификации\n",
    "err = 0\n",
    "for idx, item in enumerate(np.around(predict(coefs, X))):\n",
    "    if item != y[idx]:\n",
    "        err += 1\n",
    "err"
   ]
  },
  {
   "cell_type": "markdown",
   "id": "7ad02523",
   "metadata": {},
   "source": [
    "### Метод RMSProp"
   ]
  },
  {
   "cell_type": "code",
   "execution_count": 88,
   "id": "af78a18c",
   "metadata": {},
   "outputs": [
    {
     "name": "stdout",
     "output_type": "stream",
     "text": [
      "[-1.55070054 -0.77445808  0.06382277  0.46204409  2.46034059]\n",
      "[-1.86685733 -1.09067742 -0.25239223  0.77820619  2.77650207]\n",
      "[-1.55526824 -0.77528512  0.06093555  1.09429058  3.09163083]\n",
      "[-1.8517264  -1.06627554 -0.23294324  0.81271271  2.81922223]\n",
      "[-1.7941627  -0.99723076 -0.17050192  0.89636944  2.9131819 ]\n",
      "[-1.87079317 -1.06772179 -0.24593355  0.83355069  2.85567424]\n",
      "[-1.82525693 -1.01155317 -0.19607779  0.90295572  2.93405769]\n",
      "[-1.88814557 -1.06796583 -0.25749921  0.85463605  2.89124314]\n",
      "[-1.85505543 -1.02489366 -0.22054246  0.90993857  2.95458014]\n",
      "[-1.90612622 -1.06915621 -0.26991266  0.87415643  2.92446328]\n",
      "[-1.88282691 -1.03628867 -0.24304792  0.91862737  2.97638556]\n",
      "[-1.92537189 -1.07174275 -0.28370784  0.89197878  2.95553719]\n",
      "[-1.90895989 -1.04599507 -0.2639118   0.92897338  2.9996402 ]\n",
      "[-1.94583459 -1.07555274 -0.29876296  0.90848203  2.9850581 ]\n",
      "[-1.93397728 -1.0544682  -0.28362044  0.94063126  3.02411673]\n",
      "[-1.9673183  -1.08031679 -0.31483753  0.92405446  3.01353445]\n",
      "[-1.95827007 -1.06206504 -0.30254639  0.95329998  3.04957502]\n",
      "[-1.98965482 -1.0858259  -0.33173782  0.9389707   3.041306  ]\n",
      "[-1.98207891 -1.06900889 -0.32092022  0.96678443  3.07585089]\n",
      "[-2.01274095 -1.0919559  -0.34934623  0.95338952  3.06856658]\n",
      "[-2.00552436 -1.0754115  -0.33885587  0.98098612  3.10286118]\n",
      "[-2.03653733 -1.09865958 -0.36761566  0.96737366  3.09539755]\n",
      "[-2.02863269 -1.08129561 -0.35637424  0.99588641  3.13059394]\n",
      "[-2.06106118 -1.10595649 -0.38655977  0.98090557  3.12179064]\n",
      "[-2.05135016 -1.08660841 -0.37341621  1.0115344   3.15909954]\n",
      "[-2.08637786 -1.11392416 -0.40624319  0.99389793  3.14766227]\n",
      "[-2.07355244 -1.09123279 -0.38985181  1.0280339   3.188479  ]\n",
      "[-2.1125812  -1.1226795  -0.42676051  1.00621134  3.17287339]\n",
      "[-2.09506898 -1.09501723 -0.40550558  1.04550768  3.21884805]\n",
      "[-2.13973385 -1.13232042 -0.44817438  1.01771027  3.19728611]\n",
      "[-2.11576584 -1.09787072 -0.42024344  1.0639908   3.25022878]\n",
      "[-2.16771616 -1.14277364 -0.4703604   1.02841216  3.22091055]\n",
      "[-2.13575202 -1.09998889 -0.43418887  1.08318714  3.2823012 ]\n",
      "[-2.19595722 -1.15352044 -0.49273537  1.03875799  3.24416475]\n",
      "[-2.15568862 -1.10217816 -0.44804601  1.10213435  3.31405676]\n",
      "[-2.22324564 -1.1634046  -0.51407814  1.04979719  3.26803449]\n",
      "[-2.17681281 -1.10585212 -0.46312558  1.11923185  3.34380826]\n",
      "[-2.24816253 -1.17107594 -0.5329936   1.06273856  3.2936    ]\n",
      "[-2.20011231 -1.11212005 -0.4804901   1.13322076  3.37016638]\n",
      "[-2.27015974 -1.17606664 -0.549004    1.07790814  3.32102492]\n",
      "[-2.22532007 -1.12071472 -0.49990728  1.14432074  3.39322846]\n",
      "[-2.28998183 -1.17916479 -0.56292447  1.09445923  3.34936389]\n",
      "[-2.25123264 -1.13033226 -0.52015655  1.15390464  3.41433226]\n",
      "[-2.30888353 -1.18159391 -0.57603115  1.11123193  3.37748026]\n",
      "[-2.27679806 -1.13978628 -0.54013798  1.16330138  3.43487022]\n",
      "[-2.32782015 -1.18422713 -0.58925627  1.12748794  3.4047391 ]\n",
      "[-2.30155921 -1.14850112 -0.55934345  1.17323793  3.45567499]\n",
      "[-2.34727313 -1.18745659 -0.60304273  1.1429727   3.43100054]\n",
      "[-2.32547805 -1.15635326 -0.57769511  1.18395852  3.4770884 ]\n",
      "[-2.3674095  -1.19137726 -0.61752246  1.15769849  3.45636804]\n",
      "[-2.34867782 -1.16341074 -0.59528921  1.19547783  3.4991971 ]\n"
     ]
    }
   ],
   "source": [
    "# обучение модели методом RMSProp\n",
    "\n",
    "e_sq_grad = np.zeros(5)\n",
    "grad = np.zeros(5)\n",
    "print(coefs)\n",
    "rmsp_loss_hist = []\n",
    "gamma = 0.975\n",
    "eps = 0.00000001\n",
    "for _ in range(50):\n",
    "    sigm = predict(coefs, X)\n",
    "    loss = - np.mean(np.log(sigm) * y + np.log(1 - sigm) * (1 - y))\n",
    "    rmsp_loss_hist.append(loss)\n",
    "    grad[0] = np.sum(sigm - y)/len(sigm)\n",
    "    grad[1] = np.sum((sigm - y) * X[:, 0])/len(sigm)\n",
    "    grad[2] = np.sum((sigm - y) * X[:, 1])/len(sigm)\n",
    "    grad[3] = np.sum((sigm - y) * X[:, 2])/len(sigm)\n",
    "    grad[4] = np.sum((sigm - y) * X[:, 3])/len(sigm)\n",
    "    \n",
    "    e_sq_grad = gamma * e_sq_grad + (1 - gamma)  * grad ** 2\n",
    "    \n",
    "    coefs -= lr * grad / np.sqrt(e_sq_grad + eps)\n",
    "    print(coefs)"
   ]
  },
  {
   "cell_type": "code",
   "execution_count": 91,
   "id": "c9df99a4",
   "metadata": {},
   "outputs": [
    {
     "data": {
      "text/plain": [
       "3"
      ]
     },
     "execution_count": 91,
     "metadata": {},
     "output_type": "execute_result"
    }
   ],
   "source": [
    "# смотрю количество ошибок при классификации\n",
    "err = 0\n",
    "for idx, item in enumerate(np.around(predict(coefs, X))):\n",
    "    if item != y[idx]:\n",
    "        err += 1\n",
    "err"
   ]
  },
  {
   "cell_type": "code",
   "execution_count": 104,
   "id": "4befbe10",
   "metadata": {},
   "outputs": [
    {
     "data": {
      "image/png": "[encoded data removed]",
      "text/plain": [
       "<Figure size 432x288 with 1 Axes>"
      ]
     },
     "metadata": {
      "needs_background": "light"
     },
     "output_type": "display_data"
    }
   ],
   "source": [
    "# Сравниваю скорость убывания ошибки\n",
    "\n",
    "plt.plot(range(50), grad_loss_hist, label = 'Gradient' )\n",
    "plt.plot(range(50), nest_loss_hist, label = 'Nesterov momentum ' )\n",
    "plt.plot(range(50), rmsp_loss_hist, label = 'RMSProp ' )\n",
    "plt.title('Comparison')\n",
    "plt.xlabel('$Step$', fontsize = 15)\n",
    "plt.ylabel('$Loss$', fontsize = 15)\n",
    "plt.legend()\n",
    "plt.show()"
   ]
  },
  {
   "cell_type": "markdown",
   "id": "55a8df0a",
   "metadata": {},
   "source": [
    "#### RMSProp показал лучший результат"
   ]
  }
 ],
 "metadata": {
  "kernelspec": {
   "display_name": "Python 3",
   "language": "python",
   "name": "python3"
  },
  "language_info": {
   "codemirror_mode": {
    "name": "ipython",
    "version": 3
   },
   "file_extension": ".py",
   "mimetype": "text/x-python",
   "name": "python",
   "nbconvert_exporter": "python",
   "pygments_lexer": "ipython3",
   "version": "3.8.8"
  }
 },
 "nbformat": 4,
 "nbformat_minor": 5
}
