{
 "cells": [
  {
   "cell_type": "markdown",
   "id": "b5ee123a",
   "metadata": {},
   "source": [
    "### Домашнее задание к лекции  \"Проблема качества данных\"\n",
    "Необходимо запустить практическую часть занятия, и посмотреть самому то, о чём говорили на лекции.   По образу практики, попробуйте создать искусственный датасет с лишними столбцами.   Целевую метку, при правильной обработке данных, формируйте таким образом, чтобы без затруднений её смогла описать линейная модель.   Ориентируйтесь на то, что было показано во время занятия, и каждый шаг описывайте в markdown.   Здесь важно видеть ваш ход мысли.   Не бойтесь ошибиться или написать не то. Данное задание не имеет какого-то “правильного” решения. Цель - достичь базового понимания проблемы. Чем больше вы фантазируете, тем лучше :) Тем не менее, старайтесь представить те ситуации, которые по-вашему мнению могли бы быть в реальных данных. Успеха!"
   ]
  },
  {
   "cell_type": "code",
   "execution_count": 2,
   "id": "6e57f179",
   "metadata": {},
   "outputs": [],
   "source": [
    "import numpy as np\n",
    "import pandas as pd\n",
    "import seaborn as sns\n",
    "from sklearn.linear_model import LinearRegression"
   ]
  },
  {
   "cell_type": "code",
   "execution_count": 4,
   "id": "e2098f69",
   "metadata": {},
   "outputs": [
    {
     "data": {
      "text/html": [
       "<div>\n",
       "<style scoped>\n",
       "    .dataframe tbody tr th:only-of-type {\n",
       "        vertical-align: middle;\n",
       "    }\n",
       "\n",
       "    .dataframe tbody tr th {\n",
       "        vertical-align: top;\n",
       "    }\n",
       "\n",
       "    .dataframe thead th {\n",
       "        text-align: right;\n",
       "    }\n",
       "</style>\n",
       "<table border=\"1\" class=\"dataframe\">\n",
       "  <thead>\n",
       "    <tr style=\"text-align: right;\">\n",
       "      <th></th>\n",
       "      <th>age_using</th>\n",
       "      <th>length</th>\n",
       "      <th>width</th>\n",
       "      <th>price</th>\n",
       "    </tr>\n",
       "  </thead>\n",
       "  <tbody>\n",
       "    <tr>\n",
       "      <th>0</th>\n",
       "      <td>70</td>\n",
       "      <td>65</td>\n",
       "      <td>90</td>\n",
       "      <td>585042</td>\n",
       "    </tr>\n",
       "    <tr>\n",
       "      <th>1</th>\n",
       "      <td>72</td>\n",
       "      <td>43</td>\n",
       "      <td>119</td>\n",
       "      <td>511742</td>\n",
       "    </tr>\n",
       "    <tr>\n",
       "      <th>2</th>\n",
       "      <td>89</td>\n",
       "      <td>79</td>\n",
       "      <td>153</td>\n",
       "      <td>1208742</td>\n",
       "    </tr>\n",
       "    <tr>\n",
       "      <th>3</th>\n",
       "      <td>22</td>\n",
       "      <td>95</td>\n",
       "      <td>153</td>\n",
       "      <td>1453542</td>\n",
       "    </tr>\n",
       "    <tr>\n",
       "      <th>4</th>\n",
       "      <td>42</td>\n",
       "      <td>67</td>\n",
       "      <td>153</td>\n",
       "      <td>1025142</td>\n",
       "    </tr>\n",
       "  </tbody>\n",
       "</table>\n",
       "</div>"
      ],
      "text/plain": [
       "   age_using  length  width    price\n",
       "0         70      65     90   585042\n",
       "1         72      43    119   511742\n",
       "2         89      79    153  1208742\n",
       "3         22      95    153  1453542\n",
       "4         42      67    153  1025142"
      ]
     },
     "execution_count": 4,
     "metadata": {},
     "output_type": "execute_result"
    }
   ],
   "source": [
    "# Создаю синтетически данные по стоимости ковра в зависимости от размеров и времени его использования\n",
    "n_samples = 1000\n",
    "\n",
    "age_using = np.random.choice(90, n_samples) + 21\n",
    "length = np.random.choice(100, n_samples) + 42\n",
    "width = np.random.choice(110, n_samples) + 84\n",
    "\n",
    "price = length * width * 100 + 42\n",
    "\n",
    "data = pd.DataFrame({'age_using': age_using, 'length': length, 'width': width, 'price': price})\n",
    "data.head(5)"
   ]
  },
  {
   "cell_type": "code",
   "execution_count": 5,
   "id": "f92fd334",
   "metadata": {},
   "outputs": [],
   "source": [
    "# строю предсказание на основе линейной регрессии и вывожу ошибку \n",
    "from sklearn.metrics import mean_absolute_error"
   ]
  },
  {
   "cell_type": "code",
   "execution_count": 9,
   "id": "4f514baf",
   "metadata": {},
   "outputs": [
    {
     "name": "stdout",
     "output_type": "stream",
     "text": [
      "Weights: [ -141.69292931 13998.34095321  9019.44095983]\n",
      "Bias: -1256997.1128383912\n",
      "Error : 68925.10166674572\n"
     ]
    }
   ],
   "source": [
    "X = data[['age_using', 'length', 'width']]\n",
    "y = data['price']\n",
    "reg = LinearRegression().fit(X, y)\n",
    "print('Weights: {}'.format(reg.coef_))\n",
    "print('Bias: {}'.format(reg.intercept_))\n",
    "\n",
    "pred_values = reg.predict(data[['age_using', 'length', 'width']])\n",
    "print('Error : {}'.format(mean_absolute_error(pred_values, y)))\n",
    "# получили очень большую ошибку"
   ]
  },
  {
   "cell_type": "code",
   "execution_count": 10,
   "id": "a20f2cd9",
   "metadata": {},
   "outputs": [
    {
     "data": {
      "text/plain": [
       "1190242.0"
      ]
     },
     "execution_count": 10,
     "metadata": {},
     "output_type": "execute_result"
    }
   ],
   "source": [
    "y.median()"
   ]
  },
  {
   "cell_type": "code",
   "execution_count": 11,
   "id": "a49856e8",
   "metadata": {},
   "outputs": [
    {
     "name": "stdout",
     "output_type": "stream",
     "text": [
      "Weights: [13997.43812978  9028.40612888]\n",
      "Bias: -1267462.436451451\n",
      "Error: 68896.76243207353\n"
     ]
    }
   ],
   "source": [
    "# убираю признак по времени использования ковра\n",
    "# в результате качество незначительно улучшилось\n",
    "X = data[['length', 'width']]\n",
    "y = data['price']\n",
    "reg = LinearRegression().fit(X, y)\n",
    "print('Weights: {}'.format(reg.coef_))\n",
    "print('Bias: {}'.format(reg.intercept_))\n",
    "\n",
    "pred_values = reg.predict(data[['length', 'width']])\n",
    "print('Error: {}'.format(mean_absolute_error(pred_values, y)))"
   ]
  },
  {
   "cell_type": "code",
   "execution_count": 12,
   "id": "0c037190",
   "metadata": {},
   "outputs": [
    {
     "data": {
      "text/html": [
       "<div>\n",
       "<style scoped>\n",
       "    .dataframe tbody tr th:only-of-type {\n",
       "        vertical-align: middle;\n",
       "    }\n",
       "\n",
       "    .dataframe tbody tr th {\n",
       "        vertical-align: top;\n",
       "    }\n",
       "\n",
       "    .dataframe thead th {\n",
       "        text-align: right;\n",
       "    }\n",
       "</style>\n",
       "<table border=\"1\" class=\"dataframe\">\n",
       "  <thead>\n",
       "    <tr style=\"text-align: right;\">\n",
       "      <th></th>\n",
       "      <th>age_using</th>\n",
       "      <th>length</th>\n",
       "      <th>width</th>\n",
       "      <th>price</th>\n",
       "      <th>mult</th>\n",
       "    </tr>\n",
       "  </thead>\n",
       "  <tbody>\n",
       "    <tr>\n",
       "      <th>0</th>\n",
       "      <td>70</td>\n",
       "      <td>65</td>\n",
       "      <td>90</td>\n",
       "      <td>585042</td>\n",
       "      <td>5850</td>\n",
       "    </tr>\n",
       "    <tr>\n",
       "      <th>1</th>\n",
       "      <td>72</td>\n",
       "      <td>43</td>\n",
       "      <td>119</td>\n",
       "      <td>511742</td>\n",
       "      <td>5117</td>\n",
       "    </tr>\n",
       "    <tr>\n",
       "      <th>2</th>\n",
       "      <td>89</td>\n",
       "      <td>79</td>\n",
       "      <td>153</td>\n",
       "      <td>1208742</td>\n",
       "      <td>12087</td>\n",
       "    </tr>\n",
       "    <tr>\n",
       "      <th>3</th>\n",
       "      <td>22</td>\n",
       "      <td>95</td>\n",
       "      <td>153</td>\n",
       "      <td>1453542</td>\n",
       "      <td>14535</td>\n",
       "    </tr>\n",
       "    <tr>\n",
       "      <th>4</th>\n",
       "      <td>42</td>\n",
       "      <td>67</td>\n",
       "      <td>153</td>\n",
       "      <td>1025142</td>\n",
       "      <td>10251</td>\n",
       "    </tr>\n",
       "  </tbody>\n",
       "</table>\n",
       "</div>"
      ],
      "text/plain": [
       "   age_using  length  width    price   mult\n",
       "0         70      65     90   585042   5850\n",
       "1         72      43    119   511742   5117\n",
       "2         89      79    153  1208742  12087\n",
       "3         22      95    153  1453542  14535\n",
       "4         42      67    153  1025142  10251"
      ]
     },
     "execution_count": 12,
     "metadata": {},
     "output_type": "execute_result"
    }
   ],
   "source": [
    "# создаю новый признак площади\n",
    "data['mult'] = data['length'] * data['width']\n",
    "data.head(5)"
   ]
  },
  {
   "cell_type": "code",
   "execution_count": 13,
   "id": "40a5a8b2",
   "metadata": {
    "scrolled": true
   },
   "outputs": [
    {
     "name": "stdout",
     "output_type": "stream",
     "text": [
      "Weights: [100.]\n",
      "Bias: 42.00000000023283\n",
      "Error: 4.604225978255272e-11\n"
     ]
    }
   ],
   "source": [
    "# в результате практически нулевая ошибка со сдвигом 42\n",
    "X = data[['mult']]\n",
    "y = data['price']\n",
    "reg = LinearRegression().fit(X, y)\n",
    "print('Weights: {}'.format(reg.coef_))\n",
    "print('Bias: {}'.format(reg.intercept_))\n",
    "\n",
    "pred_values = reg.predict(data[['mult']])\n",
    "print('Error: {}'.format(mean_absolute_error(pred_values, y)))"
   ]
  },
  {
   "cell_type": "markdown",
   "id": "16015a24",
   "metadata": {},
   "source": [
    "Фактически мы пришли к изначальной формуле:  \n",
    "  price = length * width * 100 + 42  \n",
    "  где:  \n",
    "  Weights: [100.] - вес(W)  \n",
    "  Bias: 42.00000000023283 - сдвиг\n",
    "  \n",
    "  "
   ]
  },
  {
   "cell_type": "code",
   "execution_count": null,
   "id": "9a5e511a",
   "metadata": {},
   "outputs": [],
   "source": [
    "# в принципе ход мыслей понятен"
   ]
  }
 ],
 "metadata": {
  "kernelspec": {
   "display_name": "Python 3",
   "language": "python",
   "name": "python3"
  },
  "language_info": {
   "codemirror_mode": {
    "name": "ipython",
    "version": 3
   },
   "file_extension": ".py",
   "mimetype": "text/x-python",
   "name": "python",
   "nbconvert_exporter": "python",
   "pygments_lexer": "ipython3",
   "version": "3.8.8"
  }
 },
 "nbformat": 4,
 "nbformat_minor": 5
}
