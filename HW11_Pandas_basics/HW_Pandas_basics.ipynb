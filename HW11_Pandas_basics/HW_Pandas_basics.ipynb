{
 "cells": [
  {
   "cell_type": "markdown",
   "metadata": {},
   "source": [
    "# Задание 1\n",
    "Скачайте с сайта https://grouplens.org/datasets/movielens/ датасет любого размера.Определите какому фильму было выставлено больше всего оценок 5.0."
   ]
  },
  {
   "cell_type": "code",
   "execution_count": 49,
   "metadata": {},
   "outputs": [
    {
     "name": "stdout",
     "output_type": "stream",
     "text": [
      "        userId  movieId  rating   timestamp\n",
      "0            1       31     2.5  1260759144\n",
      "1            1     1029     3.0  1260759179\n",
      "2            1     1061     3.0  1260759182\n",
      "3            1     1129     2.0  1260759185\n",
      "4            1     1172     4.0  1260759205\n",
      "...        ...      ...     ...         ...\n",
      "99999      671     6268     2.5  1065579370\n",
      "100000     671     6269     4.0  1065149201\n",
      "100001     671     6365     4.0  1070940363\n",
      "100002     671     6385     2.5  1070979663\n",
      "100003     671     6565     3.5  1074784724\n",
      "\n",
      "[100004 rows x 4 columns]\n",
      "Фильм с максимальным количеством оценок 5.0: 318    170\n",
      "Name: movieId, dtype: int64\n"
     ]
    }
   ],
   "source": [
    "import pandas as pd\n",
    "import pandas as np\n",
    "\n",
    "df = pd.read_csv('C:\\\\Netology\\\\ratings.csv')\n",
    "print (df)\n",
    "print ('Фильм с максимальным количеством оценок 5.0:', df[df['rating']==5.0]['movieId'].value_counts().head(1))"
   ]
  },
  {
   "cell_type": "markdown",
   "metadata": {},
   "source": [
    "# Задание 2\n",
    "По данным файла power.csv посчитайте суммарное потребление стран Прибалтики (Латвия, Литва и Эстония) категорий 4, 12 и 21 за период с 2005 по 2010 года. Не учитывайте в расчетах отрицательные значения quantity."
   ]
  },
  {
   "cell_type": "code",
   "execution_count": 44,
   "metadata": {},
   "outputs": [
    {
     "name": "stdout",
     "output_type": "stream",
     "text": [
      "суммарное потребление: 240580.0\n"
     ]
    }
   ],
   "source": [
    "sum_v = 0\n",
    "df = pd.read_csv('C:\\\\Netology\\\\power.csv')\n",
    "df2 = df[(df['year'] >= 2005) & (df['year'] <= 2010) & (df['quantity'] > 0)]\n",
    "df3 = df2[df2.category.isin([4,12,21])]\n",
    "sum_v = df3[df3.country.str.contains('|'.join(['Lat','Lit','Est']))]['quantity'].sum()\n",
    "print('суммарное потребление: {}'.format(sum_v))"
   ]
  },
  {
   "cell_type": "markdown",
   "metadata": {},
   "source": [
    "# Задание 3\n",
    "Выберите страницу любого сайта с табличными данными. Импортируйте таблицы в pandas dataframe.\n",
    "Примеры страниц (необязательно брать именно эти):  \n",
    "https://fortrader.org/quotes  \n",
    "https://www.finanz.ru/valyuty/v-realnom-vremeni"
   ]
  },
  {
   "cell_type": "code",
   "execution_count": 57,
   "metadata": {},
   "outputs": [
    {
     "data": {
      "text/html": [
       "<div>\n",
       "<style scoped>\n",
       "    .dataframe tbody tr th:only-of-type {\n",
       "        vertical-align: middle;\n",
       "    }\n",
       "\n",
       "    .dataframe tbody tr th {\n",
       "        vertical-align: top;\n",
       "    }\n",
       "\n",
       "    .dataframe thead th {\n",
       "        text-align: right;\n",
       "    }\n",
       "</style>\n",
       "<table border=\"1\" class=\"dataframe\">\n",
       "  <thead>\n",
       "    <tr style=\"text-align: right;\">\n",
       "      <th></th>\n",
       "      <th>0</th>\n",
       "      <th>1</th>\n",
       "      <th>2</th>\n",
       "      <th>3</th>\n",
       "      <th>4</th>\n",
       "      <th>5</th>\n",
       "      <th>6</th>\n",
       "      <th>7</th>\n",
       "      <th>8</th>\n",
       "      <th>9</th>\n",
       "      <th>10</th>\n",
       "      <th>11</th>\n",
       "    </tr>\n",
       "  </thead>\n",
       "  <tbody>\n",
       "    <tr>\n",
       "      <th>0</th>\n",
       "      <td>аааа</td>\n",
       "      <td>2Т 861</td>\n",
       "      <td>2,7%</td>\n",
       "      <td>Nasdaq</td>\n",
       "      <td>11Т 891</td>\n",
       "      <td>2,6%</td>\n",
       "      <td>ааИбаКаОаЙаН</td>\n",
       "      <td>15Т 496</td>\n",
       "      <td>-0,6%</td>\n",
       "      <td>USD/RUB</td>\n",
       "      <td>768835</td>\n",
       "      <td>0,1%</td>\n",
       "    </tr>\n",
       "    <tr>\n",
       "      <th>1</th>\n",
       "      <td>а аЂаЁ</td>\n",
       "      <td>1Т 171</td>\n",
       "      <td>5,7%</td>\n",
       "      <td>S&amp;P500</td>\n",
       "      <td>3Т 510</td>\n",
       "      <td>2,0%</td>\n",
       "      <td>ааЕббб</td>\n",
       "      <td>401</td>\n",
       "      <td>-1,7%</td>\n",
       "      <td>EUR/RUB</td>\n",
       "      <td>909070</td>\n",
       "      <td>0,2%</td>\n",
       "    </tr>\n",
       "    <tr>\n",
       "      <th>2</th>\n",
       "      <td>Dow</td>\n",
       "      <td>28Т 390</td>\n",
       "      <td>2,0%</td>\n",
       "      <td>FTSE100</td>\n",
       "      <td>5Т 906</td>\n",
       "      <td>0,4%</td>\n",
       "      <td>ааОаЛаОбаО</td>\n",
       "      <td>1Т 937</td>\n",
       "      <td>-0,6%</td>\n",
       "      <td>EUR/USD</td>\n",
       "      <td>11821</td>\n",
       "      <td>0,0%</td>\n",
       "    </tr>\n",
       "  </tbody>\n",
       "</table>\n",
       "</div>"
      ],
      "text/plain": [
       "         0        1     2        3        4     5               6        7   \\\n",
       "0  аааа   2Т 861  2,7%   Nasdaq  11Т 891  2,6%  ааИбаКаОаЙаН  15Т 496   \n",
       "1    а аЂаЁ   1Т 171  5,7%   S&P500   3Т 510  2,0%      ааЕббб      401   \n",
       "2       Dow  28Т 390  2,0%  FTSE100   5Т 906  0,4%    ааОаЛаОбаО   1Т 937   \n",
       "\n",
       "      8        9       10    11  \n",
       "0  -0,6%  USD/RUB  768835  0,1%  \n",
       "1  -1,7%  EUR/RUB  909070  0,2%  \n",
       "2  -0,6%  EUR/USD   11821  0,0%  "
      ]
     },
     "execution_count": 57,
     "metadata": {},
     "output_type": "execute_result"
    }
   ],
   "source": [
    "import pandas as pd\n",
    "\n",
    "pd.read_html(\"https://www.finanz.ru/valyuty/v-realnom-vremeni\")[0]\n"
   ]
  }
 ],
 "metadata": {
  "kernelspec": {
   "display_name": "Python 3",
   "language": "python",
   "name": "python3"
  },
  "language_info": {
   "codemirror_mode": {
    "name": "ipython",
    "version": 3
   },
   "file_extension": ".py",
   "mimetype": "text/x-python",
   "name": "python",
   "nbconvert_exporter": "python",
   "pygments_lexer": "ipython3",
   "version": "3.8.3"
  }
 },
 "nbformat": 4,
 "nbformat_minor": 4
}
